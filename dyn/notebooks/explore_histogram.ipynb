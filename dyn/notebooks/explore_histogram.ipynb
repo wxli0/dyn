{
 "cells": [
  {
   "cell_type": "markdown",
   "id": "d1cebad5",
   "metadata": {},
   "source": [
    "# Elastic Metric for Cell Boundary Analysis"
   ]
  },
  {
   "cell_type": "markdown",
   "id": "62df4959",
   "metadata": {},
   "source": [
    "## Notebook setup"
   ]
  },
  {
   "cell_type": "code",
   "execution_count": 1,
   "id": "2ef3ea3f",
   "metadata": {},
   "outputs": [
    {
     "name": "stderr",
     "output_type": "stream",
     "text": [
      "INFO: Using numpy backend\n"
     ]
    },
    {
     "name": "stdout",
     "output_type": "stream",
     "text": [
      "Working directory:  /home/wanxinli/dyn\n",
      "Directory added to path:  /home/wanxinli\n"
     ]
    }
   ],
   "source": [
    "import os\n",
    "import subprocess\n",
    "import geomstats.backend as gs\n",
    "\n",
    "geomstats_gitroot_path = subprocess.check_output(\n",
    "    [\"git\", \"rev-parse\", \"--show-toplevel\"], universal_newlines=True\n",
    ")\n",
    "os.chdir(geomstats_gitroot_path[:-1])\n",
    "print(\"Working directory: \", os.getcwd())\n",
    "\n",
    "import warnings\n",
    "warnings.filterwarnings(\"ignore\")\n",
    "\n",
    "import sys\n",
    "sys_dir = os.path.dirname(os.getcwd()\n",
    "                          )\n",
    "sys.path.append(sys_dir)\n",
    "print(\"Directory added to path: \", sys_dir)"
   ]
  },
  {
   "cell_type": "markdown",
   "id": "83288799",
   "metadata": {},
   "source": [
    "## Standard imports"
   ]
  },
  {
   "cell_type": "code",
   "execution_count": 2,
   "id": "df105887",
   "metadata": {},
   "outputs": [],
   "source": [
    "import copy\n",
    "import matplotlib.pyplot as plt\n",
    "import numpy as np\n",
    "import pandas as pd"
   ]
  },
  {
   "cell_type": "code",
   "execution_count": 3,
   "id": "7f2da64f",
   "metadata": {},
   "outputs": [],
   "source": [
    "from scipy import stats\n",
    "\n",
    "from sklearn.cluster import KMeans\n",
    "from sklearn.metrics import confusion_matrix\n",
    "from sklearn.decomposition import PCA\n",
    "\n",
    "from scipy.optimize import linear_sum_assignment as linear_assignment\n",
    "from sklearn import manifold\n",
    "from joblib import Parallel, delayed\n",
    "from numba import jit, njit, prange"
   ]
  },
  {
   "cell_type": "markdown",
   "id": "559c6ef6",
   "metadata": {},
   "source": [
    "## Project-specific imports"
   ]
  },
  {
   "cell_type": "code",
   "execution_count": 4,
   "id": "a41f8729",
   "metadata": {},
   "outputs": [],
   "source": [
    "import geomstats.datasets.utils as data_utils\n",
    "from geomstats.geometry.euclidean import Euclidean\n",
    "from geomstats.geometry.discrete_curves import DiscreteCurves, ClosedDiscreteCurves, L2CurvesMetric\n",
    "\n",
    "from geomstats.learning.frechet_mean import FrechetMean\n",
    "from geomstats.learning.kmeans import RiemannianKMeans\n",
    "from geomstats.learning.pca import TangentPCA\n"
   ]
  },
  {
   "cell_type": "markdown",
   "id": "158a6752",
   "metadata": {},
   "source": [
    "We import the space of curves shapes equipped with different elastic metrics:\n",
    "- the square root velocity metric (SRV), which is the canonical elastic metrics,\n",
    "- the generalized elastic metric with parameters a, b."
   ]
  },
  {
   "cell_type": "markdown",
   "id": "ee063373",
   "metadata": {},
   "source": [
    "# Load the dataset of interest"
   ]
  },
  {
   "cell_type": "markdown",
   "id": "e906e22c",
   "metadata": {},
   "source": [
    "We load an experimental cell dataset with `n_cells` and `n_sampling_points` sampled along the boundary of each cell. \n",
    "\n",
    "For faster notebook execution, use small value for `n_cells` and `n_sampling_points`."
   ]
  },
  {
   "cell_type": "code",
   "execution_count": 5,
   "id": "817aeddb",
   "metadata": {},
   "outputs": [
    {
     "name": "stdout",
     "output_type": "stream",
     "text": [
      "Total number of cells : 650\n",
      "['control' 'cytd' 'jasp']\n",
      "['dlm8' 'dunn']\n",
      "Will save figs to /home/wanxinli/dyn/dyn/saved_figs/osteosarcoma\n",
      "20230514_03:32:39\n"
     ]
    }
   ],
   "source": [
    "dataset_name = \"osteosarcoma\"  # \"osteosarcoma\" #  \"retinal\"\n",
    "# dataset_name = \"retinal\"\n",
    "assert dataset_name in [\"osteosarcoma\", \"retinal\"]\n",
    "cell_type = \"dunn\"\n",
    "all_cell_types = [\"dunn\", \"dlm8\"]\n",
    "\n",
    "if dataset_name == \"osteosarcoma\":\n",
    "    n_cells = 650\n",
    "    n_sampling_points = 100\n",
    "    lines_name = \"lines\"\n",
    "    treatments_name = \"mutations\"\n",
    "\n",
    "cells, lines, treatments = data_utils.load_cells()\n",
    "print(f\"Total number of cells : {len(cells)}\")\n",
    "\n",
    "TREATMENTS = gs.unique(treatments)\n",
    "print(TREATMENTS)\n",
    "LINES = gs.unique(lines)\n",
    "print(LINES)\n",
    "\n",
    "SAVEFIG = True\n",
    "if SAVEFIG:\n",
    "    figs_dir = os.path.join(os.getcwd(), f\"dyn/saved_figs/{dataset_name}\")\n",
    "    print(f\"Will save figs to {figs_dir}\")\n",
    "    from datetime import datetime\n",
    "\n",
    "    now = datetime.now().strftime(\"%Y%m%d_%H:%M:%S\")\n",
    "    print(now)"
   ]
  },
  {
   "cell_type": "markdown",
   "id": "19ba119c",
   "metadata": {},
   "source": [
    "The variable `quotient` is used to define what is called a `cell_shape`.\n",
    "- `cells`: has only removed the effect of the translation\n",
    "- `cell_shapes`: additionally removes what is written in `quotient`: the effect of the scaling, and of the rotation.\n",
    "\n",
    "Note: in the previous analysis, we were using the linear euclidean metric on cells (without translation), and the srv metric on cell shapes (without translation, scaling and rotation).\n",
    "\n",
    "This notebook compares the linear versus the srv metric on data on which the same preprocessing has been performed."
   ]
  },
  {
   "cell_type": "code",
   "execution_count": 6,
   "id": "fcce4d2d",
   "metadata": {},
   "outputs": [
    {
     "name": "stdout",
     "output_type": "stream",
     "text": [
      "control :\n",
      "\t 114 dlm8\n",
      "\t 204 dunn\n",
      "cytd :\n",
      "\t 82 dlm8\n",
      "\t 93 dunn\n",
      "jasp :\n",
      "\t 62 dlm8\n",
      "\t 95 dunn\n"
     ]
    },
    {
     "data": {
      "text/html": [
       "<div>\n",
       "<style scoped>\n",
       "    .dataframe tbody tr th:only-of-type {\n",
       "        vertical-align: middle;\n",
       "    }\n",
       "\n",
       "    .dataframe tbody tr th {\n",
       "        vertical-align: top;\n",
       "    }\n",
       "\n",
       "    .dataframe thead th {\n",
       "        text-align: right;\n",
       "    }\n",
       "</style>\n",
       "<table border=\"1\" class=\"dataframe\">\n",
       "  <thead>\n",
       "    <tr style=\"text-align: right;\">\n",
       "      <th></th>\n",
       "      <th>dlm8</th>\n",
       "      <th>dunn</th>\n",
       "    </tr>\n",
       "  </thead>\n",
       "  <tbody>\n",
       "    <tr>\n",
       "      <th>control</th>\n",
       "      <td>114.0</td>\n",
       "      <td>204.0</td>\n",
       "    </tr>\n",
       "    <tr>\n",
       "      <th>cytd</th>\n",
       "      <td>82.0</td>\n",
       "      <td>93.0</td>\n",
       "    </tr>\n",
       "    <tr>\n",
       "      <th>jasp</th>\n",
       "      <td>62.0</td>\n",
       "      <td>95.0</td>\n",
       "    </tr>\n",
       "  </tbody>\n",
       "</table>\n",
       "</div>"
      ],
      "text/plain": [
       "          dlm8   dunn\n",
       "control  114.0  204.0\n",
       "cytd      82.0   93.0\n",
       "jasp      62.0   95.0"
      ]
     },
     "metadata": {},
     "output_type": "display_data"
    }
   ],
   "source": [
    "ds = {}\n",
    "\n",
    "n_cells_arr = gs.zeros((3, 2))\n",
    "\n",
    "for i, treatment in enumerate(TREATMENTS):\n",
    "    print(f\"{treatment} :\")\n",
    "    ds[treatment] = {}\n",
    "    for j, line in enumerate(LINES):\n",
    "        to_keep = gs.array(\n",
    "            [\n",
    "                one_treatment == treatment and one_line == line\n",
    "                for one_treatment, one_line in zip(treatments, lines)\n",
    "            ]\n",
    "        )\n",
    "        ds[treatment][line] = [\n",
    "            cell_i for cell_i, to_keep_i in zip(cells, to_keep) if to_keep_i\n",
    "        ]\n",
    "        nb = len(ds[treatment][line])\n",
    "        print(f\"\\t {nb} {line}\")\n",
    "        n_cells_arr[i, j] = nb\n",
    "\n",
    "n_cells_df = pd.DataFrame({\"dlm8\": n_cells_arr[:, 0], \"dunn\": n_cells_arr[:, 1]})\n",
    "n_cells_df = n_cells_df.set_index(TREATMENTS)\n",
    "\n",
    "display(n_cells_df)\n",
    "# display(ds)"
   ]
  },
  {
   "cell_type": "code",
   "execution_count": 7,
   "id": "4a25f86c",
   "metadata": {},
   "outputs": [],
   "source": [
    "def interpolate(curve, nb_points):\n",
    "    \"\"\"Interpolate a discrete curve with nb_points from a discrete curve.\n",
    "\n",
    "    Returns\n",
    "    -------\n",
    "    interpolation : discrete curve with nb_points points\n",
    "    \"\"\"\n",
    "    old_length = curve.shape[0]\n",
    "    interpolation = gs.zeros((nb_points, 2))\n",
    "    incr = old_length / nb_points\n",
    "    pos = 0\n",
    "    for i in range(nb_points):\n",
    "        index = int(gs.floor(pos))\n",
    "        interpolation[i] = curve[index] + (pos - index) * (\n",
    "            curve[(index + 1) % old_length] - curve[index]\n",
    "        )\n",
    "        pos += incr\n",
    "    return interpolation\n",
    "\n",
    "\n",
    "k_sampling_points = 200"
   ]
  },
  {
   "cell_type": "code",
   "execution_count": 8,
   "id": "9bae64a2",
   "metadata": {},
   "outputs": [],
   "source": [
    "cell_rand = cells[gs.random.randint(len(cells))]\n",
    "cell_interpolation = interpolate(cell_rand, k_sampling_points)"
   ]
  },
  {
   "cell_type": "code",
   "execution_count": 9,
   "id": "084aa36d",
   "metadata": {},
   "outputs": [],
   "source": [
    "def apply_func_to_ds(input_ds, func):\n",
    "    \"\"\"Apply the input function func to the input dictionnary input_ds.\n",
    "\n",
    "    This function goes through the dictionnary structure and applies\n",
    "    func to every cell in input_ds[treatment][line].\n",
    "\n",
    "    It stores the result in a dictionnary output_ds that is returned\n",
    "    to the user.\n",
    "\n",
    "    Parameters\n",
    "    ----------\n",
    "    input_ds : dict\n",
    "        Input dictionnary, with keys treatment-line.\n",
    "    func : callable\n",
    "        Function to be applied to the values of the dictionnary, i.e.\n",
    "        the cells.\n",
    "\n",
    "    Returns\n",
    "    -------\n",
    "    output_ds : dict\n",
    "        Output dictionnary, with the same keys as input_ds.\n",
    "    \"\"\"\n",
    "    output_ds = {}\n",
    "    for treatment in TREATMENTS:\n",
    "        output_ds[treatment] = {}\n",
    "        for line in LINES:\n",
    "            output_list = []\n",
    "            for one_cell in input_ds[treatment][line]:\n",
    "                output_list.append(func(one_cell))\n",
    "            output_ds[treatment][line] = gs.array(output_list)\n",
    "    return output_ds"
   ]
  },
  {
   "cell_type": "code",
   "execution_count": 10,
   "id": "99732c94",
   "metadata": {},
   "outputs": [],
   "source": [
    "ds_interp = apply_func_to_ds(\n",
    "    input_ds=ds, func=lambda x: interpolate(x, k_sampling_points)\n",
    ")"
   ]
  },
  {
   "cell_type": "code",
   "execution_count": 11,
   "id": "83a79c7c",
   "metadata": {},
   "outputs": [
    {
     "name": "stdout",
     "output_type": "stream",
     "text": [
      "(204, 200, 2)\n"
     ]
    }
   ],
   "source": [
    "print(ds_interp[\"control\"][\"dunn\"].shape)"
   ]
  },
  {
   "cell_type": "code",
   "execution_count": 12,
   "id": "898aafe7",
   "metadata": {},
   "outputs": [],
   "source": [
    "import numpy as np\n",
    "\n",
    "def preprocess(curve, tol=1e-10):\n",
    "    \"\"\"Preprocess curve to ensure that there are no consecutive duplicate points.\n",
    "\n",
    "    Returns\n",
    "    -------\n",
    "    curve : discrete curve\n",
    "    \"\"\"\n",
    "\n",
    "    dist = curve[1:] - curve[:-1]\n",
    "    dist_norm = np.sqrt(np.sum(np.square(dist), axis=1))\n",
    "\n",
    "    if np.any( dist_norm < tol ):\n",
    "        for i in range(len(curve)-1):\n",
    "            if np.sqrt(np.sum(np.square(curve[i+1] - curve[i]), axis=0)) < tol:\n",
    "                curve[i+1] = (curve[i] + curve[i+2]) / 2\n",
    "\n",
    "    return curve"
   ]
  },
  {
   "cell_type": "code",
   "execution_count": 13,
   "id": "ec430356",
   "metadata": {},
   "outputs": [],
   "source": [
    "from geomstats.geometry.pre_shape import PreShapeSpace\n",
    "\n",
    "M_AMBIENT = 2\n",
    "\n",
    "PRESHAPE_SPACE = PreShapeSpace(m_ambient=M_AMBIENT, k_landmarks=k_sampling_points)\n",
    "\n",
    "PRESHAPE_SPACE.equip_with_group_action(\"rotations\")\n",
    "PRESHAPE_SPACE.equip_with_quotient_structure()\n",
    "\n",
    "\n",
    "def exhaustive_align(curve, base_curve):\n",
    "    \"\"\"Align curve to base_curve to minimize the L² distance.\n",
    "\n",
    "    Returns\n",
    "    -------\n",
    "    aligned_curve : discrete curve\n",
    "    \"\"\"\n",
    "    nb_sampling = len(curve)\n",
    "    distances = gs.zeros(nb_sampling)\n",
    "    base_curve = gs.array(base_curve)\n",
    "    for shift in range(nb_sampling):\n",
    "        reparametrized = [curve[(i + shift) % nb_sampling] for i in range(nb_sampling)]\n",
    "        aligned = PRESHAPE_SPACE.fiber_bundle.align(point=gs.array(reparametrized), base_point=base_curve)\n",
    "        distances[shift] = PRESHAPE_SPACE.embedding_space.metric.norm(\n",
    "            gs.array(aligned) - gs.array(base_curve)\n",
    "        )\n",
    "    shift_min = gs.argmin(distances)\n",
    "    reparametrized_min = [\n",
    "        curve[(i + shift_min) % nb_sampling] for i in range(nb_sampling)\n",
    "    ]\n",
    "    aligned_curve = PRESHAPE_SPACE.fiber_bundle.align(\n",
    "        point=gs.array(reparametrized_min), base_point=base_curve\n",
    "    )\n",
    "    return aligned_curve"
   ]
  },
  {
   "cell_type": "code",
   "execution_count": 14,
   "id": "b7d3e7ec",
   "metadata": {},
   "outputs": [
    {
     "name": "stdout",
     "output_type": "stream",
     "text": [
      "(204, 200, 2)\n",
      "Shape of BASE_CURVE: (200, 2)\n",
      "(204, 200, 2)\n"
     ]
    }
   ],
   "source": [
    "ds_proc = apply_func_to_ds(ds_interp, func=lambda x: preprocess(x))\n",
    "\n",
    "ds_proj = apply_func_to_ds(ds_proc, func=PRESHAPE_SPACE.projection)\n",
    "print(ds_proj[\"control\"][\"dunn\"].shape)\n",
    "\n",
    "BASE_CURVE = ds_proj[\"control\"][\"dunn\"][0]\n",
    "print(\"Shape of BASE_CURVE:\", BASE_CURVE.shape)\n",
    "\n",
    "ds_align = apply_func_to_ds(ds_proj, func=lambda x: exhaustive_align(x, BASE_CURVE))\n",
    "print(ds_align[\"control\"][\"dunn\"].shape)"
   ]
  },
  {
   "cell_type": "code",
   "execution_count": 15,
   "id": "0456f958",
   "metadata": {},
   "outputs": [
    {
     "name": "stdout",
     "output_type": "stream",
     "text": [
      "(650, 200, 2)\n"
     ]
    }
   ],
   "source": [
    "cell_shapes_list = []\n",
    "for treatment in TREATMENTS:\n",
    "    for line in LINES:\n",
    "        cell_shapes_list.extend(ds_align[treatment][line])\n",
    "\n",
    "cell_shapes = gs.array(cell_shapes_list)\n",
    "print(cell_shapes.shape)"
   ]
  },
  {
   "attachments": {},
   "cell_type": "markdown",
   "id": "31305c37",
   "metadata": {},
   "source": [
    "# Preprocessing"
   ]
  },
  {
   "attachments": {},
   "cell_type": "markdown",
   "id": "54281416",
   "metadata": {},
   "source": [
    "# Remove the cells of the other type\n"
   ]
  },
  {
   "cell_type": "code",
   "execution_count": 20,
   "id": "9820a922",
   "metadata": {},
   "outputs": [],
   "source": [
    "def remove_cells(cells, cell_shapes, lines, treatments, delete_indices):\n",
    "    \"\"\" \n",
    "    Remove cells of control group from cells, cell_shapes, lines, treatments,\n",
    "    the parameters returned from load_treated_osteosarcoma_cells\n",
    "    Also update n_cells\n",
    "\n",
    "    :param list[int] delete_indices: the indices to delete\n",
    "    \"\"\"\n",
    "    \n",
    "    # Delete elements\n",
    "    cells = np.delete(np.array(cells), delete_indices, axis=0)\n",
    "    cell_shapes = np.delete(np.array(cell_shapes), delete_indices, axis=0)\n",
    "    lines = list(np.delete(np.array(lines), delete_indices, axis=0))\n",
    "    treatments = list(np.delete(np.array(treatments), delete_indices, axis=0))\n",
    "    global n_cells\n",
    "    n_cells = cells.shape[0]\n",
    "\n",
    "    return cells, cell_shapes, lines, treatments"
   ]
  },
  {
   "cell_type": "code",
   "execution_count": 21,
   "id": "cccb5e10",
   "metadata": {},
   "outputs": [],
   "source": [
    "# Find all cells of the other type\n",
    "remove_indices = []\n",
    "remove_cell_type = copy.deepcopy(all_cell_types)\n",
    "remove_cell_type.remove(cell_type)\n",
    "remove_cell_type = remove_cell_type[0]\n",
    "for i in range(len(lines)):\n",
    "    if lines[i] == remove_cell_type:\n",
    "        remove_indices.append(i)\n",
    "\n",
    "# Delete all cells of the other type\n",
    "cells, cell_shapes, lines, treatments = remove_cells(cells, cell_shapes, lines, treatments, remove_indices)"
   ]
  },
  {
   "cell_type": "markdown",
   "id": "80a3954f",
   "metadata": {},
   "source": [
    "## Remove outliers by DeCOr-MDS using linear metric"
   ]
  },
  {
   "cell_type": "code",
   "execution_count": 22,
   "id": "10f1a0b2",
   "metadata": {},
   "outputs": [],
   "source": [
    "\"\"\" \n",
    "Only remove abnormal cells\n",
    "\"\"\"\n",
    "if cell_type == \"dunn\":\n",
    "    abnormal_outlier_indices = [89]\n",
    "    cells, cell_shapes, lines, treatments = remove_cells(cells, cell_shapes, lines, treatments, abnormal_outlier_indices)"
   ]
  },
  {
   "cell_type": "code",
   "execution_count": 23,
   "id": "15e43809",
   "metadata": {},
   "outputs": [
    {
     "name": "stdout",
     "output_type": "stream",
     "text": [
      "Dictionary associated to label \"lines\":\n",
      "{'dunn': 0}\n",
      "Dictionary associated to label \"mutations\":\n",
      "{'control': 0, 'cytd': 1, 'jasp': 2}\n"
     ]
    }
   ],
   "source": [
    "lines_dict = {lab: i_lab for i_lab, lab in enumerate(np.unique(lines))}\n",
    "treatments_dict = {lab: i_lab for i_lab, lab in enumerate(np.unique(treatments))}\n",
    "\n",
    "print(f\"Dictionary associated to label \\\"{lines_name}\\\":\")\n",
    "print(lines_dict)\n",
    "print(f\"Dictionary associated to label \\\"{treatments_name}\\\":\")\n",
    "print(treatments_dict)"
   ]
  },
  {
   "cell_type": "markdown",
   "id": "7d9c8f10",
   "metadata": {},
   "source": [
    "# Distances to the mean(s)"
   ]
  },
  {
   "cell_type": "markdown",
   "id": "0d6d08e3",
   "metadata": {},
   "source": [
    "We compute the distances between:\n",
    "- every cell in the dataset\n",
    "- and the mean cell shape, according to the different metrics: Euclidean (Linear), SRV and Elastic Metrics."
   ]
  },
  {
   "cell_type": "code",
   "execution_count": 56,
   "id": "72d895f3",
   "metadata": {},
   "outputs": [],
   "source": [
    "R2 = Euclidean(dim=2)\n",
    "CLOSED_CURVES_SPACE = ClosedDiscreteCurves(R2, k_sampling_points=200)\n",
    "CURVES_SPACE_SRV = DiscreteCurves(R2, k_sampling_points=200)\n",
    "\n",
    "SRV_METRIC = CURVES_SPACE_SRV.metric\n",
    "\n",
    "ELASTIC_METRIC = {}\n",
    "METRICS = {}\n",
    "METRICS[\"Linear\"] = L2CurvesMetric\n",
    "METRICS[\"SRV\"] = SRV_METRIC"
   ]
  },
  {
   "cell_type": "code",
   "execution_count": 57,
   "id": "d59304ca",
   "metadata": {},
   "outputs": [],
   "source": [
    "means = {}\n",
    "\n",
    "means[\"Linear\"] = gs.mean(cell_shapes, axis=0)\n",
    "means[\"SRV\"] = FrechetMean(\n",
    "        metric=SRV_METRIC, \n",
    "        method=\"default\").fit(cell_shapes).estimate_"
   ]
  },
  {
   "cell_type": "code",
   "execution_count": 58,
   "id": "a9198ea5",
   "metadata": {},
   "outputs": [],
   "source": [
    "dists = {}\n",
    "\n",
    "dists[\"Linear\"] = [gs.linalg.norm(means[\"Linear\"] - cell) / n_sampling_points for cell in cell_shapes]\n",
    "\n",
    "dists[\"SRV\"] = [\n",
    "    SRV_METRIC.dist(means[\"SRV\"], cell) / n_sampling_points for cell in cell_shapes\n",
    "]"
   ]
  },
  {
   "cell_type": "code",
   "execution_count": 59,
   "id": "9052dfda",
   "metadata": {},
   "outputs": [],
   "source": [
    "dists_summary = pd.DataFrame(\n",
    "    data={\n",
    "        lines_name: lines,\n",
    "        treatments_name: treatments,\n",
    "        \"Linear\": dists[\"Linear\"],\n",
    "        \"SRV\": dists[\"SRV\"],\n",
    "    }\n",
    ")"
   ]
  },
  {
   "cell_type": "code",
   "execution_count": 60,
   "id": "9fcf4320",
   "metadata": {},
   "outputs": [
    {
     "data": {
      "text/html": [
       "<div>\n",
       "<style scoped>\n",
       "    .dataframe tbody tr th:only-of-type {\n",
       "        vertical-align: middle;\n",
       "    }\n",
       "\n",
       "    .dataframe tbody tr th {\n",
       "        vertical-align: top;\n",
       "    }\n",
       "\n",
       "    .dataframe thead th {\n",
       "        text-align: right;\n",
       "    }\n",
       "</style>\n",
       "<table border=\"1\" class=\"dataframe\">\n",
       "  <thead>\n",
       "    <tr style=\"text-align: right;\">\n",
       "      <th></th>\n",
       "      <th>lines</th>\n",
       "      <th>mutations</th>\n",
       "      <th>Linear</th>\n",
       "      <th>SRV</th>\n",
       "    </tr>\n",
       "  </thead>\n",
       "  <tbody>\n",
       "    <tr>\n",
       "      <th>0</th>\n",
       "      <td>dunn</td>\n",
       "      <td>control</td>\n",
       "      <td>0.001144</td>\n",
       "      <td>0.004242</td>\n",
       "    </tr>\n",
       "    <tr>\n",
       "      <th>1</th>\n",
       "      <td>dunn</td>\n",
       "      <td>control</td>\n",
       "      <td>0.001390</td>\n",
       "      <td>0.004319</td>\n",
       "    </tr>\n",
       "    <tr>\n",
       "      <th>2</th>\n",
       "      <td>dunn</td>\n",
       "      <td>control</td>\n",
       "      <td>0.002194</td>\n",
       "      <td>0.005906</td>\n",
       "    </tr>\n",
       "    <tr>\n",
       "      <th>3</th>\n",
       "      <td>dunn</td>\n",
       "      <td>control</td>\n",
       "      <td>0.001118</td>\n",
       "      <td>0.003754</td>\n",
       "    </tr>\n",
       "    <tr>\n",
       "      <th>4</th>\n",
       "      <td>dunn</td>\n",
       "      <td>control</td>\n",
       "      <td>0.002810</td>\n",
       "      <td>0.007085</td>\n",
       "    </tr>\n",
       "  </tbody>\n",
       "</table>\n",
       "</div>"
      ],
      "text/plain": [
       "  lines mutations    Linear       SRV\n",
       "0  dunn   control  0.001144  0.004242\n",
       "1  dunn   control  0.001390  0.004319\n",
       "2  dunn   control  0.002194  0.005906\n",
       "3  dunn   control  0.001118  0.003754\n",
       "4  dunn   control  0.002810  0.007085"
      ]
     },
     "execution_count": 60,
     "metadata": {},
     "output_type": "execute_result"
    }
   ],
   "source": [
    "dists_summary.head()"
   ]
  },
  {
   "attachments": {},
   "cell_type": "markdown",
   "id": "25661ba7",
   "metadata": {},
   "source": [
    "# Histograms of distance to the mean"
   ]
  },
  {
   "cell_type": "code",
   "execution_count": 61,
   "id": "c135d0af",
   "metadata": {},
   "outputs": [],
   "source": [
    "xx = {}\n",
    "\n",
    "for metric_name in [\"Linear\", \"SRV\"]:\n",
    "    min_dists = gs.array(min(dists_summary[metric_name]))\n",
    "    max_dists = gs.array(max(dists_summary[metric_name]))\n",
    "    xx[metric_name] = gs.linspace(gs.floor(min_dists), gs.ceil(max_dists), 100)"
   ]
  },
  {
   "cell_type": "code",
   "execution_count": 62,
   "id": "833ed74a",
   "metadata": {},
   "outputs": [],
   "source": [
    "def hist_dists_to_means(labels, labels_name):\n",
    "    \"\"\" \n",
    "    To the global mean\n",
    "    \"\"\"\n",
    "        \n",
    "    title_nums = [\"(a)\", \"(b)\"]\n",
    "    color_encoding = {\"control\": \"blue\", \"cytd\": \"red\", \"jasp\": \"orange\"}\n",
    "\n",
    "    fig, axs = plt.subplots(1, 2, figsize=(20, 8))\n",
    "\n",
    "    for i, dist_name in enumerate([\"Linear\", \"SRV\"]):\n",
    "        for i_lab, label in enumerate(np.unique(labels)):\n",
    "            ds = dists_summary[dist_name][dists_summary[labels_name] == label]\n",
    "            print(\"ds shape is:\", ds.shape)\n",
    "            (n, bins, patches) = axs[i].hist(\n",
    "                ds, bins=20, alpha=0.4, density=True, label=label, \\\n",
    "                color = color_encoding[label]\n",
    "            ) \n",
    "            print(\"n is:\", n)\n",
    "            print(\"bins is:\", bins)\n",
    "            print(\"patches is:\", patches)\n",
    "            kde = stats.gaussian_kde(ds)\n",
    "\n",
    "            # axs[i].plot(xx[dist_name], kde(xx[dist_name]), \\\n",
    "            #             color = color_encoding[label]\n",
    "            #             )\n",
    "            axs[i].set_xlim(xmax=0.015)\n",
    "        if dist_name == \"SRV\":\n",
    "            axs[i].set_xlim(xmax=0.015)\n",
    "        axs[i].legend()\n",
    "        # axs[i].set_title(f\"{title_nums[i]} Distances to {dist_name} mean\\n\")\n",
    "\n"
   ]
  },
  {
   "cell_type": "code",
   "execution_count": 63,
   "id": "0d72cc93",
   "metadata": {},
   "outputs": [
    {
     "name": "stdout",
     "output_type": "stream",
     "text": [
      "ds shape is: (203,)\n",
      "n is: [310.74923347 704.3649292  952.96431598 725.08154476 393.61569573\n",
      " 372.89908016 227.88277121 207.16615565 145.01630895  41.43323113\n",
      "  41.43323113   0.          62.14984669   0.           0.\n",
      "   0.           0.           0.           0.          20.71661556]\n",
      "bins is: [0.00098032 0.0012181  0.00145589 0.00169367 0.00193146 0.00216924\n",
      " 0.00240703 0.00264481 0.0028826  0.00312039 0.00335817 0.00359596\n",
      " 0.00383374 0.00407153 0.00430931 0.0045471  0.00478488 0.00502267\n",
      " 0.00526045 0.00549824 0.00573602]\n",
      "patches is: <BarContainer object of 20 artists>\n",
      "ds shape is: (93,)\n",
      "n is: [110.03195884 165.04793826 440.12783536 275.0798971  275.0798971\n",
      " 330.09587652 275.0798971  550.1597942  385.11185594 220.06391768\n",
      " 550.1597942  550.1597942  165.04793826 385.11185594 110.03195884\n",
      " 110.03195884  55.01597942  55.01597942  55.01597942  55.01597942]\n",
      "bins is: [0.00178586 0.0019813  0.00217675 0.0023722  0.00256764 0.00276309\n",
      " 0.00295854 0.00315398 0.00334943 0.00354488 0.00374032 0.00393577\n",
      " 0.00413122 0.00432666 0.00452211 0.00471756 0.004913   0.00510845\n",
      " 0.0053039  0.00549934 0.00569479]\n",
      "patches is: <BarContainer object of 20 artists>\n",
      "ds shape is: (95,)\n",
      "n is: [ 131.52433291  131.52433291  394.57299872  460.33516517  526.09733162\n",
      "  920.67033034  657.62166453 1052.19466325  394.57299872  723.38383098\n",
      "  263.04866581  131.52433291    0.           65.76216645  197.28649936\n",
      "   65.76216645    0.           65.76216645    0.           65.76216645]\n",
      "bins is: [0.00124136 0.00140143 0.0015615  0.00172156 0.00188163 0.0020417\n",
      " 0.00220176 0.00236183 0.00252189 0.00268196 0.00284203 0.00300209\n",
      " 0.00316216 0.00332223 0.00348229 0.00364236 0.00380243 0.00396249\n",
      " 0.00412256 0.00428263 0.00444269]\n",
      "patches is: <BarContainer object of 20 artists>\n",
      "ds shape is: (203,)\n",
      "n is: [532.74977196 597.32550189 242.15898725 145.29539235  80.71966242\n",
      " 113.00752738 177.58325732 193.7271898  161.43932484 274.44685222\n",
      " 129.15145987 113.00752738 145.29539235 113.00752738  96.8635949\n",
      "  32.28786497  48.43179745  48.43179745  16.14393248  16.14393248]\n",
      "bins is: [0.00348849 0.00379362 0.00409876 0.0044039  0.00470903 0.00501417\n",
      " 0.00531931 0.00562444 0.00592958 0.00623472 0.00653985 0.00684499\n",
      " 0.00715013 0.00745527 0.0077604  0.00806554 0.00837068 0.00867581\n",
      " 0.00898095 0.00928609 0.00959122]\n",
      "patches is: <BarContainer object of 20 artists>\n",
      "ds shape is: (93,)\n",
      "n is: [ 28.39359989   0.          28.39359989  28.39359989  28.39359989\n",
      "  85.18079967  85.18079967  85.18079967 141.96799945 255.542399\n",
      " 170.36159933 198.75519922 255.542399   340.72319867 312.32959878\n",
      "  85.18079967 198.75519922 170.36159933  56.78719978  85.18079967]\n",
      "bins is: [0.00458887 0.00496758 0.00534628 0.00572498 0.00610368 0.00648238\n",
      " 0.00686108 0.00723978 0.00761848 0.00799718 0.00837589 0.00875459\n",
      " 0.00913329 0.00951199 0.00989069 0.01026939 0.01064809 0.01102679\n",
      " 0.01140549 0.0117842  0.0121629 ]\n",
      "patches is: <BarContainer object of 20 artists>\n",
      "ds shape is: (95,)\n",
      "n is: [142.34724887  94.89816591   0.         142.34724887 189.79633183\n",
      " 142.34724887 237.24541478 332.1435807  237.24541478 332.1435807\n",
      " 237.24541478 474.49082957 521.93991252 521.93991252 237.24541478\n",
      " 237.24541478  94.89816591 142.34724887  47.44908296 142.34724887]\n",
      "bins is: [0.00483989 0.00506173 0.00528358 0.00550542 0.00572727 0.00594911\n",
      " 0.00617095 0.0063928  0.00661464 0.00683649 0.00705833 0.00728018\n",
      " 0.00750202 0.00772387 0.00794571 0.00816755 0.0083894  0.00861124\n",
      " 0.00883309 0.00905493 0.00927678]\n",
      "patches is: <BarContainer object of 20 artists>\n"
     ]
    },
    {
     "data": {
      "image/png": "[encoded data removed]",
      "text/plain": [
       "<Figure size 1440x576 with 2 Axes>"
      ]
     },
     "metadata": {
      "needs_background": "light"
     },
     "output_type": "display_data"
    }
   ],
   "source": [
    "hist_dists_to_means(treatments, treatments_name)\n",
    "if SAVEFIG:\n",
    "    plt.savefig(os.path.join(figs_dir, f\"{now}_{cell_type}_dist_to_means_by_{treatments_name}.pdf\"))"
   ]
  },
  {
   "cell_type": "code",
   "execution_count": 64,
   "id": "c76808bd",
   "metadata": {},
   "outputs": [],
   "source": [
    "mode_1_indices = []\n",
    "mode_2_indices = []\n",
    "for index, row in dists_summary.iterrows():\n",
    "    if row['mutations'] == 'control' and (row['SRV'] > 0.0037 and row['SRV'] < 0.0041):\n",
    "        mode_1_indices.append(index)\n",
    "    elif row['mutations'] == 'control' and (row['SRV'] > 0.0062 and row['SRV'] < 0.0066):\n",
    "        mode_2_indices.append(index)"
   ]
  },
  {
   "cell_type": "code",
   "execution_count": 65,
   "id": "67328cc4",
   "metadata": {},
   "outputs": [
    {
     "name": "stdout",
     "output_type": "stream",
     "text": [
      "55\n",
      "18\n"
     ]
    }
   ],
   "source": [
    "print(len(mode_1_indices)) \n",
    "print(len(mode_2_indices))"
   ]
  },
  {
   "cell_type": "code",
   "execution_count": 66,
   "id": "80160697",
   "metadata": {},
   "outputs": [
    {
     "data": {
      "text/plain": [
       "(391, 200, 2)"
      ]
     },
     "execution_count": 66,
     "metadata": {},
     "output_type": "execute_result"
    }
   ],
   "source": [
    "cell_shapes.shape"
   ]
  },
  {
   "cell_type": "code",
   "execution_count": 77,
   "id": "75cc3c1e",
   "metadata": {},
   "outputs": [
    {
     "name": "stdout",
     "output_type": "stream",
     "text": [
      "(200, 2)\n"
     ]
    },
    {
     "data": {
      "image/png": "[encoded data removed]",
      "text/plain": [
       "<Figure size 432x288 with 2 Axes>"
      ]
     },
     "metadata": {
      "needs_background": "light"
     },
     "output_type": "display_data"
    }
   ],
   "source": [
    "mode_means = {}\n",
    "\n",
    "mode_means[\"mode 1\"] = FrechetMean(\n",
    "        metric=SRV_METRIC, \n",
    "        method=\"default\").fit(cell_shapes[mode_1_indices]).estimate_\n",
    "mode_means[\"mode 2\"] = FrechetMean(\n",
    "        metric=SRV_METRIC, \n",
    "        method=\"default\").fit(cell_shapes[mode_2_indices]).estimate_\n",
    "\n",
    "fig = plt.figure()\n",
    "print(mode_means[\"mode 1\"].shape)\n",
    "for i, (mean_name, mean) in enumerate(mode_means.items()):\n",
    "    ax = fig.add_subplot(1, 2,  i+1)\n",
    "    # mean = CLOSED_CURVES_SPACE.one_srv_projection(mean)\n",
    "    mean = CURVES_SPACE_SRV.projection(mean)\n",
    "    ax.plot(mean[:, 0], mean[:, 1], \"black\")\n",
    "    ax.set_aspect(\"equal\")\n",
    "    ax.axis(\"off\") \n",
    "if SAVEFIG:\n",
    "    plt.savefig(os.path.join(figs_dir, f\"{now}_{cell_type}_mode_closed_means.svg\"))"
   ]
  },
  {
   "cell_type": "code",
   "execution_count": null,
   "id": "1763dbc1",
   "metadata": {},
   "outputs": [],
   "source": []
  }
 ],
 "metadata": {
  "kernelspec": {
   "display_name": "dyn",
   "language": "python",
   "name": "python3"
  },
  "language_info": {
   "codemirror_mode": {
    "name": "ipython",
    "version": 3
   },
   "file_extension": ".py",
   "mimetype": "text/x-python",
   "name": "python",
   "nbconvert_exporter": "python",
   "pygments_lexer": "ipython3",
   "version": "3.8.16"
  },
  "vscode": {
   "interpreter": {
    "hash": "0b1d30a6b3488ac23ee1dfb7258a5542a73c870866e508c7e2014c7260e6b4c6"
   }
  }
 },
 "nbformat": 4,
 "nbformat_minor": 5
}
