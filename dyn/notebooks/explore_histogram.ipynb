{
 "cells": [
  {
   "cell_type": "markdown",
   "id": "d1cebad5",
   "metadata": {},
   "source": [
    "# Elastic Metric for Cell Boundary Analysis"
   ]
  },
  {
   "cell_type": "markdown",
   "id": "62df4959",
   "metadata": {},
   "source": [
    "## Notebook setup"
   ]
  },
  {
   "cell_type": "code",
   "execution_count": 1,
   "id": "2ef3ea3f",
   "metadata": {},
   "outputs": [
    {
     "name": "stderr",
     "output_type": "stream",
     "text": [
      "INFO: Using numpy backend\n"
     ]
    },
    {
     "name": "stdout",
     "output_type": "stream",
     "text": [
      "Working directory:  /home/wanxinli/dyn\n",
      "Directory added to path:  /home/wanxinli\n"
     ]
    }
   ],
   "source": [
    "import os\n",
    "import subprocess\n",
    "import geomstats.backend as gs\n",
    "\n",
    "geomstats_gitroot_path = subprocess.check_output(\n",
    "    [\"git\", \"rev-parse\", \"--show-toplevel\"], universal_newlines=True\n",
    ")\n",
    "os.chdir(geomstats_gitroot_path[:-1])\n",
    "print(\"Working directory: \", os.getcwd())\n",
    "\n",
    "import warnings\n",
    "warnings.filterwarnings(\"ignore\")\n",
    "\n",
    "import sys\n",
    "sys_dir = os.path.dirname(os.getcwd()\n",
    "                          )\n",
    "sys.path.append(sys_dir)\n",
    "print(\"Directory added to path: \", sys_dir)"
   ]
  },
  {
   "cell_type": "markdown",
   "id": "83288799",
   "metadata": {},
   "source": [
    "## Standard imports"
   ]
  },
  {
   "cell_type": "code",
   "execution_count": 2,
   "id": "df105887",
   "metadata": {},
   "outputs": [],
   "source": [
    "import copy\n",
    "import matplotlib.pyplot as plt\n",
    "import numpy as np\n",
    "import pandas as pd"
   ]
  },
  {
   "cell_type": "code",
   "execution_count": 3,
   "id": "7f2da64f",
   "metadata": {},
   "outputs": [],
   "source": [
    "from scipy import stats\n",
    "\n",
    "from sklearn.cluster import KMeans\n",
    "from sklearn.metrics import confusion_matrix\n",
    "from sklearn.decomposition import PCA\n",
    "\n",
    "from scipy.optimize import linear_sum_assignment as linear_assignment\n",
    "from sklearn import manifold\n",
    "from joblib import Parallel, delayed\n",
    "from numba import jit, njit, prange"
   ]
  },
  {
   "cell_type": "markdown",
   "id": "559c6ef6",
   "metadata": {},
   "source": [
    "## Project-specific imports"
   ]
  },
  {
   "cell_type": "code",
   "execution_count": 4,
   "id": "a41f8729",
   "metadata": {},
   "outputs": [],
   "source": [
    "from geomstats.geometry.euclidean import Euclidean\n",
    "from geomstats.geometry.discrete_curves import R2, DiscreteCurves, ClosedDiscreteCurves\n",
    "\n",
    "from geomstats.learning.frechet_mean import FrechetMean\n",
    "from geomstats.learning.kmeans import RiemannianKMeans\n",
    "from geomstats.learning.mdm import RiemannianMinimumDistanceToMeanClassifier\n",
    "from geomstats.learning.pca import TangentPCA\n",
    "\n",
    "import dyn.dyn.datasets.experimental as experimental\n",
    "import dyn.dyn.features.basic as basic\n",
    "import dyn.viz as viz\n",
    "\n",
    "viz.init_matplotlib()\n",
    "%config InlineBackend.figure_formats = ['svg']"
   ]
  },
  {
   "cell_type": "markdown",
   "id": "158a6752",
   "metadata": {},
   "source": [
    "We import the space of curves shapes equipped with different elastic metrics:\n",
    "- the square root velocity metric (SRV), which is the canonical elastic metrics,\n",
    "- the generalized elastic metric with parameters a, b."
   ]
  },
  {
   "cell_type": "markdown",
   "id": "ee063373",
   "metadata": {},
   "source": [
    "# Load the dataset of interest"
   ]
  },
  {
   "cell_type": "markdown",
   "id": "e906e22c",
   "metadata": {},
   "source": [
    "We load an experimental cell dataset with `n_cells` and `n_sampling_points` sampled along the boundary of each cell. \n",
    "\n",
    "For faster notebook execution, use small value for `n_cells` and `n_sampling_points`."
   ]
  },
  {
   "cell_type": "code",
   "execution_count": 24,
   "id": "817aeddb",
   "metadata": {},
   "outputs": [
    {
     "name": "stdout",
     "output_type": "stream",
     "text": [
      "Will save figs to /home/wanxinli/dyn/dyn/saved_figs/osteosarcoma\n",
      "20230217_19:16:49\n"
     ]
    }
   ],
   "source": [
    "dataset_name = \"osteosarcoma\"  # \"osteosarcoma\" #  \"retinal\"\n",
    "# dataset_name = \"retinal\"\n",
    "assert dataset_name in [\"osteosarcoma\", \"retinal\"]\n",
    "cell_type = \"dlm8\"\n",
    "all_cell_types = [\"dunn\", \"dlm8\"]\n",
    "\n",
    "if dataset_name == \"osteosarcoma\":\n",
    "    n_cells = 650\n",
    "    n_sampling_points = 100\n",
    "    labels_a_name = \"lines\"\n",
    "    labels_b_name = \"mutations\"\n",
    "elif dataset_name == \"retinal\":\n",
    "    # n_cells = 3871\n",
    "    # n_sampling_points = 100\n",
    "    n_cells = 100\n",
    "    n_sampling_points = 10\n",
    "    labels_a_name = \"surfaces\"\n",
    "    labels_b_name = \"mutations\"\n",
    "\n",
    "quotient = [\"rotation\"]\n",
    "\n",
    "SAVEFIG = True\n",
    "if SAVEFIG:\n",
    "    figs_dir = os.path.join(os.getcwd(), f\"dyn/saved_figs/{dataset_name}\")\n",
    "    print(f\"Will save figs to {figs_dir}\")\n",
    "    from datetime import datetime\n",
    "\n",
    "    now = datetime.now().strftime(\"%Y%m%d_%H:%M:%S\")\n",
    "    print(now)"
   ]
  },
  {
   "cell_type": "markdown",
   "id": "19ba119c",
   "metadata": {},
   "source": [
    "The variable `quotient` is used to define what is called a `cell_shape`.\n",
    "- `cells`: has only removed the effect of the translation\n",
    "- `cell_shapes`: additionally removes what is written in `quotient`: the effect of the scaling, and of the rotation.\n",
    "\n",
    "Note: in the previous analysis, we were using the linear euclidean metric on cells (without translation), and the srv metric on cell shapes (without translation, scaling and rotation).\n",
    "\n",
    "This notebook compares the linear versus the srv metric on data on which the same preprocessing has been performed."
   ]
  },
  {
   "cell_type": "code",
   "execution_count": 6,
   "id": "fcce4d2d",
   "metadata": {},
   "outputs": [
    {
     "name": "stdout",
     "output_type": "stream",
     "text": [
      "... Selecting only a random subset of 650 / 650 cells.\n",
      "... Interpolating: Cell boundaries have 100 samplings points.\n",
      "... Removing potential duplicate sampling points on cell boundaries.\n",
      "\n",
      "- Cells: quotienting translation.\n",
      "- Cell shapes: quotienting rotation.\n"
     ]
    }
   ],
   "source": [
    "if dataset_name == \"osteosarcoma\":\n",
    "    cells, cell_shapes, labels_a, labels_b = experimental.load_treated_osteosarcoma_cells(\n",
    "        n_cells=n_cells, n_sampling_points=n_sampling_points, quotient=quotient\n",
    "    )\n",
    "    \n",
    "else:\n",
    "    cells, cell_shapes, labels_a, labels_b = experimental.load_mutated_retinal_cells(\n",
    "        n_cells=n_cells, n_sampling_points=n_sampling_points, quotient=quotient\n",
    "    )"
   ]
  },
  {
   "attachments": {},
   "cell_type": "markdown",
   "id": "31305c37",
   "metadata": {},
   "source": [
    "# Preprocessing"
   ]
  },
  {
   "attachments": {},
   "cell_type": "markdown",
   "id": "54281416",
   "metadata": {},
   "source": [
    "# Remove dlm8 cells\n"
   ]
  },
  {
   "cell_type": "code",
   "execution_count": 7,
   "id": "9820a922",
   "metadata": {},
   "outputs": [],
   "source": [
    "def remove_cells(cells, cell_shapes, labels_a, labels_b, delete_indices):\n",
    "    \"\"\" \n",
    "    Remove cells of control group from cells, cell_shapes, labels_a, labels_b,\n",
    "    the parameters returned from load_treated_osteosarcoma_cells\n",
    "    Also update n_cells\n",
    "\n",
    "    :param list[int] delete_indices: the indices to delete\n",
    "    \"\"\"\n",
    "    \n",
    "    # Delete elements\n",
    "    cells = np.delete(np.array(cells), delete_indices, axis=0)\n",
    "    cell_shapes = np.delete(np.array(cell_shapes), delete_indices, axis=0)\n",
    "    labels_a = list(np.delete(np.array(labels_a), delete_indices, axis=0))\n",
    "    labels_b = list(np.delete(np.array(labels_b), delete_indices, axis=0))\n",
    "    global n_cells\n",
    "    n_cells = cells.shape[0]\n",
    "\n",
    "    return cells, cell_shapes, labels_a, labels_b"
   ]
  },
  {
   "cell_type": "code",
   "execution_count": 8,
   "id": "cccb5e10",
   "metadata": {},
   "outputs": [],
   "source": [
    "# Find all cells of the other type\n",
    "remove_indices = []\n",
    "remove_cell_type = copy.deepcopy(all_cell_types)\n",
    "remove_cell_type.remove(cell_type)\n",
    "remove_cell_type = remove_cell_type[0]\n",
    "for i in range(len(labels_a)):\n",
    "    if labels_a[i] == remove_cell_type:\n",
    "        remove_indices.append(i)\n",
    "\n",
    "# Delete all cells of the other type\n",
    "cells, cell_shapes, labels_a, labels_b = remove_cells(cells, cell_shapes, labels_a, labels_b, remove_indices)"
   ]
  },
  {
   "cell_type": "markdown",
   "id": "80a3954f",
   "metadata": {},
   "source": [
    "## Remove outliers by DeCOr-MDS using linear metric"
   ]
  },
  {
   "cell_type": "code",
   "execution_count": 9,
   "id": "10f1a0b2",
   "metadata": {},
   "outputs": [],
   "source": [
    "\"\"\" \n",
    "Only remove abnormal cells\n",
    "\"\"\"\n",
    "if cell_type == \"dunn\":\n",
    "    abnormal_outlier_indices = [89]\n",
    "\n",
    "    cells, cell_shapes, labels_a, labels_b = remove_cells(cells, cell_shapes, labels_a, labels_b, abnormal_outlier_indices)"
   ]
  },
  {
   "cell_type": "code",
   "execution_count": 10,
   "id": "15e43809",
   "metadata": {},
   "outputs": [
    {
     "name": "stdout",
     "output_type": "stream",
     "text": [
      "cells shape is: (258, 100, 2)\n",
      "cell_shapes shape is: (258, 100, 2)\n",
      "labels_a shape is: 258\n",
      "labels_b shape is: 258\n",
      "n_cells is: 258\n"
     ]
    }
   ],
   "source": [
    "print(\"cells shape is:\", cells.shape)\n",
    "print(\"cell_shapes shape is:\", cell_shapes.shape)\n",
    "print(\"labels_a shape is:\", len(labels_a))\n",
    "print(\"labels_b shape is:\", len(labels_b))\n",
    "print(\"n_cells is:\", n_cells)"
   ]
  },
  {
   "cell_type": "code",
   "execution_count": 11,
   "id": "7368657f",
   "metadata": {},
   "outputs": [
    {
     "name": "stdout",
     "output_type": "stream",
     "text": [
      "Dictionary associated to label \"lines\":\n",
      "{'dlm8': 0}\n",
      "Dictionary associated to label \"mutations\":\n",
      "{'control': 0, 'cytd': 1, 'jasp': 2}\n"
     ]
    }
   ],
   "source": [
    "labels_a_dict = {lab: i_lab for i_lab, lab in enumerate(np.unique(labels_a))}\n",
    "labels_b_dict = {lab: i_lab for i_lab, lab in enumerate(np.unique(labels_b))}\n",
    "\n",
    "print(f\"Dictionary associated to label \\\"{labels_a_name}\\\":\")\n",
    "print(labels_a_dict)\n",
    "print(f\"Dictionary associated to label \\\"{labels_b_name}\\\":\")\n",
    "print(labels_b_dict)"
   ]
  },
  {
   "cell_type": "markdown",
   "id": "e2873774",
   "metadata": {},
   "source": [
    "## Define Shape Spaces"
   ]
  },
  {
   "cell_type": "code",
   "execution_count": 12,
   "id": "adb708ca",
   "metadata": {},
   "outputs": [],
   "source": [
    "R1 = Euclidean(dim=1)\n",
    "CLOSED_CURVES_SPACE = ClosedDiscreteCurves(R2)\n",
    "CURVES_SPACE = DiscreteCurves(R2)\n",
    "SRV_METRIC = CURVES_SPACE.srv_metric\n",
    "L2_METRIC = CURVES_SPACE.l2_curves_metric\n",
    "\n",
    "ELASTIC_METRIC = {}\n",
    "METRICS = {}\n",
    "METRICS[\"Linear\"] = L2_METRIC\n",
    "METRICS[\"SRV\"] = SRV_METRIC"
   ]
  },
  {
   "cell_type": "markdown",
   "id": "052546a9",
   "metadata": {},
   "source": [
    "# Sample Means"
   ]
  },
  {
   "cell_type": "markdown",
   "id": "bf5db7d1",
   "metadata": {},
   "source": [
    "We compare results when computing the mean cell versus the mean cell shapes with different elastic metrics."
   ]
  },
  {
   "cell_type": "code",
   "execution_count": 13,
   "id": "4770fd8d",
   "metadata": {},
   "outputs": [],
   "source": [
    "means = {}\n",
    "\n",
    "means[\"Linear\"] = gs.mean(cell_shapes, axis=0)\n",
    "means[\"SRV\"] = FrechetMean(\n",
    "        metric=SRV_METRIC, \n",
    "        method=\"default\").fit(cell_shapes).estimate_\n",
    "\n",
    "ELASTIC_METRIC = {}\n",
    "AS = [1, 2, 0.75, 0.5, 0.25, 0.01] #, 1.6] #, 1.4, 1.2, 1, 0.5, 0.2, 0.1]\n",
    "BS = [0.5, 1, 0.5, 0.5, 0.5, 0.5] #, 2, 2, 2, 2, 2, 2, 2]\n",
    "for a, b in zip(AS, BS):\n",
    "    ELASTIC_METRIC[a, b] = DiscreteCurves(R2, a=a, b=b).elastic_metric"
   ]
  },
  {
   "cell_type": "code",
   "execution_count": 14,
   "id": "df998d54",
   "metadata": {},
   "outputs": [],
   "source": [
    "NEW_AS = [0.75, 0.5, 0.25, 0.01] #, 1.6] #, 1.4, 1.2, 1, 0.5, 0.2, 0.1]\n",
    "NEW_BS = [0.5, 0.5, 0.5, 0.5] #, 2, 2, 2, 2, 2, 2, 2]"
   ]
  },
  {
   "cell_type": "markdown",
   "id": "7d9c8f10",
   "metadata": {},
   "source": [
    "# Distances to the mean(s)"
   ]
  },
  {
   "cell_type": "markdown",
   "id": "0d6d08e3",
   "metadata": {},
   "source": [
    "We compute the distances between:\n",
    "- every cell in the dataset\n",
    "- and the mean cell shape, according to the different metrics: Euclidean (Linear), SRV and Elastic Metrics."
   ]
  },
  {
   "cell_type": "code",
   "execution_count": 15,
   "id": "72d895f3",
   "metadata": {},
   "outputs": [],
   "source": [
    "R1 = Euclidean(dim=1)\n",
    "CLOSED_CURVES_SPACE = ClosedDiscreteCurves(R2)\n",
    "CURVES_SPACE = DiscreteCurves(R2)\n",
    "SRV_METRIC = CURVES_SPACE.srv_metric\n",
    "L2_METRIC = CURVES_SPACE.l2_curves_metric\n",
    "\n",
    "ELASTIC_METRIC = {}\n",
    "METRICS = {}\n",
    "METRICS[\"Linear\"] = L2_METRIC\n",
    "METRICS[\"SRV\"] = SRV_METRIC"
   ]
  },
  {
   "cell_type": "code",
   "execution_count": 16,
   "id": "d59304ca",
   "metadata": {},
   "outputs": [],
   "source": [
    "means = {}\n",
    "\n",
    "means[\"Linear\"] = gs.mean(cell_shapes, axis=0)\n",
    "means[\"SRV\"] = FrechetMean(\n",
    "        metric=SRV_METRIC, \n",
    "        method=\"default\").fit(cell_shapes).estimate_"
   ]
  },
  {
   "cell_type": "code",
   "execution_count": 17,
   "id": "a7b10d0b",
   "metadata": {},
   "outputs": [],
   "source": [
    "NEW_AS = [0.75, 0.5, 0.25, 0.01] #, 1.6] #, 1.4, 1.2, 1, 0.5, 0.2, 0.1]\n",
    "NEW_BS = [0.5, 0.5, 0.5, 0.5] #, 2, 2, 2, 2, 2, 2, 2]"
   ]
  },
  {
   "cell_type": "code",
   "execution_count": 18,
   "id": "a9198ea5",
   "metadata": {},
   "outputs": [],
   "source": [
    "dists = {}\n",
    "\n",
    "dists[\"Linear\"] = [gs.linalg.norm(means[\"Linear\"] - cell) / n_sampling_points for cell in cells]\n",
    "\n",
    "dists[\"SRV\"] = [\n",
    "    SRV_METRIC.dist(means[\"SRV\"], cell) / n_sampling_points for cell in cells\n",
    "]\n",
    "\n",
    "for a, b in zip(NEW_AS, NEW_BS):\n",
    "    ELASTIC_METRIC[a, b] = DiscreteCurves(R2, a=a, b=b).elastic_metric\n",
    "\n",
    "for a, b in zip(NEW_AS, NEW_BS):\n",
    "    means[a, b] = FrechetMean(\n",
    "            metric=ELASTIC_METRIC[a, b], \n",
    "            method=\"default\").fit(cell_shapes).estimate_\n",
    "\n",
    "for a, b in zip(NEW_AS, NEW_BS):\n",
    "    dists[a, b] =  [\n",
    "    ELASTIC_METRIC[a, b].dist(means[a, b], cell) / n_sampling_points for cell in cells\n",
    "]"
   ]
  },
  {
   "cell_type": "code",
   "execution_count": 19,
   "id": "9052dfda",
   "metadata": {},
   "outputs": [],
   "source": [
    "dists_summary = pd.DataFrame(\n",
    "    data={\n",
    "        labels_a_name: labels_a,\n",
    "        labels_b_name: labels_b,\n",
    "        \"Linear\": dists[\"Linear\"],\n",
    "        \"SRV\": dists[\"SRV\"],\n",
    "    }\n",
    ")\n",
    "\n",
    "for a, b in zip(NEW_AS, NEW_BS):\n",
    "    dists_summary[f\"Elastic({a}, {b})\"] = dists[a, b]"
   ]
  },
  {
   "cell_type": "code",
   "execution_count": 20,
   "id": "9fcf4320",
   "metadata": {},
   "outputs": [
    {
     "data": {
      "text/html": [
       "<div>\n",
       "<style scoped>\n",
       "    .dataframe tbody tr th:only-of-type {\n",
       "        vertical-align: middle;\n",
       "    }\n",
       "\n",
       "    .dataframe tbody tr th {\n",
       "        vertical-align: top;\n",
       "    }\n",
       "\n",
       "    .dataframe thead th {\n",
       "        text-align: right;\n",
       "    }\n",
       "</style>\n",
       "<table border=\"1\" class=\"dataframe\">\n",
       "  <thead>\n",
       "    <tr style=\"text-align: right;\">\n",
       "      <th></th>\n",
       "      <th>lines</th>\n",
       "      <th>mutations</th>\n",
       "      <th>Linear</th>\n",
       "      <th>SRV</th>\n",
       "      <th>Elastic(0.75, 0.5)</th>\n",
       "      <th>Elastic(0.5, 0.5)</th>\n",
       "      <th>Elastic(0.25, 0.5)</th>\n",
       "      <th>Elastic(0.01, 0.5)</th>\n",
       "    </tr>\n",
       "  </thead>\n",
       "  <tbody>\n",
       "    <tr>\n",
       "      <th>0</th>\n",
       "      <td>dlm8</td>\n",
       "      <td>control</td>\n",
       "      <td>1.741922</td>\n",
       "      <td>0.113841</td>\n",
       "      <td>0.141377</td>\n",
       "      <td>0.169526</td>\n",
       "      <td>0.117442</td>\n",
       "      <td>0.047341</td>\n",
       "    </tr>\n",
       "    <tr>\n",
       "      <th>1</th>\n",
       "      <td>dlm8</td>\n",
       "      <td>control</td>\n",
       "      <td>1.958597</td>\n",
       "      <td>0.113876</td>\n",
       "      <td>0.129460</td>\n",
       "      <td>0.138652</td>\n",
       "      <td>0.092234</td>\n",
       "      <td>0.051052</td>\n",
       "    </tr>\n",
       "    <tr>\n",
       "      <th>2</th>\n",
       "      <td>dlm8</td>\n",
       "      <td>control</td>\n",
       "      <td>3.032694</td>\n",
       "      <td>0.082623</td>\n",
       "      <td>0.066588</td>\n",
       "      <td>0.079443</td>\n",
       "      <td>0.085067</td>\n",
       "      <td>0.096022</td>\n",
       "    </tr>\n",
       "    <tr>\n",
       "      <th>3</th>\n",
       "      <td>dlm8</td>\n",
       "      <td>control</td>\n",
       "      <td>3.408065</td>\n",
       "      <td>0.092514</td>\n",
       "      <td>0.058639</td>\n",
       "      <td>0.072975</td>\n",
       "      <td>0.085445</td>\n",
       "      <td>0.095918</td>\n",
       "    </tr>\n",
       "    <tr>\n",
       "      <th>4</th>\n",
       "      <td>dlm8</td>\n",
       "      <td>control</td>\n",
       "      <td>3.078929</td>\n",
       "      <td>0.079191</td>\n",
       "      <td>0.060372</td>\n",
       "      <td>0.078975</td>\n",
       "      <td>0.082842</td>\n",
       "      <td>0.090234</td>\n",
       "    </tr>\n",
       "  </tbody>\n",
       "</table>\n",
       "</div>"
      ],
      "text/plain": [
       "  lines mutations    Linear       SRV  Elastic(0.75, 0.5)  Elastic(0.5, 0.5)  \\\n",
       "0  dlm8   control  1.741922  0.113841            0.141377           0.169526   \n",
       "1  dlm8   control  1.958597  0.113876            0.129460           0.138652   \n",
       "2  dlm8   control  3.032694  0.082623            0.066588           0.079443   \n",
       "3  dlm8   control  3.408065  0.092514            0.058639           0.072975   \n",
       "4  dlm8   control  3.078929  0.079191            0.060372           0.078975   \n",
       "\n",
       "   Elastic(0.25, 0.5)  Elastic(0.01, 0.5)  \n",
       "0            0.117442            0.047341  \n",
       "1            0.092234            0.051052  \n",
       "2            0.085067            0.096022  \n",
       "3            0.085445            0.095918  \n",
       "4            0.082842            0.090234  "
      ]
     },
     "execution_count": 20,
     "metadata": {},
     "output_type": "execute_result"
    }
   ],
   "source": [
    "dists_summary.head()"
   ]
  },
  {
   "attachments": {},
   "cell_type": "markdown",
   "id": "25661ba7",
   "metadata": {},
   "source": [
    "# Histograms of distance to the mean"
   ]
  },
  {
   "cell_type": "code",
   "execution_count": 21,
   "id": "c135d0af",
   "metadata": {},
   "outputs": [],
   "source": [
    "xx = {}\n",
    "\n",
    "for metric_name in [\"Linear\", \"SRV\"]:\n",
    "    min_dists = gs.array(min(dists_summary[metric_name]))\n",
    "    max_dists = gs.array(max(dists_summary[metric_name]))\n",
    "    xx[metric_name] = gs.linspace(gs.floor(min_dists), gs.ceil(max_dists), 100)"
   ]
  },
  {
   "cell_type": "code",
   "execution_count": 22,
   "id": "833ed74a",
   "metadata": {},
   "outputs": [],
   "source": [
    "def hist_dists_to_means(labels, labels_name):\n",
    "    \"\"\" \n",
    "    To the global mean\n",
    "    \"\"\"\n",
    "\n",
    "    title_nums = [\"(a)\", \"(b)\"]\n",
    "    color_encoding = {\"control\": \"blue\", \"cytd\": \"red\", \"jasp\": \"orange\"}\n",
    "\n",
    "    fig, axs = plt.subplots(1, 2, figsize=(20, 8))\n",
    "\n",
    "    for i, dist_name in enumerate([\"Linear\", \"SRV\"]):\n",
    "        for i_lab, label in enumerate(np.unique(labels)):\n",
    "            ds = dists_summary[dist_name][dists_summary[labels_name] == label]\n",
    "            axs[i].hist(\n",
    "                ds, bins=20, alpha=0.4, density=True, label=label, \\\n",
    "                color = color_encoding[label]\n",
    "            ) \n",
    "            kde = stats.gaussian_kde(ds)\n",
    "\n",
    "            axs[i].plot(xx[dist_name], kde(xx[dist_name]), \\\n",
    "                        color = color_encoding[label]\n",
    "                        )\n",
    "        if dist_name == \"SRV\":\n",
    "            axs[i].set_xlim(xmax=0.5)\n",
    "        axs[i].legend()\n",
    "        # axs[i].set_title(f\"{title_nums[i]} Distances to {dist_name} mean\\n\")\n",
    "\n"
   ]
  },
  {
   "cell_type": "code",
   "execution_count": 25,
   "id": "0d72cc93",
   "metadata": {},
   "outputs": [
    {
     "data": {
      "image/svg+xml": "<?xml version=\"1.0\" encoding=\"utf-8\" standalone=\"no\"?>\n<!DOCTYPE svg PUBLIC \"-//W3C//DTD SVG 1.1//EN\"\n  \"http://www.w3.org/Graphics/SVG/1.1/DTD/svg11.dtd\">\n<svg xmlns:xlink=\"http://www.w3.org/1999/xlink\" width=\"1180.338438pt\" height=\"473.700625pt\" viewBox=\"0 0 1180.338438 473.700625\" xmlns=\"http://www.w3.org/2000/svg\" version=\"1.1\">\n <metadata>\n  <rdf:RDF xmlns:dc=\"http://purl.org/dc/elements/1.1/\" xmlns:cc=\"http://creativecommons.org/ns#\" xmlns:rdf=\"http://www.w3.org/1999/02/22-rdf-syntax-ns#\">\n   <cc:Work>\n    <dc:type rdf:resource=\"http://purl.org/dc/dcmitype/StillImage\"/>\n    <dc:date>2023-02-17T19:16:57.125523</dc:date>\n    <dc:format>image/svg+xml</dc:format>\n    <dc:creator>\n     <cc:Agent>\n      <dc:title>Matplotlib v3.5.1, https://matplotlib.org/</dc:title>\n     </cc:Agent>\n    </dc:creator>\n   </cc:Work>\n  </rdf:RDF>\n </metadata>\n <defs>\n  <style type=\"text/css\">*{stroke-linejoin: round; stroke-linecap: butt}</style>\n </defs>\n <g id=\"figure_1\">\n  <g id=\"patch_1\">\n   <path d=\"M 0 473.700625 \nL 1180.338438 473.700625 \nL 1180.338438 0 \nL 0 0 \nL 0 473.700625 \nz\n\" style=\"fill: none\"/>\n  </g>\n  <g id=\"axes_1\">\n   <g id=\"patch_2\">\n    <path d=\"M 42.825625 442.08 \nL 550.098352 442.08 \nL 550.098352 7.2 \nL 42.825625 7.2 \nz\n\" style=\"fill: #ffffff\"/>\n   </g>\n   <g id=\"patch_3\">\n    <path d=\"M 79.95101 442.08 \nL 88.38017 442.08 \nL 88.38017 424.072547 \nL 79.95101 424.072547 \nz\n\" clip-path=\"url(#p4a76e6afd9)\" style=\"fill: #0000ff; opacity: 0.4\"/>\n   </g>\n   <g id=\"patch_4\">\n    <path d=\"M 88.38017 442.08 \nL 96.809329 442.08 \nL 96.809329 316.027826 \nL 88.38017 316.027826 \nz\n\" clip-path=\"url(#p4a76e6afd9)\" style=\"fill: #0000ff; opacity: 0.4\"/>\n   </g>\n   <g id=\"patch_5\">\n    <path d=\"M 96.809329 442.08 \nL 105.238489 442.08 \nL 105.238489 316.027826 \nL 96.809329 316.027826 \nz\n\" clip-path=\"url(#p4a76e6afd9)\" style=\"fill: #0000ff; opacity: 0.4\"/>\n   </g>\n   <g id=\"patch_6\">\n    <path d=\"M 105.238489 442.08 \nL 113.667648 442.08 \nL 113.667648 352.042733 \nL 105.238489 352.042733 \nz\n\" clip-path=\"url(#p4a76e6afd9)\" style=\"fill: #0000ff; opacity: 0.4\"/>\n   </g>\n   <g id=\"patch_7\">\n    <path d=\"M 113.667648 442.08 \nL 122.096808 442.08 \nL 122.096808 243.998012 \nL 113.667648 243.998012 \nz\n\" clip-path=\"url(#p4a76e6afd9)\" style=\"fill: #0000ff; opacity: 0.4\"/>\n   </g>\n   <g id=\"patch_8\">\n    <path d=\"M 122.096808 442.08 \nL 130.525968 442.08 \nL 130.525968 153.960745 \nL 122.096808 153.960745 \nz\n\" clip-path=\"url(#p4a76e6afd9)\" style=\"fill: #0000ff; opacity: 0.4\"/>\n   </g>\n   <g id=\"patch_9\">\n    <path d=\"M 130.525968 442.08 \nL 138.955127 442.08 \nL 138.955127 63.923478 \nL 130.525968 63.923478 \nz\n\" clip-path=\"url(#p4a76e6afd9)\" style=\"fill: #0000ff; opacity: 0.4\"/>\n   </g>\n   <g id=\"patch_10\">\n    <path d=\"M 138.955127 442.08 \nL 147.384287 442.08 \nL 147.384287 27.908571 \nL 138.955127 27.908571 \nz\n\" clip-path=\"url(#p4a76e6afd9)\" style=\"fill: #0000ff; opacity: 0.4\"/>\n   </g>\n   <g id=\"patch_11\">\n    <path d=\"M 147.384287 442.08 \nL 155.813446 442.08 \nL 155.813446 262.005466 \nL 147.384287 262.005466 \nz\n\" clip-path=\"url(#p4a76e6afd9)\" style=\"fill: #0000ff; opacity: 0.4\"/>\n   </g>\n   <g id=\"patch_12\">\n    <path d=\"M 155.813446 442.08 \nL 164.242606 442.08 \nL 164.242606 370.050186 \nL 155.813446 370.050186 \nz\n\" clip-path=\"url(#p4a76e6afd9)\" style=\"fill: #0000ff; opacity: 0.4\"/>\n   </g>\n   <g id=\"patch_13\">\n    <path d=\"M 164.242606 442.08 \nL 172.671765 442.08 \nL 172.671765 442.08 \nL 164.242606 442.08 \nz\n\" clip-path=\"url(#p4a76e6afd9)\" style=\"fill: #0000ff; opacity: 0.4\"/>\n   </g>\n   <g id=\"patch_14\">\n    <path d=\"M 172.671765 442.08 \nL 181.100925 442.08 \nL 181.100925 406.065093 \nL 172.671765 406.065093 \nz\n\" clip-path=\"url(#p4a76e6afd9)\" style=\"fill: #0000ff; opacity: 0.4\"/>\n   </g>\n   <g id=\"patch_15\">\n    <path d=\"M 181.100925 442.08 \nL 189.530084 442.08 \nL 189.530084 406.065093 \nL 181.100925 406.065093 \nz\n\" clip-path=\"url(#p4a76e6afd9)\" style=\"fill: #0000ff; opacity: 0.4\"/>\n   </g>\n   <g id=\"patch_16\">\n    <path d=\"M 189.530084 442.08 \nL 197.959244 442.08 \nL 197.959244 442.08 \nL 189.530084 442.08 \nz\n\" clip-path=\"url(#p4a76e6afd9)\" style=\"fill: #0000ff; opacity: 0.4\"/>\n   </g>\n   <g id=\"patch_17\">\n    <path d=\"M 197.959244 442.08 \nL 206.388404 442.08 \nL 206.388404 424.072547 \nL 197.959244 424.072547 \nz\n\" clip-path=\"url(#p4a76e6afd9)\" style=\"fill: #0000ff; opacity: 0.4\"/>\n   </g>\n   <g id=\"patch_18\">\n    <path d=\"M 206.388404 442.08 \nL 214.817563 442.08 \nL 214.817563 442.08 \nL 206.388404 442.08 \nz\n\" clip-path=\"url(#p4a76e6afd9)\" style=\"fill: #0000ff; opacity: 0.4\"/>\n   </g>\n   <g id=\"patch_19\">\n    <path d=\"M 214.817563 442.08 \nL 223.246723 442.08 \nL 223.246723 424.072547 \nL 214.817563 424.072547 \nz\n\" clip-path=\"url(#p4a76e6afd9)\" style=\"fill: #0000ff; opacity: 0.4\"/>\n   </g>\n   <g id=\"patch_20\">\n    <path d=\"M 223.246723 442.08 \nL 231.675882 442.08 \nL 231.675882 424.072547 \nL 223.246723 424.072547 \nz\n\" clip-path=\"url(#p4a76e6afd9)\" style=\"fill: #0000ff; opacity: 0.4\"/>\n   </g>\n   <g id=\"patch_21\">\n    <path d=\"M 231.675882 442.08 \nL 240.105042 442.08 \nL 240.105042 424.072547 \nL 231.675882 424.072547 \nz\n\" clip-path=\"url(#p4a76e6afd9)\" style=\"fill: #0000ff; opacity: 0.4\"/>\n   </g>\n   <g id=\"patch_22\">\n    <path d=\"M 240.105042 442.08 \nL 248.534201 442.08 \nL 248.534201 424.072547 \nL 240.105042 424.072547 \nz\n\" clip-path=\"url(#p4a76e6afd9)\" style=\"fill: #0000ff; opacity: 0.4\"/>\n   </g>\n   <g id=\"patch_23\">\n    <path d=\"M 97.297705 442.08 \nL 117.460998 442.08 \nL 117.460998 389.751763 \nL 97.297705 389.751763 \nz\n\" clip-path=\"url(#p4a76e6afd9)\" style=\"fill: #ff0000; opacity: 0.4\"/>\n   </g>\n   <g id=\"patch_24\">\n    <path d=\"M 117.460998 442.08 \nL 137.624292 442.08 \nL 137.624292 400.21741 \nL 117.460998 400.21741 \nz\n\" clip-path=\"url(#p4a76e6afd9)\" style=\"fill: #ff0000; opacity: 0.4\"/>\n   </g>\n   <g id=\"patch_25\">\n    <path d=\"M 137.624292 442.08 \nL 157.787585 442.08 \nL 157.787585 326.957878 \nL 137.624292 326.957878 \nz\n\" clip-path=\"url(#p4a76e6afd9)\" style=\"fill: #ff0000; opacity: 0.4\"/>\n   </g>\n   <g id=\"patch_26\">\n    <path d=\"M 157.787585 442.08 \nL 177.950879 442.08 \nL 177.950879 337.423525 \nL 157.787585 337.423525 \nz\n\" clip-path=\"url(#p4a76e6afd9)\" style=\"fill: #ff0000; opacity: 0.4\"/>\n   </g>\n   <g id=\"patch_27\">\n    <path d=\"M 177.950879 442.08 \nL 198.114172 442.08 \nL 198.114172 326.957878 \nL 177.950879 326.957878 \nz\n\" clip-path=\"url(#p4a76e6afd9)\" style=\"fill: #ff0000; opacity: 0.4\"/>\n   </g>\n   <g id=\"patch_28\">\n    <path d=\"M 198.114172 442.08 \nL 218.277466 442.08 \nL 218.277466 326.957878 \nL 198.114172 326.957878 \nz\n\" clip-path=\"url(#p4a76e6afd9)\" style=\"fill: #ff0000; opacity: 0.4\"/>\n   </g>\n   <g id=\"patch_29\">\n    <path d=\"M 218.277466 442.08 \nL 238.440759 442.08 \nL 238.440759 400.21741 \nL 218.277466 400.21741 \nz\n\" clip-path=\"url(#p4a76e6afd9)\" style=\"fill: #ff0000; opacity: 0.4\"/>\n   </g>\n   <g id=\"patch_30\">\n    <path d=\"M 238.440759 442.08 \nL 258.604052 442.08 \nL 258.604052 358.35482 \nL 238.440759 358.35482 \nz\n\" clip-path=\"url(#p4a76e6afd9)\" style=\"fill: #ff0000; opacity: 0.4\"/>\n   </g>\n   <g id=\"patch_31\">\n    <path d=\"M 258.604052 442.08 \nL 278.767346 442.08 \nL 278.767346 421.148705 \nL 258.604052 421.148705 \nz\n\" clip-path=\"url(#p4a76e6afd9)\" style=\"fill: #ff0000; opacity: 0.4\"/>\n   </g>\n   <g id=\"patch_32\">\n    <path d=\"M 278.767346 442.08 \nL 298.930639 442.08 \nL 298.930639 389.751763 \nL 278.767346 389.751763 \nz\n\" clip-path=\"url(#p4a76e6afd9)\" style=\"fill: #ff0000; opacity: 0.4\"/>\n   </g>\n   <g id=\"patch_33\">\n    <path d=\"M 298.930639 442.08 \nL 319.093933 442.08 \nL 319.093933 421.148705 \nL 298.930639 421.148705 \nz\n\" clip-path=\"url(#p4a76e6afd9)\" style=\"fill: #ff0000; opacity: 0.4\"/>\n   </g>\n   <g id=\"patch_34\">\n    <path d=\"M 319.093933 442.08 \nL 339.257226 442.08 \nL 339.257226 410.683058 \nL 319.093933 410.683058 \nz\n\" clip-path=\"url(#p4a76e6afd9)\" style=\"fill: #ff0000; opacity: 0.4\"/>\n   </g>\n   <g id=\"patch_35\">\n    <path d=\"M 339.257226 442.08 \nL 359.42052 442.08 \nL 359.42052 431.614353 \nL 339.257226 431.614353 \nz\n\" clip-path=\"url(#p4a76e6afd9)\" style=\"fill: #ff0000; opacity: 0.4\"/>\n   </g>\n   <g id=\"patch_36\">\n    <path d=\"M 359.42052 442.08 \nL 379.583813 442.08 \nL 379.583813 442.08 \nL 359.42052 442.08 \nz\n\" clip-path=\"url(#p4a76e6afd9)\" style=\"fill: #ff0000; opacity: 0.4\"/>\n   </g>\n   <g id=\"patch_37\">\n    <path d=\"M 379.583813 442.08 \nL 399.747107 442.08 \nL 399.747107 431.614353 \nL 379.583813 431.614353 \nz\n\" clip-path=\"url(#p4a76e6afd9)\" style=\"fill: #ff0000; opacity: 0.4\"/>\n   </g>\n   <g id=\"patch_38\">\n    <path d=\"M 399.747107 442.08 \nL 419.9104 442.08 \nL 419.9104 431.614353 \nL 399.747107 431.614353 \nz\n\" clip-path=\"url(#p4a76e6afd9)\" style=\"fill: #ff0000; opacity: 0.4\"/>\n   </g>\n   <g id=\"patch_39\">\n    <path d=\"M 419.9104 442.08 \nL 440.073694 442.08 \nL 440.073694 442.08 \nL 419.9104 442.08 \nz\n\" clip-path=\"url(#p4a76e6afd9)\" style=\"fill: #ff0000; opacity: 0.4\"/>\n   </g>\n   <g id=\"patch_40\">\n    <path d=\"M 440.073694 442.08 \nL 460.236987 442.08 \nL 460.236987 431.614353 \nL 440.073694 431.614353 \nz\n\" clip-path=\"url(#p4a76e6afd9)\" style=\"fill: #ff0000; opacity: 0.4\"/>\n   </g>\n   <g id=\"patch_41\">\n    <path d=\"M 460.236987 442.08 \nL 480.400281 442.08 \nL 480.400281 442.08 \nL 460.236987 442.08 \nz\n\" clip-path=\"url(#p4a76e6afd9)\" style=\"fill: #ff0000; opacity: 0.4\"/>\n   </g>\n   <g id=\"patch_42\">\n    <path d=\"M 480.400281 442.08 \nL 500.563574 442.08 \nL 500.563574 421.148705 \nL 480.400281 421.148705 \nz\n\" clip-path=\"url(#p4a76e6afd9)\" style=\"fill: #ff0000; opacity: 0.4\"/>\n   </g>\n   <g id=\"patch_43\">\n    <path d=\"M 70.17892 442.08 \nL 80.481333 442.08 \nL 80.481333 333.719556 \nL 70.17892 333.719556 \nz\n\" clip-path=\"url(#p4a76e6afd9)\" style=\"fill: #ffa500; opacity: 0.4\"/>\n   </g>\n   <g id=\"patch_44\">\n    <path d=\"M 80.481333 442.08 \nL 90.783746 442.08 \nL 90.783746 279.539334 \nL 80.481333 279.539334 \nz\n\" clip-path=\"url(#p4a76e6afd9)\" style=\"fill: #ffa500; opacity: 0.4\"/>\n   </g>\n   <g id=\"patch_45\">\n    <path d=\"M 90.783746 442.08 \nL 101.086159 442.08 \nL 101.086159 252.449223 \nL 90.783746 252.449223 \nz\n\" clip-path=\"url(#p4a76e6afd9)\" style=\"fill: #ffa500; opacity: 0.4\"/>\n   </g>\n   <g id=\"patch_46\">\n    <path d=\"M 101.086159 442.08 \nL 111.388572 442.08 \nL 111.388572 144.08878 \nL 101.086159 144.08878 \nz\n\" clip-path=\"url(#p4a76e6afd9)\" style=\"fill: #ffa500; opacity: 0.4\"/>\n   </g>\n   <g id=\"patch_47\">\n    <path d=\"M 111.388572 442.08 \nL 121.690985 442.08 \nL 121.690985 252.449223 \nL 111.388572 252.449223 \nz\n\" clip-path=\"url(#p4a76e6afd9)\" style=\"fill: #ffa500; opacity: 0.4\"/>\n   </g>\n   <g id=\"patch_48\">\n    <path d=\"M 121.690985 442.08 \nL 131.993398 442.08 \nL 131.993398 360.809667 \nL 121.690985 360.809667 \nz\n\" clip-path=\"url(#p4a76e6afd9)\" style=\"fill: #ffa500; opacity: 0.4\"/>\n   </g>\n   <g id=\"patch_49\">\n    <path d=\"M 131.993398 442.08 \nL 142.295811 442.08 \nL 142.295811 279.539334 \nL 131.993398 279.539334 \nz\n\" clip-path=\"url(#p4a76e6afd9)\" style=\"fill: #ffa500; opacity: 0.4\"/>\n   </g>\n   <g id=\"patch_50\">\n    <path d=\"M 142.295811 442.08 \nL 152.598224 442.08 \nL 152.598224 360.809667 \nL 142.295811 360.809667 \nz\n\" clip-path=\"url(#p4a76e6afd9)\" style=\"fill: #ffa500; opacity: 0.4\"/>\n   </g>\n   <g id=\"patch_51\">\n    <path d=\"M 152.598224 442.08 \nL 162.900637 442.08 \nL 162.900637 387.899778 \nL 152.598224 387.899778 \nz\n\" clip-path=\"url(#p4a76e6afd9)\" style=\"fill: #ffa500; opacity: 0.4\"/>\n   </g>\n   <g id=\"patch_52\">\n    <path d=\"M 162.900637 442.08 \nL 173.203049 442.08 \nL 173.203049 387.899778 \nL 162.900637 387.899778 \nz\n\" clip-path=\"url(#p4a76e6afd9)\" style=\"fill: #ffa500; opacity: 0.4\"/>\n   </g>\n   <g id=\"patch_53\">\n    <path d=\"M 173.203049 442.08 \nL 183.505462 442.08 \nL 183.505462 387.899778 \nL 173.203049 387.899778 \nz\n\" clip-path=\"url(#p4a76e6afd9)\" style=\"fill: #ffa500; opacity: 0.4\"/>\n   </g>\n   <g id=\"patch_54\">\n    <path d=\"M 183.505462 442.08 \nL 193.807875 442.08 \nL 193.807875 387.899778 \nL 183.505462 387.899778 \nz\n\" clip-path=\"url(#p4a76e6afd9)\" style=\"fill: #ffa500; opacity: 0.4\"/>\n   </g>\n   <g id=\"patch_55\">\n    <path d=\"M 193.807875 442.08 \nL 204.110288 442.08 \nL 204.110288 414.989889 \nL 193.807875 414.989889 \nz\n\" clip-path=\"url(#p4a76e6afd9)\" style=\"fill: #ffa500; opacity: 0.4\"/>\n   </g>\n   <g id=\"patch_56\">\n    <path d=\"M 204.110288 442.08 \nL 214.412701 442.08 \nL 214.412701 414.989889 \nL 204.110288 414.989889 \nz\n\" clip-path=\"url(#p4a76e6afd9)\" style=\"fill: #ffa500; opacity: 0.4\"/>\n   </g>\n   <g id=\"patch_57\">\n    <path d=\"M 214.412701 442.08 \nL 224.715114 442.08 \nL 224.715114 333.719556 \nL 214.412701 333.719556 \nz\n\" clip-path=\"url(#p4a76e6afd9)\" style=\"fill: #ffa500; opacity: 0.4\"/>\n   </g>\n   <g id=\"patch_58\">\n    <path d=\"M 224.715114 442.08 \nL 235.017527 442.08 \nL 235.017527 442.08 \nL 224.715114 442.08 \nz\n\" clip-path=\"url(#p4a76e6afd9)\" style=\"fill: #ffa500; opacity: 0.4\"/>\n   </g>\n   <g id=\"patch_59\">\n    <path d=\"M 235.017527 442.08 \nL 245.31994 442.08 \nL 245.31994 442.08 \nL 235.017527 442.08 \nz\n\" clip-path=\"url(#p4a76e6afd9)\" style=\"fill: #ffa500; opacity: 0.4\"/>\n   </g>\n   <g id=\"patch_60\">\n    <path d=\"M 245.31994 442.08 \nL 255.622353 442.08 \nL 255.622353 442.08 \nL 245.31994 442.08 \nz\n\" clip-path=\"url(#p4a76e6afd9)\" style=\"fill: #ffa500; opacity: 0.4\"/>\n   </g>\n   <g id=\"patch_61\">\n    <path d=\"M 255.622353 442.08 \nL 265.924766 442.08 \nL 265.924766 442.08 \nL 255.622353 442.08 \nz\n\" clip-path=\"url(#p4a76e6afd9)\" style=\"fill: #ffa500; opacity: 0.4\"/>\n   </g>\n   <g id=\"patch_62\">\n    <path d=\"M 265.924766 442.08 \nL 276.227179 442.08 \nL 276.227179 414.989889 \nL 265.924766 414.989889 \nz\n\" clip-path=\"url(#p4a76e6afd9)\" style=\"fill: #ffa500; opacity: 0.4\"/>\n   </g>\n   <g id=\"matplotlib.axis_1\">\n    <g id=\"xtick_1\">\n     <g id=\"line2d_1\">\n      <defs>\n       <path id=\"mfa37703be2\" d=\"M 0 0 \nL 0 3.5 \n\" style=\"stroke: #000000; stroke-width: 0.8\"/>\n      </defs>\n      <g>\n       <use xlink:href=\"#mfa37703be2\" x=\"101.357094\" y=\"442.08\" style=\"stroke: #000000; stroke-width: 0.8\"/>\n      </g>\n     </g>\n     <g id=\"text_1\">\n      <!-- 2 -->\n      <g transform=\"translate(95.630844 462.757187)scale(0.18 -0.18)\">\n       <defs>\n        <path id=\"DejaVuSans-32\" d=\"M 1228 531 \nL 3431 531 \nL 3431 0 \nL 469 0 \nL 469 531 \nQ 828 903 1448 1529 \nQ 2069 2156 2228 2338 \nQ 2531 2678 2651 2914 \nQ 2772 3150 2772 3378 \nQ 2772 3750 2511 3984 \nQ 2250 4219 1831 4219 \nQ 1534 4219 1204 4116 \nQ 875 4013 500 3803 \nL 500 4441 \nQ 881 4594 1212 4672 \nQ 1544 4750 1819 4750 \nQ 2544 4750 2975 4387 \nQ 3406 4025 3406 3419 \nQ 3406 3131 3298 2873 \nQ 3191 2616 2906 2266 \nQ 2828 2175 2409 1742 \nQ 1991 1309 1228 531 \nz\n\" transform=\"scale(0.015625)\"/>\n       </defs>\n       <use xlink:href=\"#DejaVuSans-32\"/>\n      </g>\n     </g>\n    </g>\n    <g id=\"xtick_2\">\n     <g id=\"line2d_2\">\n      <g>\n       <use xlink:href=\"#mfa37703be2\" x=\"172.304328\" y=\"442.08\" style=\"stroke: #000000; stroke-width: 0.8\"/>\n      </g>\n     </g>\n     <g id=\"text_2\">\n      <!-- 4 -->\n      <g transform=\"translate(166.578078 462.757187)scale(0.18 -0.18)\">\n       <defs>\n        <path id=\"DejaVuSans-34\" d=\"M 2419 4116 \nL 825 1625 \nL 2419 1625 \nL 2419 4116 \nz\nM 2253 4666 \nL 3047 4666 \nL 3047 1625 \nL 3713 1625 \nL 3713 1100 \nL 3047 1100 \nL 3047 0 \nL 2419 0 \nL 2419 1100 \nL 313 1100 \nL 313 1709 \nL 2253 4666 \nz\n\" transform=\"scale(0.015625)\"/>\n       </defs>\n       <use xlink:href=\"#DejaVuSans-34\"/>\n      </g>\n     </g>\n    </g>\n    <g id=\"xtick_3\">\n     <g id=\"line2d_3\">\n      <g>\n       <use xlink:href=\"#mfa37703be2\" x=\"243.251563\" y=\"442.08\" style=\"stroke: #000000; stroke-width: 0.8\"/>\n      </g>\n     </g>\n     <g id=\"text_3\">\n      <!-- 6 -->\n      <g transform=\"translate(237.525313 462.757187)scale(0.18 -0.18)\">\n       <defs>\n        <path id=\"DejaVuSans-36\" d=\"M 2113 2584 \nQ 1688 2584 1439 2293 \nQ 1191 2003 1191 1497 \nQ 1191 994 1439 701 \nQ 1688 409 2113 409 \nQ 2538 409 2786 701 \nQ 3034 994 3034 1497 \nQ 3034 2003 2786 2293 \nQ 2538 2584 2113 2584 \nz\nM 3366 4563 \nL 3366 3988 \nQ 3128 4100 2886 4159 \nQ 2644 4219 2406 4219 \nQ 1781 4219 1451 3797 \nQ 1122 3375 1075 2522 \nQ 1259 2794 1537 2939 \nQ 1816 3084 2150 3084 \nQ 2853 3084 3261 2657 \nQ 3669 2231 3669 1497 \nQ 3669 778 3244 343 \nQ 2819 -91 2113 -91 \nQ 1303 -91 875 529 \nQ 447 1150 447 2328 \nQ 447 3434 972 4092 \nQ 1497 4750 2381 4750 \nQ 2619 4750 2861 4703 \nQ 3103 4656 3366 4563 \nz\n\" transform=\"scale(0.015625)\"/>\n       </defs>\n       <use xlink:href=\"#DejaVuSans-36\"/>\n      </g>\n     </g>\n    </g>\n    <g id=\"xtick_4\">\n     <g id=\"line2d_4\">\n      <g>\n       <use xlink:href=\"#mfa37703be2\" x=\"314.198797\" y=\"442.08\" style=\"stroke: #000000; stroke-width: 0.8\"/>\n      </g>\n     </g>\n     <g id=\"text_4\">\n      <!-- 8 -->\n      <g transform=\"translate(308.472547 462.757187)scale(0.18 -0.18)\">\n       <defs>\n        <path id=\"DejaVuSans-38\" d=\"M 2034 2216 \nQ 1584 2216 1326 1975 \nQ 1069 1734 1069 1313 \nQ 1069 891 1326 650 \nQ 1584 409 2034 409 \nQ 2484 409 2743 651 \nQ 3003 894 3003 1313 \nQ 3003 1734 2745 1975 \nQ 2488 2216 2034 2216 \nz\nM 1403 2484 \nQ 997 2584 770 2862 \nQ 544 3141 544 3541 \nQ 544 4100 942 4425 \nQ 1341 4750 2034 4750 \nQ 2731 4750 3128 4425 \nQ 3525 4100 3525 3541 \nQ 3525 3141 3298 2862 \nQ 3072 2584 2669 2484 \nQ 3125 2378 3379 2068 \nQ 3634 1759 3634 1313 \nQ 3634 634 3220 271 \nQ 2806 -91 2034 -91 \nQ 1263 -91 848 271 \nQ 434 634 434 1313 \nQ 434 1759 690 2068 \nQ 947 2378 1403 2484 \nz\nM 1172 3481 \nQ 1172 3119 1398 2916 \nQ 1625 2713 2034 2713 \nQ 2441 2713 2670 2916 \nQ 2900 3119 2900 3481 \nQ 2900 3844 2670 4047 \nQ 2441 4250 2034 4250 \nQ 1625 4250 1398 4047 \nQ 1172 3844 1172 3481 \nz\n\" transform=\"scale(0.015625)\"/>\n       </defs>\n       <use xlink:href=\"#DejaVuSans-38\"/>\n      </g>\n     </g>\n    </g>\n    <g id=\"xtick_5\">\n     <g id=\"line2d_5\">\n      <g>\n       <use xlink:href=\"#mfa37703be2\" x=\"385.146032\" y=\"442.08\" style=\"stroke: #000000; stroke-width: 0.8\"/>\n      </g>\n     </g>\n     <g id=\"text_5\">\n      <!-- 10 -->\n      <g transform=\"translate(373.693532 462.757187)scale(0.18 -0.18)\">\n       <defs>\n        <path id=\"DejaVuSans-31\" d=\"M 794 531 \nL 1825 531 \nL 1825 4091 \nL 703 3866 \nL 703 4441 \nL 1819 4666 \nL 2450 4666 \nL 2450 531 \nL 3481 531 \nL 3481 0 \nL 794 0 \nL 794 531 \nz\n\" transform=\"scale(0.015625)\"/>\n        <path id=\"DejaVuSans-30\" d=\"M 2034 4250 \nQ 1547 4250 1301 3770 \nQ 1056 3291 1056 2328 \nQ 1056 1369 1301 889 \nQ 1547 409 2034 409 \nQ 2525 409 2770 889 \nQ 3016 1369 3016 2328 \nQ 3016 3291 2770 3770 \nQ 2525 4250 2034 4250 \nz\nM 2034 4750 \nQ 2819 4750 3233 4129 \nQ 3647 3509 3647 2328 \nQ 3647 1150 3233 529 \nQ 2819 -91 2034 -91 \nQ 1250 -91 836 529 \nQ 422 1150 422 2328 \nQ 422 3509 836 4129 \nQ 1250 4750 2034 4750 \nz\n\" transform=\"scale(0.015625)\"/>\n       </defs>\n       <use xlink:href=\"#DejaVuSans-31\"/>\n       <use xlink:href=\"#DejaVuSans-30\" x=\"63.623047\"/>\n      </g>\n     </g>\n    </g>\n    <g id=\"xtick_6\">\n     <g id=\"line2d_6\">\n      <g>\n       <use xlink:href=\"#mfa37703be2\" x=\"456.093266\" y=\"442.08\" style=\"stroke: #000000; stroke-width: 0.8\"/>\n      </g>\n     </g>\n     <g id=\"text_6\">\n      <!-- 12 -->\n      <g transform=\"translate(444.640766 462.757187)scale(0.18 -0.18)\">\n       <use xlink:href=\"#DejaVuSans-31\"/>\n       <use xlink:href=\"#DejaVuSans-32\" x=\"63.623047\"/>\n      </g>\n     </g>\n    </g>\n    <g id=\"xtick_7\">\n     <g id=\"line2d_7\">\n      <g>\n       <use xlink:href=\"#mfa37703be2\" x=\"527.040501\" y=\"442.08\" style=\"stroke: #000000; stroke-width: 0.8\"/>\n      </g>\n     </g>\n     <g id=\"text_7\">\n      <!-- 14 -->\n      <g transform=\"translate(515.588001 462.757187)scale(0.18 -0.18)\">\n       <use xlink:href=\"#DejaVuSans-31\"/>\n       <use xlink:href=\"#DejaVuSans-34\" x=\"63.623047\"/>\n      </g>\n     </g>\n    </g>\n   </g>\n   <g id=\"matplotlib.axis_2\">\n    <g id=\"ytick_1\">\n     <g id=\"line2d_8\">\n      <defs>\n       <path id=\"m8f57c8d1ef\" d=\"M 0 0 \nL -3.5 0 \n\" style=\"stroke: #000000; stroke-width: 0.8\"/>\n      </defs>\n      <g>\n       <use xlink:href=\"#m8f57c8d1ef\" x=\"42.825625\" y=\"442.08\" style=\"stroke: #000000; stroke-width: 0.8\"/>\n      </g>\n     </g>\n     <g id=\"text_8\">\n      <!-- 0.0 -->\n      <g transform=\"translate(7.2 448.918594)scale(0.18 -0.18)\">\n       <defs>\n        <path id=\"DejaVuSans-2e\" d=\"M 684 794 \nL 1344 794 \nL 1344 0 \nL 684 0 \nL 684 794 \nz\n\" transform=\"scale(0.015625)\"/>\n       </defs>\n       <use xlink:href=\"#DejaVuSans-30\"/>\n       <use xlink:href=\"#DejaVuSans-2e\" x=\"63.623047\"/>\n       <use xlink:href=\"#DejaVuSans-30\" x=\"95.410156\"/>\n      </g>\n     </g>\n    </g>\n    <g id=\"ytick_2\">\n     <g id=\"line2d_9\">\n      <g>\n       <use xlink:href=\"#m8f57c8d1ef\" x=\"42.825625\" y=\"393.300657\" style=\"stroke: #000000; stroke-width: 0.8\"/>\n      </g>\n     </g>\n     <g id=\"text_9\">\n      <!-- 0.1 -->\n      <g transform=\"translate(7.2 400.13925)scale(0.18 -0.18)\">\n       <use xlink:href=\"#DejaVuSans-30\"/>\n       <use xlink:href=\"#DejaVuSans-2e\" x=\"63.623047\"/>\n       <use xlink:href=\"#DejaVuSans-31\" x=\"95.410156\"/>\n      </g>\n     </g>\n    </g>\n    <g id=\"ytick_3\">\n     <g id=\"line2d_10\">\n      <g>\n       <use xlink:href=\"#m8f57c8d1ef\" x=\"42.825625\" y=\"344.521313\" style=\"stroke: #000000; stroke-width: 0.8\"/>\n      </g>\n     </g>\n     <g id=\"text_10\">\n      <!-- 0.2 -->\n      <g transform=\"translate(7.2 351.359907)scale(0.18 -0.18)\">\n       <use xlink:href=\"#DejaVuSans-30\"/>\n       <use xlink:href=\"#DejaVuSans-2e\" x=\"63.623047\"/>\n       <use xlink:href=\"#DejaVuSans-32\" x=\"95.410156\"/>\n      </g>\n     </g>\n    </g>\n    <g id=\"ytick_4\">\n     <g id=\"line2d_11\">\n      <g>\n       <use xlink:href=\"#m8f57c8d1ef\" x=\"42.825625\" y=\"295.74197\" style=\"stroke: #000000; stroke-width: 0.8\"/>\n      </g>\n     </g>\n     <g id=\"text_11\">\n      <!-- 0.3 -->\n      <g transform=\"translate(7.2 302.580564)scale(0.18 -0.18)\">\n       <defs>\n        <path id=\"DejaVuSans-33\" d=\"M 2597 2516 \nQ 3050 2419 3304 2112 \nQ 3559 1806 3559 1356 \nQ 3559 666 3084 287 \nQ 2609 -91 1734 -91 \nQ 1441 -91 1130 -33 \nQ 819 25 488 141 \nL 488 750 \nQ 750 597 1062 519 \nQ 1375 441 1716 441 \nQ 2309 441 2620 675 \nQ 2931 909 2931 1356 \nQ 2931 1769 2642 2001 \nQ 2353 2234 1838 2234 \nL 1294 2234 \nL 1294 2753 \nL 1863 2753 \nQ 2328 2753 2575 2939 \nQ 2822 3125 2822 3475 \nQ 2822 3834 2567 4026 \nQ 2313 4219 1838 4219 \nQ 1578 4219 1281 4162 \nQ 984 4106 628 3988 \nL 628 4550 \nQ 988 4650 1302 4700 \nQ 1616 4750 1894 4750 \nQ 2613 4750 3031 4423 \nQ 3450 4097 3450 3541 \nQ 3450 3153 3228 2886 \nQ 3006 2619 2597 2516 \nz\n\" transform=\"scale(0.015625)\"/>\n       </defs>\n       <use xlink:href=\"#DejaVuSans-30\"/>\n       <use xlink:href=\"#DejaVuSans-2e\" x=\"63.623047\"/>\n       <use xlink:href=\"#DejaVuSans-33\" x=\"95.410156\"/>\n      </g>\n     </g>\n    </g>\n    <g id=\"ytick_5\">\n     <g id=\"line2d_12\">\n      <g>\n       <use xlink:href=\"#m8f57c8d1ef\" x=\"42.825625\" y=\"246.962627\" style=\"stroke: #000000; stroke-width: 0.8\"/>\n      </g>\n     </g>\n     <g id=\"text_12\">\n      <!-- 0.4 -->\n      <g transform=\"translate(7.2 253.80122)scale(0.18 -0.18)\">\n       <use xlink:href=\"#DejaVuSans-30\"/>\n       <use xlink:href=\"#DejaVuSans-2e\" x=\"63.623047\"/>\n       <use xlink:href=\"#DejaVuSans-34\" x=\"95.410156\"/>\n      </g>\n     </g>\n    </g>\n    <g id=\"ytick_6\">\n     <g id=\"line2d_13\">\n      <g>\n       <use xlink:href=\"#m8f57c8d1ef\" x=\"42.825625\" y=\"198.183283\" style=\"stroke: #000000; stroke-width: 0.8\"/>\n      </g>\n     </g>\n     <g id=\"text_13\">\n      <!-- 0.5 -->\n      <g transform=\"translate(7.2 205.021877)scale(0.18 -0.18)\">\n       <defs>\n        <path id=\"DejaVuSans-35\" d=\"M 691 4666 \nL 3169 4666 \nL 3169 4134 \nL 1269 4134 \nL 1269 2991 \nQ 1406 3038 1543 3061 \nQ 1681 3084 1819 3084 \nQ 2600 3084 3056 2656 \nQ 3513 2228 3513 1497 \nQ 3513 744 3044 326 \nQ 2575 -91 1722 -91 \nQ 1428 -91 1123 -41 \nQ 819 9 494 109 \nL 494 744 \nQ 775 591 1075 516 \nQ 1375 441 1709 441 \nQ 2250 441 2565 725 \nQ 2881 1009 2881 1497 \nQ 2881 1984 2565 2268 \nQ 2250 2553 1709 2553 \nQ 1456 2553 1204 2497 \nQ 953 2441 691 2322 \nL 691 4666 \nz\n\" transform=\"scale(0.015625)\"/>\n       </defs>\n       <use xlink:href=\"#DejaVuSans-30\"/>\n       <use xlink:href=\"#DejaVuSans-2e\" x=\"63.623047\"/>\n       <use xlink:href=\"#DejaVuSans-35\" x=\"95.410156\"/>\n      </g>\n     </g>\n    </g>\n    <g id=\"ytick_7\">\n     <g id=\"line2d_14\">\n      <g>\n       <use xlink:href=\"#m8f57c8d1ef\" x=\"42.825625\" y=\"149.40394\" style=\"stroke: #000000; stroke-width: 0.8\"/>\n      </g>\n     </g>\n     <g id=\"text_14\">\n      <!-- 0.6 -->\n      <g transform=\"translate(7.2 156.242534)scale(0.18 -0.18)\">\n       <use xlink:href=\"#DejaVuSans-30\"/>\n       <use xlink:href=\"#DejaVuSans-2e\" x=\"63.623047\"/>\n       <use xlink:href=\"#DejaVuSans-36\" x=\"95.410156\"/>\n      </g>\n     </g>\n    </g>\n    <g id=\"ytick_8\">\n     <g id=\"line2d_15\">\n      <g>\n       <use xlink:href=\"#m8f57c8d1ef\" x=\"42.825625\" y=\"100.624597\" style=\"stroke: #000000; stroke-width: 0.8\"/>\n      </g>\n     </g>\n     <g id=\"text_15\">\n      <!-- 0.7 -->\n      <g transform=\"translate(7.2 107.46319)scale(0.18 -0.18)\">\n       <defs>\n        <path id=\"DejaVuSans-37\" d=\"M 525 4666 \nL 3525 4666 \nL 3525 4397 \nL 1831 0 \nL 1172 0 \nL 2766 4134 \nL 525 4134 \nL 525 4666 \nz\n\" transform=\"scale(0.015625)\"/>\n       </defs>\n       <use xlink:href=\"#DejaVuSans-30\"/>\n       <use xlink:href=\"#DejaVuSans-2e\" x=\"63.623047\"/>\n       <use xlink:href=\"#DejaVuSans-37\" x=\"95.410156\"/>\n      </g>\n     </g>\n    </g>\n    <g id=\"ytick_9\">\n     <g id=\"line2d_16\">\n      <g>\n       <use xlink:href=\"#m8f57c8d1ef\" x=\"42.825625\" y=\"51.845253\" style=\"stroke: #000000; stroke-width: 0.8\"/>\n      </g>\n     </g>\n     <g id=\"text_16\">\n      <!-- 0.8 -->\n      <g transform=\"translate(7.2 58.683847)scale(0.18 -0.18)\">\n       <use xlink:href=\"#DejaVuSans-30\"/>\n       <use xlink:href=\"#DejaVuSans-2e\" x=\"63.623047\"/>\n       <use xlink:href=\"#DejaVuSans-38\" x=\"95.410156\"/>\n      </g>\n     </g>\n    </g>\n   </g>\n   <g id=\"line2d_17\">\n    <path d=\"M 65.883476 437.113552 \nL 70.541628 431.612135 \nL 75.19978 422.178821 \nL 79.857932 407.993606 \nL 84.516083 389.656394 \nL 89.174235 369.699889 \nL 93.832387 351.574381 \nL 98.490539 337.093222 \nL 103.14869 324.213114 \nL 107.806842 307.507919 \nL 112.464994 281.611912 \nL 117.123146 245.138473 \nL 121.781297 202.144577 \nL 126.439449 160.608116 \nL 131.097601 129.768251 \nL 135.755753 117.853932 \nL 140.413904 129.883625 \nL 145.072056 165.233723 \nL 149.730208 216.652121 \nL 154.38836 272.683884 \nL 159.046512 322.606508 \nL 163.704663 360.414508 \nL 168.362815 385.46081 \nL 173.020967 400.484029 \nL 177.679119 409.212437 \nL 182.33727 414.819173 \nL 186.995422 419.287454 \nL 191.653574 423.415765 \nL 196.311726 427.199793 \nL 200.969877 430.270892 \nL 205.628029 432.203463 \nL 210.286181 432.750224 \nL 214.944333 432.041082 \nL 219.602485 430.595357 \nL 224.260636 429.070962 \nL 228.918788 427.958758 \nL 233.57694 427.490571 \nL 238.235092 427.766619 \nL 242.893243 428.872765 \nL 247.551395 430.821098 \nL 252.209547 433.398512 \nL 256.867699 436.143381 \nL 261.52585 438.53703 \nL 266.184002 440.256892 \nL 270.842154 441.278272 \nL 275.500306 441.780604 \nL 280.158457 441.985486 \nL 284.816609 442.05486 \nL 289.474761 442.074378 \nL 294.132913 442.078945 \nL 298.791065 442.079834 \nL 303.449216 442.079978 \nL 308.107368 442.079998 \nL 312.76552 442.08 \nL 317.423672 442.08 \nL 322.081823 442.08 \nL 326.739975 442.08 \nL 331.398127 442.08 \nL 336.056279 442.08 \nL 340.71443 442.08 \nL 345.372582 442.08 \nL 350.030734 442.08 \nL 354.688886 442.08 \nL 359.347037 442.08 \nL 364.005189 442.08 \nL 368.663341 442.08 \nL 373.321493 442.08 \nL 377.979645 442.08 \nL 382.637796 442.08 \nL 387.295948 442.08 \nL 391.9541 442.08 \nL 396.612252 442.08 \nL 401.270403 442.08 \nL 405.928555 442.08 \nL 410.586707 442.08 \nL 415.244859 442.08 \nL 419.90301 442.08 \nL 424.561162 442.08 \nL 429.219314 442.08 \nL 433.877466 442.08 \nL 438.535617 442.08 \nL 443.193769 442.08 \nL 447.851921 442.08 \nL 452.510073 442.08 \nL 457.168225 442.08 \nL 461.826376 442.08 \nL 466.484528 442.08 \nL 471.14268 442.08 \nL 475.800832 442.08 \nL 480.458983 442.08 \nL 485.117135 442.08 \nL 489.775287 442.08 \nL 494.433439 442.08 \nL 499.09159 442.08 \nL 503.749742 442.08 \nL 508.407894 442.08 \nL 513.066046 442.08 \nL 517.724198 442.08 \nL 522.382349 442.08 \nL 527.040501 442.08 \n\" clip-path=\"url(#p4a76e6afd9)\" style=\"fill: none; stroke: #0000ff; stroke-width: 1.5; stroke-linecap: square\"/>\n   </g>\n   <g id=\"line2d_18\">\n    <path d=\"M 65.883476 432.115214 \nL 70.541628 429.883619 \nL 75.19978 427.326945 \nL 79.857932 424.435976 \nL 84.516083 421.208472 \nL 89.174235 417.649923 \nL 93.832387 413.77412 \nL 98.490539 409.603529 \nL 103.14869 405.16947 \nL 107.806842 400.512069 \nL 112.464994 395.679938 \nL 117.123146 390.729562 \nL 121.781297 385.724318 \nL 126.439449 380.733112 \nL 131.097601 375.828627 \nL 135.755753 371.085227 \nL 140.413904 366.576614 \nL 145.072056 362.373385 \nL 149.730208 358.54065 \nL 154.38836 355.135885 \nL 159.046512 352.207193 \nL 163.704663 349.792051 \nL 168.362815 347.91661 \nL 173.020967 346.595526 \nL 177.679119 345.832232 \nL 182.33727 345.61958 \nL 186.995422 345.940699 \nL 191.653574 346.770005 \nL 196.311726 348.074269 \nL 200.969877 349.813717 \nL 205.628029 351.943155 \nL 210.286181 354.413124 \nL 214.944333 357.171115 \nL 219.602485 360.162826 \nL 224.260636 363.333472 \nL 228.918788 366.629099 \nL 233.57694 369.997884 \nL 238.235092 373.391349 \nL 242.893243 376.765477 \nL 247.551395 380.08166 \nL 252.209547 383.307481 \nL 256.867699 386.417281 \nL 261.52585 389.392502 \nL 266.184002 392.221764 \nL 270.842154 394.900666 \nL 275.500306 397.431278 \nL 280.158457 399.821315 \nL 284.816609 402.083027 \nL 289.474761 404.23183 \nL 294.132913 406.284777 \nL 298.791065 408.258966 \nL 303.449216 410.17001 \nL 308.107368 412.030707 \nL 312.76552 413.850012 \nL 317.423672 415.632409 \nL 322.081823 417.377711 \nL 326.739975 419.08131 \nL 331.398127 420.734816 \nL 336.056279 422.327012 \nL 340.71443 423.845034 \nL 345.372582 425.275634 \nL 350.030734 426.606434 \nL 354.688886 427.827052 \nL 359.347037 428.93002 \nL 364.005189 429.91142 \nL 368.663341 430.771208 \nL 373.321493 431.51322 \nL 377.979645 432.144865 \nL 382.637796 432.676547 \nL 387.295948 433.120883 \nL 391.9541 433.491788 \nL 396.612252 433.803498 \nL 401.270403 434.069637 \nL 405.928555 434.30238 \nL 410.586707 434.511802 \nL 415.244859 434.705438 \nL 419.90301 434.888096 \nL 424.561162 435.06192 \nL 429.219314 435.226695 \nL 433.877466 435.380353 \nL 438.535617 435.519647 \nL 443.193769 435.64092 \nL 447.851921 435.740907 \nL 452.510073 435.817511 \nL 457.168225 435.870456 \nL 461.826376 435.901763 \nL 466.484528 435.915986 \nL 471.14268 435.920164 \nL 475.800832 435.923476 \nL 480.458983 435.936612 \nL 485.117135 435.970921 \nL 489.775287 436.037407 \nL 494.433439 436.145693 \nL 499.09159 436.30307 \nL 503.749742 436.513739 \nL 508.407894 436.77835 \nL 513.066046 437.093882 \nL 517.724198 437.453884 \nL 522.382349 437.849043 \nL 527.040501 438.268004 \n\" clip-path=\"url(#p4a76e6afd9)\" style=\"fill: none; stroke: #ff0000; stroke-width: 1.5; stroke-linecap: square\"/>\n   </g>\n   <g id=\"line2d_19\">\n    <path d=\"M 65.883476 378.455405 \nL 70.541628 361.683734 \nL 75.19978 343.676547 \nL 79.857932 325.238244 \nL 84.516083 307.345814 \nL 89.174235 291.083825 \nL 93.832387 277.542688 \nL 98.490539 267.681507 \nL 103.14869 262.17568 \nL 107.806842 261.288303 \nL 112.464994 264.810326 \nL 117.123146 272.099121 \nL 121.781297 282.211797 \nL 126.439449 294.093477 \nL 131.097601 306.760232 \nL 135.755753 319.42291 \nL 140.413904 331.527699 \nL 145.072056 342.726061 \nL 149.730208 352.811404 \nL 154.38836 361.662228 \nL 159.046512 369.214287 \nL 163.704663 375.460615 \nL 168.362815 380.462022 \nL 173.020967 384.349034 \nL 177.679119 387.306643 \nL 182.33727 389.547076 \nL 186.995422 391.284015 \nL 191.653574 392.72019 \nL 196.311726 394.050825 \nL 200.969877 395.474308 \nL 205.628029 397.19536 \nL 210.286181 399.40881 \nL 214.944333 402.262703 \nL 219.602485 405.812373 \nL 224.260636 409.985315 \nL 228.918788 414.575316 \nL 233.57694 419.273734 \nL 238.235092 423.731165 \nL 242.893243 427.63114 \nL 247.551395 430.753921 \nL 252.209547 433.013476 \nL 256.867699 434.460786 \nL 261.52585 435.256945 \nL 266.184002 435.626586 \nL 270.842154 435.80493 \nL 275.500306 435.990952 \nL 280.158457 436.31599 \nL 284.816609 436.832529 \nL 289.474761 437.522583 \nL 294.132913 438.320323 \nL 298.791065 439.140563 \nL 303.449216 439.904527 \nL 308.107368 440.556788 \nL 312.76552 441.071325 \nL 317.423672 441.448377 \nL 322.081823 441.706021 \nL 326.739975 441.870637 \nL 331.398127 441.969183 \nL 336.056279 442.024542 \nL 340.71443 442.05376 \nL 345.372582 442.068261 \nL 350.030734 442.075035 \nL 354.688886 442.078015 \nL 359.347037 442.079249 \nL 364.005189 442.079732 \nL 368.663341 442.079909 \nL 373.321493 442.079971 \nL 377.979645 442.079991 \nL 382.637796 442.079997 \nL 387.295948 442.079999 \nL 391.9541 442.08 \nL 396.612252 442.08 \nL 401.270403 442.08 \nL 405.928555 442.08 \nL 410.586707 442.08 \nL 415.244859 442.08 \nL 419.90301 442.08 \nL 424.561162 442.08 \nL 429.219314 442.08 \nL 433.877466 442.08 \nL 438.535617 442.08 \nL 443.193769 442.08 \nL 447.851921 442.08 \nL 452.510073 442.08 \nL 457.168225 442.08 \nL 461.826376 442.08 \nL 466.484528 442.08 \nL 471.14268 442.08 \nL 475.800832 442.08 \nL 480.458983 442.08 \nL 485.117135 442.08 \nL 489.775287 442.08 \nL 494.433439 442.08 \nL 499.09159 442.08 \nL 503.749742 442.08 \nL 508.407894 442.08 \nL 513.066046 442.08 \nL 517.724198 442.08 \nL 522.382349 442.08 \nL 527.040501 442.08 \n\" clip-path=\"url(#p4a76e6afd9)\" style=\"fill: none; stroke: #ffa500; stroke-width: 1.5; stroke-linecap: square\"/>\n   </g>\n   <g id=\"patch_63\">\n    <path d=\"M 42.825625 442.08 \nL 42.825625 7.2 \n\" style=\"fill: none; stroke: #000000; stroke-width: 0.8; stroke-linejoin: miter; stroke-linecap: square\"/>\n   </g>\n   <g id=\"patch_64\">\n    <path d=\"M 550.098352 442.08 \nL 550.098352 7.2 \n\" style=\"fill: none; stroke: #000000; stroke-width: 0.8; stroke-linejoin: miter; stroke-linecap: square\"/>\n   </g>\n   <g id=\"patch_65\">\n    <path d=\"M 42.825625 442.08 \nL 550.098352 442.08 \n\" style=\"fill: none; stroke: #000000; stroke-width: 0.8; stroke-linejoin: miter; stroke-linecap: square\"/>\n   </g>\n   <g id=\"patch_66\">\n    <path d=\"M 42.825625 7.2 \nL 550.098352 7.2 \n\" style=\"fill: none; stroke: #000000; stroke-width: 0.8; stroke-linejoin: miter; stroke-linecap: square\"/>\n   </g>\n   <g id=\"legend_1\">\n    <g id=\"patch_67\">\n     <path d=\"M 417.51429 100.861875 \nL 537.498352 100.861875 \nQ 541.098352 100.861875 541.098352 97.261875 \nL 541.098352 19.8 \nQ 541.098352 16.2 537.498352 16.2 \nL 417.51429 16.2 \nQ 413.91429 16.2 413.91429 19.8 \nL 413.91429 97.261875 \nQ 413.91429 100.861875 417.51429 100.861875 \nz\n\" style=\"fill: #ffffff; opacity: 0.8; stroke: #cccccc; stroke-linejoin: miter\"/>\n    </g>\n    <g id=\"patch_68\">\n     <path d=\"M 421.11429 37.077187 \nL 457.11429 37.077187 \nL 457.11429 24.477187 \nL 421.11429 24.477187 \nz\n\" style=\"fill: #0000ff; opacity: 0.4\"/>\n    </g>\n    <g id=\"text_17\">\n     <!-- control -->\n     <g transform=\"translate(471.51429 37.077187)scale(0.18 -0.18)\">\n      <defs>\n       <path id=\"DejaVuSans-63\" d=\"M 3122 3366 \nL 3122 2828 \nQ 2878 2963 2633 3030 \nQ 2388 3097 2138 3097 \nQ 1578 3097 1268 2742 \nQ 959 2388 959 1747 \nQ 959 1106 1268 751 \nQ 1578 397 2138 397 \nQ 2388 397 2633 464 \nQ 2878 531 3122 666 \nL 3122 134 \nQ 2881 22 2623 -34 \nQ 2366 -91 2075 -91 \nQ 1284 -91 818 406 \nQ 353 903 353 1747 \nQ 353 2603 823 3093 \nQ 1294 3584 2113 3584 \nQ 2378 3584 2631 3529 \nQ 2884 3475 3122 3366 \nz\n\" transform=\"scale(0.015625)\"/>\n       <path id=\"DejaVuSans-6f\" d=\"M 1959 3097 \nQ 1497 3097 1228 2736 \nQ 959 2375 959 1747 \nQ 959 1119 1226 758 \nQ 1494 397 1959 397 \nQ 2419 397 2687 759 \nQ 2956 1122 2956 1747 \nQ 2956 2369 2687 2733 \nQ 2419 3097 1959 3097 \nz\nM 1959 3584 \nQ 2709 3584 3137 3096 \nQ 3566 2609 3566 1747 \nQ 3566 888 3137 398 \nQ 2709 -91 1959 -91 \nQ 1206 -91 779 398 \nQ 353 888 353 1747 \nQ 353 2609 779 3096 \nQ 1206 3584 1959 3584 \nz\n\" transform=\"scale(0.015625)\"/>\n       <path id=\"DejaVuSans-6e\" d=\"M 3513 2113 \nL 3513 0 \nL 2938 0 \nL 2938 2094 \nQ 2938 2591 2744 2837 \nQ 2550 3084 2163 3084 \nQ 1697 3084 1428 2787 \nQ 1159 2491 1159 1978 \nL 1159 0 \nL 581 0 \nL 581 3500 \nL 1159 3500 \nL 1159 2956 \nQ 1366 3272 1645 3428 \nQ 1925 3584 2291 3584 \nQ 2894 3584 3203 3211 \nQ 3513 2838 3513 2113 \nz\n\" transform=\"scale(0.015625)\"/>\n       <path id=\"DejaVuSans-74\" d=\"M 1172 4494 \nL 1172 3500 \nL 2356 3500 \nL 2356 3053 \nL 1172 3053 \nL 1172 1153 \nQ 1172 725 1289 603 \nQ 1406 481 1766 481 \nL 2356 481 \nL 2356 0 \nL 1766 0 \nQ 1100 0 847 248 \nQ 594 497 594 1153 \nL 594 3053 \nL 172 3053 \nL 172 3500 \nL 594 3500 \nL 594 4494 \nL 1172 4494 \nz\n\" transform=\"scale(0.015625)\"/>\n       <path id=\"DejaVuSans-72\" d=\"M 2631 2963 \nQ 2534 3019 2420 3045 \nQ 2306 3072 2169 3072 \nQ 1681 3072 1420 2755 \nQ 1159 2438 1159 1844 \nL 1159 0 \nL 581 0 \nL 581 3500 \nL 1159 3500 \nL 1159 2956 \nQ 1341 3275 1631 3429 \nQ 1922 3584 2338 3584 \nQ 2397 3584 2469 3576 \nQ 2541 3569 2628 3553 \nL 2631 2963 \nz\n\" transform=\"scale(0.015625)\"/>\n       <path id=\"DejaVuSans-6c\" d=\"M 603 4863 \nL 1178 4863 \nL 1178 0 \nL 603 0 \nL 603 4863 \nz\n\" transform=\"scale(0.015625)\"/>\n      </defs>\n      <use xlink:href=\"#DejaVuSans-63\"/>\n      <use xlink:href=\"#DejaVuSans-6f\" x=\"54.980469\"/>\n      <use xlink:href=\"#DejaVuSans-6e\" x=\"116.162109\"/>\n      <use xlink:href=\"#DejaVuSans-74\" x=\"179.541016\"/>\n      <use xlink:href=\"#DejaVuSans-72\" x=\"218.75\"/>\n      <use xlink:href=\"#DejaVuSans-6f\" x=\"257.613281\"/>\n      <use xlink:href=\"#DejaVuSans-6c\" x=\"318.794922\"/>\n     </g>\n    </g>\n    <g id=\"patch_69\">\n     <path d=\"M 421.11429 63.497812 \nL 457.11429 63.497812 \nL 457.11429 50.897812 \nL 421.11429 50.897812 \nz\n\" style=\"fill: #ff0000; opacity: 0.4\"/>\n    </g>\n    <g id=\"text_18\">\n     <!-- cytd -->\n     <g transform=\"translate(471.51429 63.497812)scale(0.18 -0.18)\">\n      <defs>\n       <path id=\"DejaVuSans-79\" d=\"M 2059 -325 \nQ 1816 -950 1584 -1140 \nQ 1353 -1331 966 -1331 \nL 506 -1331 \nL 506 -850 \nL 844 -850 \nQ 1081 -850 1212 -737 \nQ 1344 -625 1503 -206 \nL 1606 56 \nL 191 3500 \nL 800 3500 \nL 1894 763 \nL 2988 3500 \nL 3597 3500 \nL 2059 -325 \nz\n\" transform=\"scale(0.015625)\"/>\n       <path id=\"DejaVuSans-64\" d=\"M 2906 2969 \nL 2906 4863 \nL 3481 4863 \nL 3481 0 \nL 2906 0 \nL 2906 525 \nQ 2725 213 2448 61 \nQ 2172 -91 1784 -91 \nQ 1150 -91 751 415 \nQ 353 922 353 1747 \nQ 353 2572 751 3078 \nQ 1150 3584 1784 3584 \nQ 2172 3584 2448 3432 \nQ 2725 3281 2906 2969 \nz\nM 947 1747 \nQ 947 1113 1208 752 \nQ 1469 391 1925 391 \nQ 2381 391 2643 752 \nQ 2906 1113 2906 1747 \nQ 2906 2381 2643 2742 \nQ 2381 3103 1925 3103 \nQ 1469 3103 1208 2742 \nQ 947 2381 947 1747 \nz\n\" transform=\"scale(0.015625)\"/>\n      </defs>\n      <use xlink:href=\"#DejaVuSans-63\"/>\n      <use xlink:href=\"#DejaVuSans-79\" x=\"54.980469\"/>\n      <use xlink:href=\"#DejaVuSans-74\" x=\"114.160156\"/>\n      <use xlink:href=\"#DejaVuSans-64\" x=\"153.369141\"/>\n     </g>\n    </g>\n    <g id=\"patch_70\">\n     <path d=\"M 421.11429 89.918437 \nL 457.11429 89.918437 \nL 457.11429 77.318437 \nL 421.11429 77.318437 \nz\n\" style=\"fill: #ffa500; opacity: 0.4\"/>\n    </g>\n    <g id=\"text_19\">\n     <!-- jasp -->\n     <g transform=\"translate(471.51429 89.918437)scale(0.18 -0.18)\">\n      <defs>\n       <path id=\"DejaVuSans-6a\" d=\"M 603 3500 \nL 1178 3500 \nL 1178 -63 \nQ 1178 -731 923 -1031 \nQ 669 -1331 103 -1331 \nL -116 -1331 \nL -116 -844 \nL 38 -844 \nQ 366 -844 484 -692 \nQ 603 -541 603 -63 \nL 603 3500 \nz\nM 603 4863 \nL 1178 4863 \nL 1178 4134 \nL 603 4134 \nL 603 4863 \nz\n\" transform=\"scale(0.015625)\"/>\n       <path id=\"DejaVuSans-61\" d=\"M 2194 1759 \nQ 1497 1759 1228 1600 \nQ 959 1441 959 1056 \nQ 959 750 1161 570 \nQ 1363 391 1709 391 \nQ 2188 391 2477 730 \nQ 2766 1069 2766 1631 \nL 2766 1759 \nL 2194 1759 \nz\nM 3341 1997 \nL 3341 0 \nL 2766 0 \nL 2766 531 \nQ 2569 213 2275 61 \nQ 1981 -91 1556 -91 \nQ 1019 -91 701 211 \nQ 384 513 384 1019 \nQ 384 1609 779 1909 \nQ 1175 2209 1959 2209 \nL 2766 2209 \nL 2766 2266 \nQ 2766 2663 2505 2880 \nQ 2244 3097 1772 3097 \nQ 1472 3097 1187 3025 \nQ 903 2953 641 2809 \nL 641 3341 \nQ 956 3463 1253 3523 \nQ 1550 3584 1831 3584 \nQ 2591 3584 2966 3190 \nQ 3341 2797 3341 1997 \nz\n\" transform=\"scale(0.015625)\"/>\n       <path id=\"DejaVuSans-73\" d=\"M 2834 3397 \nL 2834 2853 \nQ 2591 2978 2328 3040 \nQ 2066 3103 1784 3103 \nQ 1356 3103 1142 2972 \nQ 928 2841 928 2578 \nQ 928 2378 1081 2264 \nQ 1234 2150 1697 2047 \nL 1894 2003 \nQ 2506 1872 2764 1633 \nQ 3022 1394 3022 966 \nQ 3022 478 2636 193 \nQ 2250 -91 1575 -91 \nQ 1294 -91 989 -36 \nQ 684 19 347 128 \nL 347 722 \nQ 666 556 975 473 \nQ 1284 391 1588 391 \nQ 1994 391 2212 530 \nQ 2431 669 2431 922 \nQ 2431 1156 2273 1281 \nQ 2116 1406 1581 1522 \nL 1381 1569 \nQ 847 1681 609 1914 \nQ 372 2147 372 2553 \nQ 372 3047 722 3315 \nQ 1072 3584 1716 3584 \nQ 2034 3584 2315 3537 \nQ 2597 3491 2834 3397 \nz\n\" transform=\"scale(0.015625)\"/>\n       <path id=\"DejaVuSans-70\" d=\"M 1159 525 \nL 1159 -1331 \nL 581 -1331 \nL 581 3500 \nL 1159 3500 \nL 1159 2969 \nQ 1341 3281 1617 3432 \nQ 1894 3584 2278 3584 \nQ 2916 3584 3314 3078 \nQ 3713 2572 3713 1747 \nQ 3713 922 3314 415 \nQ 2916 -91 2278 -91 \nQ 1894 -91 1617 61 \nQ 1341 213 1159 525 \nz\nM 3116 1747 \nQ 3116 2381 2855 2742 \nQ 2594 3103 2138 3103 \nQ 1681 3103 1420 2742 \nQ 1159 2381 1159 1747 \nQ 1159 1113 1420 752 \nQ 1681 391 2138 391 \nQ 2594 391 2855 752 \nQ 3116 1113 3116 1747 \nz\n\" transform=\"scale(0.015625)\"/>\n      </defs>\n      <use xlink:href=\"#DejaVuSans-6a\"/>\n      <use xlink:href=\"#DejaVuSans-61\" x=\"27.783203\"/>\n      <use xlink:href=\"#DejaVuSans-73\" x=\"89.0625\"/>\n      <use xlink:href=\"#DejaVuSans-70\" x=\"141.162109\"/>\n     </g>\n    </g>\n   </g>\n  </g>\n  <g id=\"axes_2\">\n   <g id=\"patch_71\">\n    <path d=\"M 651.552898 442.08 \nL 1158.825625 442.08 \nL 1158.825625 7.2 \nL 651.552898 7.2 \nz\n\" style=\"fill: #ffffff\"/>\n   </g>\n   <g id=\"patch_72\">\n    <path d=\"M 757.758487 442.08 \nL 765.24447 442.08 \nL 765.24447 276.411429 \nL 757.758487 276.411429 \nz\n\" clip-path=\"url(#p72ba9d1c6d)\" style=\"fill: #0000ff; opacity: 0.4\"/>\n   </g>\n   <g id=\"patch_73\">\n    <path d=\"M 765.24447 442.08 \nL 772.730453 442.08 \nL 772.730453 27.908571 \nL 765.24447 27.908571 \nz\n\" clip-path=\"url(#p72ba9d1c6d)\" style=\"fill: #0000ff; opacity: 0.4\"/>\n   </g>\n   <g id=\"patch_74\">\n    <path d=\"M 772.730453 442.08 \nL 780.216435 442.08 \nL 780.216435 27.908571 \nL 772.730453 27.908571 \nz\n\" clip-path=\"url(#p72ba9d1c6d)\" style=\"fill: #0000ff; opacity: 0.4\"/>\n   </g>\n   <g id=\"patch_75\">\n    <path d=\"M 780.216435 442.08 \nL 787.702418 442.08 \nL 787.702418 172.868571 \nL 780.216435 172.868571 \nz\n\" clip-path=\"url(#p72ba9d1c6d)\" style=\"fill: #0000ff; opacity: 0.4\"/>\n   </g>\n   <g id=\"patch_76\">\n    <path d=\"M 787.702418 442.08 \nL 795.188401 442.08 \nL 795.188401 317.828571 \nL 787.702418 317.828571 \nz\n\" clip-path=\"url(#p72ba9d1c6d)\" style=\"fill: #0000ff; opacity: 0.4\"/>\n   </g>\n   <g id=\"patch_77\">\n    <path d=\"M 795.188401 442.08 \nL 802.674384 442.08 \nL 802.674384 338.537143 \nL 795.188401 338.537143 \nz\n\" clip-path=\"url(#p72ba9d1c6d)\" style=\"fill: #0000ff; opacity: 0.4\"/>\n   </g>\n   <g id=\"patch_78\">\n    <path d=\"M 802.674384 442.08 \nL 810.160366 442.08 \nL 810.160366 338.537143 \nL 802.674384 338.537143 \nz\n\" clip-path=\"url(#p72ba9d1c6d)\" style=\"fill: #0000ff; opacity: 0.4\"/>\n   </g>\n   <g id=\"patch_79\">\n    <path d=\"M 810.160366 442.08 \nL 817.646349 442.08 \nL 817.646349 317.828571 \nL 810.160366 317.828571 \nz\n\" clip-path=\"url(#p72ba9d1c6d)\" style=\"fill: #0000ff; opacity: 0.4\"/>\n   </g>\n   <g id=\"patch_80\">\n    <path d=\"M 817.646349 442.08 \nL 825.132332 442.08 \nL 825.132332 317.828571 \nL 817.646349 317.828571 \nz\n\" clip-path=\"url(#p72ba9d1c6d)\" style=\"fill: #0000ff; opacity: 0.4\"/>\n   </g>\n   <g id=\"patch_81\">\n    <path d=\"M 825.132332 442.08 \nL 832.618315 442.08 \nL 832.618315 297.12 \nL 825.132332 297.12 \nz\n\" clip-path=\"url(#p72ba9d1c6d)\" style=\"fill: #0000ff; opacity: 0.4\"/>\n   </g>\n   <g id=\"patch_82\">\n    <path d=\"M 832.618315 442.08 \nL 840.104298 442.08 \nL 840.104298 421.371429 \nL 832.618315 421.371429 \nz\n\" clip-path=\"url(#p72ba9d1c6d)\" style=\"fill: #0000ff; opacity: 0.4\"/>\n   </g>\n   <g id=\"patch_83\">\n    <path d=\"M 840.104298 442.08 \nL 847.59028 442.08 \nL 847.59028 338.537143 \nL 840.104298 338.537143 \nz\n\" clip-path=\"url(#p72ba9d1c6d)\" style=\"fill: #0000ff; opacity: 0.4\"/>\n   </g>\n   <g id=\"patch_84\">\n    <path d=\"M 847.59028 442.08 \nL 855.076263 442.08 \nL 855.076263 379.954286 \nL 847.59028 379.954286 \nz\n\" clip-path=\"url(#p72ba9d1c6d)\" style=\"fill: #0000ff; opacity: 0.4\"/>\n   </g>\n   <g id=\"patch_85\">\n    <path d=\"M 855.076263 442.08 \nL 862.562246 442.08 \nL 862.562246 400.662857 \nL 855.076263 400.662857 \nz\n\" clip-path=\"url(#p72ba9d1c6d)\" style=\"fill: #0000ff; opacity: 0.4\"/>\n   </g>\n   <g id=\"patch_86\">\n    <path d=\"M 862.562246 442.08 \nL 870.048229 442.08 \nL 870.048229 442.08 \nL 862.562246 442.08 \nz\n\" clip-path=\"url(#p72ba9d1c6d)\" style=\"fill: #0000ff; opacity: 0.4\"/>\n   </g>\n   <g id=\"patch_87\">\n    <path d=\"M 870.048229 442.08 \nL 877.534212 442.08 \nL 877.534212 400.662857 \nL 870.048229 400.662857 \nz\n\" clip-path=\"url(#p72ba9d1c6d)\" style=\"fill: #0000ff; opacity: 0.4\"/>\n   </g>\n   <g id=\"patch_88\">\n    <path d=\"M 877.534212 442.08 \nL 885.020194 442.08 \nL 885.020194 400.662857 \nL 877.534212 400.662857 \nz\n\" clip-path=\"url(#p72ba9d1c6d)\" style=\"fill: #0000ff; opacity: 0.4\"/>\n   </g>\n   <g id=\"patch_89\">\n    <path d=\"M 885.020194 442.08 \nL 892.506177 442.08 \nL 892.506177 421.371429 \nL 885.020194 421.371429 \nz\n\" clip-path=\"url(#p72ba9d1c6d)\" style=\"fill: #0000ff; opacity: 0.4\"/>\n   </g>\n   <g id=\"patch_90\">\n    <path d=\"M 892.506177 442.08 \nL 899.99216 442.08 \nL 899.99216 421.371429 \nL 892.506177 421.371429 \nz\n\" clip-path=\"url(#p72ba9d1c6d)\" style=\"fill: #0000ff; opacity: 0.4\"/>\n   </g>\n   <g id=\"patch_91\">\n    <path d=\"M 899.99216 442.08 \nL 907.478143 442.08 \nL 907.478143 421.371429 \nL 899.99216 421.371429 \nz\n\" clip-path=\"url(#p72ba9d1c6d)\" style=\"fill: #0000ff; opacity: 0.4\"/>\n   </g>\n   <g id=\"patch_92\">\n    <path d=\"M 824.63253 442.08 \nL 840.990887 442.08 \nL 840.990887 363.030061 \nL 824.63253 363.030061 \nz\n\" clip-path=\"url(#p72ba9d1c6d)\" style=\"fill: #ff0000; opacity: 0.4\"/>\n   </g>\n   <g id=\"patch_93\">\n    <path d=\"M 840.990887 442.08 \nL 857.349244 442.08 \nL 857.349244 349.855071 \nL 840.990887 349.855071 \nz\n\" clip-path=\"url(#p72ba9d1c6d)\" style=\"fill: #ff0000; opacity: 0.4\"/>\n   </g>\n   <g id=\"patch_94\">\n    <path d=\"M 857.349244 442.08 \nL 873.7076 442.08 \nL 873.7076 310.330101 \nL 857.349244 310.330101 \nz\n\" clip-path=\"url(#p72ba9d1c6d)\" style=\"fill: #ff0000; opacity: 0.4\"/>\n   </g>\n   <g id=\"patch_95\">\n    <path d=\"M 873.7076 442.08 \nL 890.065957 442.08 \nL 890.065957 363.030061 \nL 873.7076 363.030061 \nz\n\" clip-path=\"url(#p72ba9d1c6d)\" style=\"fill: #ff0000; opacity: 0.4\"/>\n   </g>\n   <g id=\"patch_96\">\n    <path d=\"M 890.065957 442.08 \nL 906.424314 442.08 \nL 906.424314 310.330101 \nL 890.065957 310.330101 \nz\n\" clip-path=\"url(#p72ba9d1c6d)\" style=\"fill: #ff0000; opacity: 0.4\"/>\n   </g>\n   <g id=\"patch_97\">\n    <path d=\"M 906.424314 442.08 \nL 922.782671 442.08 \nL 922.782671 349.855071 \nL 906.424314 349.855071 \nz\n\" clip-path=\"url(#p72ba9d1c6d)\" style=\"fill: #ff0000; opacity: 0.4\"/>\n   </g>\n   <g id=\"patch_98\">\n    <path d=\"M 922.782671 442.08 \nL 939.141027 442.08 \nL 939.141027 389.380041 \nL 922.782671 389.380041 \nz\n\" clip-path=\"url(#p72ba9d1c6d)\" style=\"fill: #ff0000; opacity: 0.4\"/>\n   </g>\n   <g id=\"patch_99\">\n    <path d=\"M 939.141027 442.08 \nL 955.499384 442.08 \nL 955.499384 323.505091 \nL 939.141027 323.505091 \nz\n\" clip-path=\"url(#p72ba9d1c6d)\" style=\"fill: #ff0000; opacity: 0.4\"/>\n   </g>\n   <g id=\"patch_100\">\n    <path d=\"M 955.499384 442.08 \nL 971.857741 442.08 \nL 971.857741 349.855071 \nL 955.499384 349.855071 \nz\n\" clip-path=\"url(#p72ba9d1c6d)\" style=\"fill: #ff0000; opacity: 0.4\"/>\n   </g>\n   <g id=\"patch_101\">\n    <path d=\"M 971.857741 442.08 \nL 988.216097 442.08 \nL 988.216097 389.380041 \nL 971.857741 389.380041 \nz\n\" clip-path=\"url(#p72ba9d1c6d)\" style=\"fill: #ff0000; opacity: 0.4\"/>\n   </g>\n   <g id=\"patch_102\">\n    <path d=\"M 988.216097 442.08 \nL 1004.574454 442.08 \nL 1004.574454 428.90501 \nL 988.216097 428.90501 \nz\n\" clip-path=\"url(#p72ba9d1c6d)\" style=\"fill: #ff0000; opacity: 0.4\"/>\n   </g>\n   <g id=\"patch_103\">\n    <path d=\"M 1004.574454 442.08 \nL 1020.932811 442.08 \nL 1020.932811 402.55503 \nL 1004.574454 402.55503 \nz\n\" clip-path=\"url(#p72ba9d1c6d)\" style=\"fill: #ff0000; opacity: 0.4\"/>\n   </g>\n   <g id=\"patch_104\">\n    <path d=\"M 1020.932811 442.08 \nL 1037.291168 442.08 \nL 1037.291168 428.90501 \nL 1020.932811 428.90501 \nz\n\" clip-path=\"url(#p72ba9d1c6d)\" style=\"fill: #ff0000; opacity: 0.4\"/>\n   </g>\n   <g id=\"patch_105\">\n    <path d=\"M 1037.291168 442.08 \nL 1053.649524 442.08 \nL 1053.649524 428.90501 \nL 1037.291168 428.90501 \nz\n\" clip-path=\"url(#p72ba9d1c6d)\" style=\"fill: #ff0000; opacity: 0.4\"/>\n   </g>\n   <g id=\"patch_106\">\n    <path d=\"M 1053.649524 442.08 \nL 1070.007881 442.08 \nL 1070.007881 442.08 \nL 1053.649524 442.08 \nz\n\" clip-path=\"url(#p72ba9d1c6d)\" style=\"fill: #ff0000; opacity: 0.4\"/>\n   </g>\n   <g id=\"patch_107\">\n    <path d=\"M 1070.007881 442.08 \nL 1086.366238 442.08 \nL 1086.366238 442.08 \nL 1070.007881 442.08 \nz\n\" clip-path=\"url(#p72ba9d1c6d)\" style=\"fill: #ff0000; opacity: 0.4\"/>\n   </g>\n   <g id=\"patch_108\">\n    <path d=\"M 1086.366238 442.08 \nL 1102.724594 442.08 \nL 1102.724594 442.08 \nL 1086.366238 442.08 \nz\n\" clip-path=\"url(#p72ba9d1c6d)\" style=\"fill: #ff0000; opacity: 0.4\"/>\n   </g>\n   <g id=\"patch_109\">\n    <path d=\"M 1102.724594 442.08 \nL 1119.082951 442.08 \nL 1119.082951 415.73002 \nL 1102.724594 415.73002 \nz\n\" clip-path=\"url(#p72ba9d1c6d)\" style=\"fill: #ff0000; opacity: 0.4\"/>\n   </g>\n   <g id=\"patch_110\">\n    <path d=\"M 1119.082951 442.08 \nL 1135.441308 442.08 \nL 1135.441308 428.90501 \nL 1119.082951 428.90501 \nz\n\" clip-path=\"url(#p72ba9d1c6d)\" style=\"fill: #ff0000; opacity: 0.4\"/>\n   </g>\n   <g id=\"patch_111\">\n    <path d=\"M 1135.441308 442.08 \nL 1151.799665 442.08 \nL 1151.799665 402.55503 \nL 1135.441308 402.55503 \nz\n\" clip-path=\"url(#p72ba9d1c6d)\" style=\"fill: #ff0000; opacity: 0.4\"/>\n   </g>\n   <g id=\"patch_112\">\n    <path d=\"M 776.55414 442.08 \nL 783.067626 442.08 \nL 783.067626 310.793555 \nL 776.55414 310.793555 \nz\n\" clip-path=\"url(#p72ba9d1c6d)\" style=\"fill: #ffa500; opacity: 0.4\"/>\n   </g>\n   <g id=\"patch_113\">\n    <path d=\"M 783.067626 442.08 \nL 789.581112 442.08 \nL 789.581112 310.793555 \nL 783.067626 310.793555 \nz\n\" clip-path=\"url(#p72ba9d1c6d)\" style=\"fill: #ffa500; opacity: 0.4\"/>\n   </g>\n   <g id=\"patch_114\">\n    <path d=\"M 789.581112 442.08 \nL 796.094598 442.08 \nL 796.094598 223.269258 \nL 789.581112 223.269258 \nz\n\" clip-path=\"url(#p72ba9d1c6d)\" style=\"fill: #ffa500; opacity: 0.4\"/>\n   </g>\n   <g id=\"patch_115\">\n    <path d=\"M 796.094598 442.08 \nL 802.608085 442.08 \nL 802.608085 135.744961 \nL 796.094598 135.744961 \nz\n\" clip-path=\"url(#p72ba9d1c6d)\" style=\"fill: #ffa500; opacity: 0.4\"/>\n   </g>\n   <g id=\"patch_116\">\n    <path d=\"M 802.608085 442.08 \nL 809.121571 442.08 \nL 809.121571 179.50711 \nL 802.608085 179.50711 \nz\n\" clip-path=\"url(#p72ba9d1c6d)\" style=\"fill: #ffa500; opacity: 0.4\"/>\n   </g>\n   <g id=\"patch_117\">\n    <path d=\"M 809.121571 442.08 \nL 815.635057 442.08 \nL 815.635057 267.031407 \nL 809.121571 267.031407 \nz\n\" clip-path=\"url(#p72ba9d1c6d)\" style=\"fill: #ffa500; opacity: 0.4\"/>\n   </g>\n   <g id=\"patch_118\">\n    <path d=\"M 815.635057 442.08 \nL 822.148543 442.08 \nL 822.148543 223.269258 \nL 815.635057 223.269258 \nz\n\" clip-path=\"url(#p72ba9d1c6d)\" style=\"fill: #ffa500; opacity: 0.4\"/>\n   </g>\n   <g id=\"patch_119\">\n    <path d=\"M 822.148543 442.08 \nL 828.662029 442.08 \nL 828.662029 310.793555 \nL 822.148543 310.793555 \nz\n\" clip-path=\"url(#p72ba9d1c6d)\" style=\"fill: #ffa500; opacity: 0.4\"/>\n   </g>\n   <g id=\"patch_120\">\n    <path d=\"M 828.662029 442.08 \nL 835.175515 442.08 \nL 835.175515 179.50711 \nL 828.662029 179.50711 \nz\n\" clip-path=\"url(#p72ba9d1c6d)\" style=\"fill: #ffa500; opacity: 0.4\"/>\n   </g>\n   <g id=\"patch_121\">\n    <path d=\"M 835.175515 442.08 \nL 841.689001 442.08 \nL 841.689001 267.031407 \nL 835.175515 267.031407 \nz\n\" clip-path=\"url(#p72ba9d1c6d)\" style=\"fill: #ffa500; opacity: 0.4\"/>\n   </g>\n   <g id=\"patch_122\">\n    <path d=\"M 841.689001 442.08 \nL 848.202487 442.08 \nL 848.202487 354.555703 \nL 841.689001 354.555703 \nz\n\" clip-path=\"url(#p72ba9d1c6d)\" style=\"fill: #ffa500; opacity: 0.4\"/>\n   </g>\n   <g id=\"patch_123\">\n    <path d=\"M 848.202487 442.08 \nL 854.715974 442.08 \nL 854.715974 398.317852 \nL 848.202487 398.317852 \nz\n\" clip-path=\"url(#p72ba9d1c6d)\" style=\"fill: #ffa500; opacity: 0.4\"/>\n   </g>\n   <g id=\"patch_124\">\n    <path d=\"M 854.715974 442.08 \nL 861.22946 442.08 \nL 861.22946 354.555703 \nL 854.715974 354.555703 \nz\n\" clip-path=\"url(#p72ba9d1c6d)\" style=\"fill: #ffa500; opacity: 0.4\"/>\n   </g>\n   <g id=\"patch_125\">\n    <path d=\"M 861.22946 442.08 \nL 867.742946 442.08 \nL 867.742946 398.317852 \nL 861.22946 398.317852 \nz\n\" clip-path=\"url(#p72ba9d1c6d)\" style=\"fill: #ffa500; opacity: 0.4\"/>\n   </g>\n   <g id=\"patch_126\">\n    <path d=\"M 867.742946 442.08 \nL 874.256432 442.08 \nL 874.256432 267.031407 \nL 867.742946 267.031407 \nz\n\" clip-path=\"url(#p72ba9d1c6d)\" style=\"fill: #ffa500; opacity: 0.4\"/>\n   </g>\n   <g id=\"patch_127\">\n    <path d=\"M 874.256432 442.08 \nL 880.769918 442.08 \nL 880.769918 310.793555 \nL 874.256432 310.793555 \nz\n\" clip-path=\"url(#p72ba9d1c6d)\" style=\"fill: #ffa500; opacity: 0.4\"/>\n   </g>\n   <g id=\"patch_128\">\n    <path d=\"M 880.769918 442.08 \nL 887.283404 442.08 \nL 887.283404 442.08 \nL 880.769918 442.08 \nz\n\" clip-path=\"url(#p72ba9d1c6d)\" style=\"fill: #ffa500; opacity: 0.4\"/>\n   </g>\n   <g id=\"patch_129\">\n    <path d=\"M 887.283404 442.08 \nL 893.79689 442.08 \nL 893.79689 442.08 \nL 887.283404 442.08 \nz\n\" clip-path=\"url(#p72ba9d1c6d)\" style=\"fill: #ffa500; opacity: 0.4\"/>\n   </g>\n   <g id=\"patch_130\">\n    <path d=\"M 893.79689 442.08 \nL 900.310376 442.08 \nL 900.310376 398.317852 \nL 893.79689 398.317852 \nz\n\" clip-path=\"url(#p72ba9d1c6d)\" style=\"fill: #ffa500; opacity: 0.4\"/>\n   </g>\n   <g id=\"patch_131\">\n    <path d=\"M 900.310376 442.08 \nL 906.823863 442.08 \nL 906.823863 354.555703 \nL 900.310376 354.555703 \nz\n\" clip-path=\"url(#p72ba9d1c6d)\" style=\"fill: #ffa500; opacity: 0.4\"/>\n   </g>\n   <g id=\"matplotlib.axis_3\">\n    <g id=\"xtick_8\">\n     <g id=\"line2d_20\">\n      <g>\n       <use xlink:href=\"#mfa37703be2\" x=\"697.6686\" y=\"442.08\" style=\"stroke: #000000; stroke-width: 0.8\"/>\n      </g>\n     </g>\n     <g id=\"text_20\">\n      <!-- 0.0 -->\n      <g transform=\"translate(683.355788 462.757187)scale(0.18 -0.18)\">\n       <use xlink:href=\"#DejaVuSans-30\"/>\n       <use xlink:href=\"#DejaVuSans-2e\" x=\"63.623047\"/>\n       <use xlink:href=\"#DejaVuSans-30\" x=\"95.410156\"/>\n      </g>\n     </g>\n    </g>\n    <g id=\"xtick_9\">\n     <g id=\"line2d_21\">\n      <g>\n       <use xlink:href=\"#mfa37703be2\" x=\"789.900005\" y=\"442.08\" style=\"stroke: #000000; stroke-width: 0.8\"/>\n      </g>\n     </g>\n     <g id=\"text_21\">\n      <!-- 0.1 -->\n      <g transform=\"translate(775.587193 462.757187)scale(0.18 -0.18)\">\n       <use xlink:href=\"#DejaVuSans-30\"/>\n       <use xlink:href=\"#DejaVuSans-2e\" x=\"63.623047\"/>\n       <use xlink:href=\"#DejaVuSans-31\" x=\"95.410156\"/>\n      </g>\n     </g>\n    </g>\n    <g id=\"xtick_10\">\n     <g id=\"line2d_22\">\n      <g>\n       <use xlink:href=\"#mfa37703be2\" x=\"882.13141\" y=\"442.08\" style=\"stroke: #000000; stroke-width: 0.8\"/>\n      </g>\n     </g>\n     <g id=\"text_22\">\n      <!-- 0.2 -->\n      <g transform=\"translate(867.818598 462.757187)scale(0.18 -0.18)\">\n       <use xlink:href=\"#DejaVuSans-30\"/>\n       <use xlink:href=\"#DejaVuSans-2e\" x=\"63.623047\"/>\n       <use xlink:href=\"#DejaVuSans-32\" x=\"95.410156\"/>\n      </g>\n     </g>\n    </g>\n    <g id=\"xtick_11\">\n     <g id=\"line2d_23\">\n      <g>\n       <use xlink:href=\"#mfa37703be2\" x=\"974.362815\" y=\"442.08\" style=\"stroke: #000000; stroke-width: 0.8\"/>\n      </g>\n     </g>\n     <g id=\"text_23\">\n      <!-- 0.3 -->\n      <g transform=\"translate(960.050003 462.757187)scale(0.18 -0.18)\">\n       <use xlink:href=\"#DejaVuSans-30\"/>\n       <use xlink:href=\"#DejaVuSans-2e\" x=\"63.623047\"/>\n       <use xlink:href=\"#DejaVuSans-33\" x=\"95.410156\"/>\n      </g>\n     </g>\n    </g>\n    <g id=\"xtick_12\">\n     <g id=\"line2d_24\">\n      <g>\n       <use xlink:href=\"#mfa37703be2\" x=\"1066.59422\" y=\"442.08\" style=\"stroke: #000000; stroke-width: 0.8\"/>\n      </g>\n     </g>\n     <g id=\"text_24\">\n      <!-- 0.4 -->\n      <g transform=\"translate(1052.281408 462.757187)scale(0.18 -0.18)\">\n       <use xlink:href=\"#DejaVuSans-30\"/>\n       <use xlink:href=\"#DejaVuSans-2e\" x=\"63.623047\"/>\n       <use xlink:href=\"#DejaVuSans-34\" x=\"95.410156\"/>\n      </g>\n     </g>\n    </g>\n    <g id=\"xtick_13\">\n     <g id=\"line2d_25\">\n      <g>\n       <use xlink:href=\"#mfa37703be2\" x=\"1158.825625\" y=\"442.08\" style=\"stroke: #000000; stroke-width: 0.8\"/>\n      </g>\n     </g>\n     <g id=\"text_25\">\n      <!-- 0.5 -->\n      <g transform=\"translate(1144.512812 462.757187)scale(0.18 -0.18)\">\n       <use xlink:href=\"#DejaVuSans-30\"/>\n       <use xlink:href=\"#DejaVuSans-2e\" x=\"63.623047\"/>\n       <use xlink:href=\"#DejaVuSans-35\" x=\"95.410156\"/>\n      </g>\n     </g>\n    </g>\n   </g>\n   <g id=\"matplotlib.axis_4\">\n    <g id=\"ytick_10\">\n     <g id=\"line2d_26\">\n      <g>\n       <use xlink:href=\"#m8f57c8d1ef\" x=\"651.552898\" y=\"442.08\" style=\"stroke: #000000; stroke-width: 0.8\"/>\n      </g>\n     </g>\n     <g id=\"text_26\">\n      <!-- 0 -->\n      <g transform=\"translate(633.100398 448.918594)scale(0.18 -0.18)\">\n       <use xlink:href=\"#DejaVuSans-30\"/>\n      </g>\n     </g>\n    </g>\n    <g id=\"ytick_11\">\n     <g id=\"line2d_27\">\n      <g>\n       <use xlink:href=\"#m8f57c8d1ef\" x=\"651.552898\" y=\"346.273495\" style=\"stroke: #000000; stroke-width: 0.8\"/>\n      </g>\n     </g>\n     <g id=\"text_27\">\n      <!-- 5 -->\n      <g transform=\"translate(633.100398 353.112089)scale(0.18 -0.18)\">\n       <use xlink:href=\"#DejaVuSans-35\"/>\n      </g>\n     </g>\n    </g>\n    <g id=\"ytick_12\">\n     <g id=\"line2d_28\">\n      <g>\n       <use xlink:href=\"#m8f57c8d1ef\" x=\"651.552898\" y=\"250.466991\" style=\"stroke: #000000; stroke-width: 0.8\"/>\n      </g>\n     </g>\n     <g id=\"text_28\">\n      <!-- 10 -->\n      <g transform=\"translate(621.647898 257.305584)scale(0.18 -0.18)\">\n       <use xlink:href=\"#DejaVuSans-31\"/>\n       <use xlink:href=\"#DejaVuSans-30\" x=\"63.623047\"/>\n      </g>\n     </g>\n    </g>\n    <g id=\"ytick_13\">\n     <g id=\"line2d_29\">\n      <g>\n       <use xlink:href=\"#m8f57c8d1ef\" x=\"651.552898\" y=\"154.660486\" style=\"stroke: #000000; stroke-width: 0.8\"/>\n      </g>\n     </g>\n     <g id=\"text_29\">\n      <!-- 15 -->\n      <g transform=\"translate(621.647898 161.49908)scale(0.18 -0.18)\">\n       <use xlink:href=\"#DejaVuSans-31\"/>\n       <use xlink:href=\"#DejaVuSans-35\" x=\"63.623047\"/>\n      </g>\n     </g>\n    </g>\n    <g id=\"ytick_14\">\n     <g id=\"line2d_30\">\n      <g>\n       <use xlink:href=\"#m8f57c8d1ef\" x=\"651.552898\" y=\"58.853981\" style=\"stroke: #000000; stroke-width: 0.8\"/>\n      </g>\n     </g>\n     <g id=\"text_30\">\n      <!-- 20 -->\n      <g transform=\"translate(621.647898 65.692575)scale(0.18 -0.18)\">\n       <use xlink:href=\"#DejaVuSans-32\"/>\n       <use xlink:href=\"#DejaVuSans-30\" x=\"63.623047\"/>\n      </g>\n     </g>\n    </g>\n   </g>\n   <g id=\"line2d_31\">\n    <path d=\"M 697.6686 442.07949 \nL 706.984904 442.068531 \nL 716.301207 441.91394 \nL 725.617511 440.520942 \nL 734.933814 432.514148 \nL 744.250118 403.302212 \nL 753.566421 336.586678 \nL 762.882725 245.203846 \nL 772.199028 182.235772 \nL 781.515332 188.108397 \nL 790.831636 241.905336 \nL 800.147939 292.861706 \nL 809.464243 317.611477 \nL 818.780546 327.559327 \nL 828.09685 339.551867 \nL 837.413153 357.419649 \nL 846.729457 377.256085 \nL 856.04576 395.054508 \nL 865.362064 407.267795 \nL 874.678367 413.062355 \nL 883.994671 416.073786 \nL 893.310974 420.234398 \nL 902.627278 426.148093 \nL 911.943581 432.512759 \nL 921.259885 437.713763 \nL 930.576188 440.684031 \nL 939.892492 441.784229 \nL 949.208796 442.039754 \nL 958.525099 442.076542 \nL 967.841403 442.079814 \nL 977.157706 442.079994 \nL 986.47401 442.08 \nL 995.790313 442.08 \nL 1005.106617 442.08 \nL 1014.42292 442.08 \nL 1023.739224 442.08 \nL 1033.055527 442.08 \nL 1042.371831 442.08 \nL 1051.688134 442.08 \nL 1061.004438 442.08 \nL 1070.320741 442.08 \nL 1079.637045 442.08 \nL 1088.953349 442.08 \nL 1098.269652 442.08 \nL 1107.585956 442.08 \nL 1116.902259 442.08 \nL 1126.218563 442.08 \nL 1135.534866 442.08 \nL 1144.85117 442.08 \nL 1154.167473 442.08 \nL 1163.483777 442.08 \nL 1172.80008 442.08 \nL 1181.338438 442.08 \n\" clip-path=\"url(#p72ba9d1c6d)\" style=\"fill: none; stroke: #0000ff; stroke-width: 1.5; stroke-linecap: square\"/>\n   </g>\n   <g id=\"line2d_32\">\n    <path d=\"M 697.6686 442.0768 \nL 706.984904 442.069692 \nL 716.301207 442.0493 \nL 725.617511 441.995404 \nL 734.933814 441.864117 \nL 744.250118 441.569292 \nL 753.566421 440.958695 \nL 762.882725 439.79197 \nL 772.199028 437.734219 \nL 781.515332 434.382932 \nL 790.831636 429.341185 \nL 800.147939 422.333153 \nL 809.464243 413.333373 \nL 818.780546 402.661024 \nL 828.09685 390.989876 \nL 837.413153 379.249876 \nL 846.729457 368.439381 \nL 856.04576 359.406665 \nL 865.362064 352.674514 \nL 874.678367 348.364046 \nL 883.994671 346.23368 \nL 893.310974 345.808165 \nL 902.627278 346.549665 \nL 911.943581 348.021749 \nL 921.259885 350.007116 \nL 930.576188 352.549905 \nL 939.892492 355.904775 \nL 949.208796 360.398403 \nL 958.525099 366.246729 \nL 967.841403 373.403827 \nL 977.157706 381.516568 \nL 986.47401 390.01203 \nL 995.790313 398.275342 \nL 1005.106617 405.828516 \nL 1014.42292 412.426378 \nL 1023.739224 418.038106 \nL 1033.055527 422.7462 \nL 1042.371831 426.630885 \nL 1051.688134 429.701562 \nL 1061.004438 431.900098 \nL 1070.320741 433.159547 \nL 1079.637045 433.478329 \nL 1088.953349 432.971125 \nL 1098.269652 431.876393 \nL 1107.585956 430.52267 \nL 1116.902259 429.269824 \nL 1126.218563 428.443871 \nL 1135.534866 428.279049 \nL 1144.85117 428.876418 \nL 1154.167473 430.187309 \nL 1163.483777 432.029143 \nL 1172.80008 434.134445 \nL 1181.338438 436.046805 \n\" clip-path=\"url(#p72ba9d1c6d)\" style=\"fill: none; stroke: #ff0000; stroke-width: 1.5; stroke-linecap: square\"/>\n   </g>\n   <g id=\"line2d_33\">\n    <path d=\"M 697.6686 442.079997 \nL 706.984904 442.079907 \nL 716.301207 442.078005 \nL 725.617511 442.051397 \nL 734.933814 441.804827 \nL 744.250118 440.282701 \nL 753.566421 433.962696 \nL 762.882725 415.996049 \nL 772.199028 379.994216 \nL 781.515332 327.457392 \nL 790.831636 271.584755 \nL 800.147939 232.657573 \nL 809.464243 223.42296 \nL 818.780546 237.898083 \nL 828.09685 262.842091 \nL 837.413153 292.598827 \nL 846.729457 322.721336 \nL 856.04576 344.290289 \nL 865.362064 355.619309 \nL 874.678367 366.268769 \nL 883.994671 381.898214 \nL 893.310974 397.482449 \nL 902.627278 409.708678 \nL 911.943581 421.163675 \nL 921.259885 431.712028 \nL 930.576188 438.463995 \nL 939.892492 441.222814 \nL 949.208796 441.943693 \nL 958.525099 442.06555 \nL 967.841403 442.078983 \nL 977.157706 442.079953 \nL 986.47401 442.079999 \nL 995.790313 442.08 \nL 1005.106617 442.08 \nL 1014.42292 442.08 \nL 1023.739224 442.08 \nL 1033.055527 442.08 \nL 1042.371831 442.08 \nL 1051.688134 442.08 \nL 1061.004438 442.08 \nL 1070.320741 442.08 \nL 1079.637045 442.08 \nL 1088.953349 442.08 \nL 1098.269652 442.08 \nL 1107.585956 442.08 \nL 1116.902259 442.08 \nL 1126.218563 442.08 \nL 1135.534866 442.08 \nL 1144.85117 442.08 \nL 1154.167473 442.08 \nL 1163.483777 442.08 \nL 1172.80008 442.08 \nL 1181.338438 442.08 \n\" clip-path=\"url(#p72ba9d1c6d)\" style=\"fill: none; stroke: #ffa500; stroke-width: 1.5; stroke-linecap: square\"/>\n   </g>\n   <g id=\"patch_132\">\n    <path d=\"M 651.552898 442.08 \nL 651.552898 7.2 \n\" style=\"fill: none; stroke: #000000; stroke-width: 0.8; stroke-linejoin: miter; stroke-linecap: square\"/>\n   </g>\n   <g id=\"patch_133\">\n    <path d=\"M 1158.825625 442.08 \nL 1158.825625 7.2 \n\" style=\"fill: none; stroke: #000000; stroke-width: 0.8; stroke-linejoin: miter; stroke-linecap: square\"/>\n   </g>\n   <g id=\"patch_134\">\n    <path d=\"M 651.552898 442.08 \nL 1158.825625 442.08 \n\" style=\"fill: none; stroke: #000000; stroke-width: 0.8; stroke-linejoin: miter; stroke-linecap: square\"/>\n   </g>\n   <g id=\"patch_135\">\n    <path d=\"M 651.552898 7.2 \nL 1158.825625 7.2 \n\" style=\"fill: none; stroke: #000000; stroke-width: 0.8; stroke-linejoin: miter; stroke-linecap: square\"/>\n   </g>\n   <g id=\"legend_2\">\n    <g id=\"patch_136\">\n     <path d=\"M 1026.241562 100.861875 \nL 1146.225625 100.861875 \nQ 1149.825625 100.861875 1149.825625 97.261875 \nL 1149.825625 19.8 \nQ 1149.825625 16.2 1146.225625 16.2 \nL 1026.241562 16.2 \nQ 1022.641562 16.2 1022.641562 19.8 \nL 1022.641562 97.261875 \nQ 1022.641562 100.861875 1026.241562 100.861875 \nz\n\" style=\"fill: #ffffff; opacity: 0.8; stroke: #cccccc; stroke-linejoin: miter\"/>\n    </g>\n    <g id=\"patch_137\">\n     <path d=\"M 1029.841562 37.077187 \nL 1065.841562 37.077187 \nL 1065.841562 24.477187 \nL 1029.841562 24.477187 \nz\n\" style=\"fill: #0000ff; opacity: 0.4\"/>\n    </g>\n    <g id=\"text_31\">\n     <!-- control -->\n     <g transform=\"translate(1080.241562 37.077187)scale(0.18 -0.18)\">\n      <use xlink:href=\"#DejaVuSans-63\"/>\n      <use xlink:href=\"#DejaVuSans-6f\" x=\"54.980469\"/>\n      <use xlink:href=\"#DejaVuSans-6e\" x=\"116.162109\"/>\n      <use xlink:href=\"#DejaVuSans-74\" x=\"179.541016\"/>\n      <use xlink:href=\"#DejaVuSans-72\" x=\"218.75\"/>\n      <use xlink:href=\"#DejaVuSans-6f\" x=\"257.613281\"/>\n      <use xlink:href=\"#DejaVuSans-6c\" x=\"318.794922\"/>\n     </g>\n    </g>\n    <g id=\"patch_138\">\n     <path d=\"M 1029.841562 63.497812 \nL 1065.841562 63.497812 \nL 1065.841562 50.897812 \nL 1029.841562 50.897812 \nz\n\" style=\"fill: #ff0000; opacity: 0.4\"/>\n    </g>\n    <g id=\"text_32\">\n     <!-- cytd -->\n     <g transform=\"translate(1080.241562 63.497812)scale(0.18 -0.18)\">\n      <use xlink:href=\"#DejaVuSans-63\"/>\n      <use xlink:href=\"#DejaVuSans-79\" x=\"54.980469\"/>\n      <use xlink:href=\"#DejaVuSans-74\" x=\"114.160156\"/>\n      <use xlink:href=\"#DejaVuSans-64\" x=\"153.369141\"/>\n     </g>\n    </g>\n    <g id=\"patch_139\">\n     <path d=\"M 1029.841562 89.918437 \nL 1065.841562 89.918437 \nL 1065.841562 77.318437 \nL 1029.841562 77.318437 \nz\n\" style=\"fill: #ffa500; opacity: 0.4\"/>\n    </g>\n    <g id=\"text_33\">\n     <!-- jasp -->\n     <g transform=\"translate(1080.241562 89.918437)scale(0.18 -0.18)\">\n      <use xlink:href=\"#DejaVuSans-6a\"/>\n      <use xlink:href=\"#DejaVuSans-61\" x=\"27.783203\"/>\n      <use xlink:href=\"#DejaVuSans-73\" x=\"89.0625\"/>\n      <use xlink:href=\"#DejaVuSans-70\" x=\"141.162109\"/>\n     </g>\n    </g>\n   </g>\n  </g>\n </g>\n <defs>\n  <clipPath id=\"p4a76e6afd9\">\n   <rect x=\"42.825625\" y=\"7.2\" width=\"507.272727\" height=\"434.88\"/>\n  </clipPath>\n  <clipPath id=\"p72ba9d1c6d\">\n   <rect x=\"651.552898\" y=\"7.2\" width=\"507.272727\" height=\"434.88\"/>\n  </clipPath>\n </defs>\n</svg>\n",
      "text/plain": [
       "<Figure size 1440x576 with 2 Axes>"
      ]
     },
     "metadata": {
      "needs_background": "light"
     },
     "output_type": "display_data"
    }
   ],
   "source": [
    "hist_dists_to_means(labels_b, labels_b_name)\n",
    "if SAVEFIG:\n",
    "    plt.savefig(os.path.join(figs_dir, f\"{now}_{cell_type}_dist_to_means_by_{labels_b_name}.pdf\"))"
   ]
  },
  {
   "cell_type": "code",
   "execution_count": null,
   "id": "c76808bd",
   "metadata": {},
   "outputs": [],
   "source": []
  },
  {
   "cell_type": "code",
   "execution_count": null,
   "id": "67328cc4",
   "metadata": {},
   "outputs": [],
   "source": []
  }
 ],
 "metadata": {
  "kernelspec": {
   "display_name": "dyn",
   "language": "python",
   "name": "python3"
  },
  "language_info": {
   "codemirror_mode": {
    "name": "ipython",
    "version": 3
   },
   "file_extension": ".py",
   "mimetype": "text/x-python",
   "name": "python",
   "nbconvert_exporter": "python",
   "pygments_lexer": "ipython3",
   "version": "3.8.16"
  },
  "vscode": {
   "interpreter": {
    "hash": "0b1d30a6b3488ac23ee1dfb7258a5542a73c870866e508c7e2014c7260e6b4c6"
   }
  }
 },
 "nbformat": 4,
 "nbformat_minor": 5
}
