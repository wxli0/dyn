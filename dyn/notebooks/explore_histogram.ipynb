{
 "cells": [
  {
   "cell_type": "markdown",
   "id": "d1cebad5",
   "metadata": {},
   "source": [
    "# Elastic Metric for Cell Boundary Analysis"
   ]
  },
  {
   "cell_type": "markdown",
   "id": "62df4959",
   "metadata": {},
   "source": [
    "## Notebook setup"
   ]
  },
  {
   "cell_type": "code",
   "execution_count": 1,
   "id": "2ef3ea3f",
   "metadata": {},
   "outputs": [
    {
     "name": "stderr",
     "output_type": "stream",
     "text": [
      "INFO: Using numpy backend\n"
     ]
    },
    {
     "name": "stdout",
     "output_type": "stream",
     "text": [
      "Working directory:  /home/wanxinli/dyn\n",
      "Directory added to path:  /home/wanxinli\n"
     ]
    }
   ],
   "source": [
    "import os\n",
    "import subprocess\n",
    "import geomstats.backend as gs\n",
    "\n",
    "geomstats_gitroot_path = subprocess.check_output(\n",
    "    [\"git\", \"rev-parse\", \"--show-toplevel\"], universal_newlines=True\n",
    ")\n",
    "os.chdir(geomstats_gitroot_path[:-1])\n",
    "print(\"Working directory: \", os.getcwd())\n",
    "\n",
    "import warnings\n",
    "warnings.filterwarnings(\"ignore\")\n",
    "\n",
    "import sys\n",
    "sys_dir = os.path.dirname(os.getcwd()\n",
    "                          )\n",
    "sys.path.append(sys_dir)\n",
    "print(\"Directory added to path: \", sys_dir)"
   ]
  },
  {
   "cell_type": "markdown",
   "id": "83288799",
   "metadata": {},
   "source": [
    "## Standard imports"
   ]
  },
  {
   "cell_type": "code",
   "execution_count": 2,
   "id": "df105887",
   "metadata": {},
   "outputs": [],
   "source": [
    "import copy\n",
    "import matplotlib.pyplot as plt\n",
    "import numpy as np\n",
    "import pandas as pd"
   ]
  },
  {
   "cell_type": "code",
   "execution_count": 3,
   "id": "7f2da64f",
   "metadata": {},
   "outputs": [],
   "source": [
    "from scipy import stats\n",
    "\n",
    "from sklearn.cluster import KMeans\n",
    "from sklearn.metrics import confusion_matrix\n",
    "from sklearn.decomposition import PCA\n",
    "\n",
    "from scipy.optimize import linear_sum_assignment as linear_assignment\n",
    "from sklearn import manifold\n",
    "from joblib import Parallel, delayed\n",
    "from numba import jit, njit, prange"
   ]
  },
  {
   "cell_type": "markdown",
   "id": "559c6ef6",
   "metadata": {},
   "source": [
    "## Project-specific imports"
   ]
  },
  {
   "cell_type": "code",
   "execution_count": 4,
   "id": "a41f8729",
   "metadata": {},
   "outputs": [],
   "source": [
    "from geomstats.geometry.euclidean import Euclidean\n",
    "from geomstats.geometry.discrete_curves import R2, DiscreteCurves, ClosedDiscreteCurves\n",
    "\n",
    "from geomstats.learning.frechet_mean import FrechetMean\n",
    "from geomstats.learning.kmeans import RiemannianKMeans\n",
    "from geomstats.learning.mdm import RiemannianMinimumDistanceToMeanClassifier\n",
    "from geomstats.learning.pca import TangentPCA\n",
    "\n",
    "import dyn.dyn.datasets.experimental as experimental\n",
    "import dyn.dyn.features.basic as basic\n",
    "import dyn.viz as viz\n",
    "\n",
    "viz.init_matplotlib()\n",
    "%config InlineBackend.figure_formats = ['svg']"
   ]
  },
  {
   "cell_type": "markdown",
   "id": "158a6752",
   "metadata": {},
   "source": [
    "We import the space of curves shapes equipped with different elastic metrics:\n",
    "- the square root velocity metric (SRV), which is the canonical elastic metrics,\n",
    "- the generalized elastic metric with parameters a, b."
   ]
  },
  {
   "cell_type": "markdown",
   "id": "ee063373",
   "metadata": {},
   "source": [
    "# Load the dataset of interest"
   ]
  },
  {
   "cell_type": "markdown",
   "id": "e906e22c",
   "metadata": {},
   "source": [
    "We load an experimental cell dataset with `n_cells` and `n_sampling_points` sampled along the boundary of each cell. \n",
    "\n",
    "For faster notebook execution, use small value for `n_cells` and `n_sampling_points`."
   ]
  },
  {
   "cell_type": "code",
   "execution_count": 5,
   "id": "817aeddb",
   "metadata": {},
   "outputs": [
    {
     "name": "stdout",
     "output_type": "stream",
     "text": [
      "Will save figs to /home/wanxinli/dyn/dyn/saved_figs/osteosarcoma\n",
      "20230217_09:44:46\n"
     ]
    }
   ],
   "source": [
    "dataset_name = \"osteosarcoma\"  # \"osteosarcoma\" #  \"retinal\"\n",
    "# dataset_name = \"retinal\"\n",
    "assert dataset_name in [\"osteosarcoma\", \"retinal\"]\n",
    "cell_type = \"dunn\"\n",
    "all_cell_types = [\"dunn\", \"dlm8\"]\n",
    "\n",
    "if dataset_name == \"osteosarcoma\":\n",
    "    n_cells = 650\n",
    "    n_sampling_points = 100\n",
    "    labels_a_name = \"lines\"\n",
    "    labels_b_name = \"mutations\"\n",
    "elif dataset_name == \"retinal\":\n",
    "    # n_cells = 3871\n",
    "    # n_sampling_points = 100\n",
    "    n_cells = 100\n",
    "    n_sampling_points = 10\n",
    "    labels_a_name = \"surfaces\"\n",
    "    labels_b_name = \"mutations\"\n",
    "\n",
    "quotient = [\"rotation\"]\n",
    "\n",
    "SAVEFIG = True\n",
    "if SAVEFIG:\n",
    "    figs_dir = os.path.join(os.getcwd(), f\"dyn/saved_figs/{dataset_name}\")\n",
    "    print(f\"Will save figs to {figs_dir}\")\n",
    "    from datetime import datetime\n",
    "\n",
    "    now = datetime.now().strftime(\"%Y%m%d_%H:%M:%S\")\n",
    "    print(now)"
   ]
  },
  {
   "cell_type": "markdown",
   "id": "19ba119c",
   "metadata": {},
   "source": [
    "The variable `quotient` is used to define what is called a `cell_shape`.\n",
    "- `cells`: has only removed the effect of the translation\n",
    "- `cell_shapes`: additionally removes what is written in `quotient`: the effect of the scaling, and of the rotation.\n",
    "\n",
    "Note: in the previous analysis, we were using the linear euclidean metric on cells (without translation), and the srv metric on cell shapes (without translation, scaling and rotation).\n",
    "\n",
    "This notebook compares the linear versus the srv metric on data on which the same preprocessing has been performed."
   ]
  },
  {
   "cell_type": "code",
   "execution_count": 6,
   "id": "fcce4d2d",
   "metadata": {},
   "outputs": [
    {
     "name": "stdout",
     "output_type": "stream",
     "text": [
      "... Selecting only a random subset of 650 / 650 cells.\n",
      "... Interpolating: Cell boundaries have 100 samplings points.\n",
      "... Removing potential duplicate sampling points on cell boundaries.\n",
      "\n",
      "- Cells: quotienting translation.\n",
      "- Cell shapes: quotienting rotation.\n"
     ]
    }
   ],
   "source": [
    "if dataset_name == \"osteosarcoma\":\n",
    "    cells, cell_shapes, labels_a, labels_b = experimental.load_treated_osteosarcoma_cells(\n",
    "        n_cells=n_cells, n_sampling_points=n_sampling_points, quotient=quotient\n",
    "    )\n",
    "    \n",
    "else:\n",
    "    cells, cell_shapes, labels_a, labels_b = experimental.load_mutated_retinal_cells(\n",
    "        n_cells=n_cells, n_sampling_points=n_sampling_points, quotient=quotient\n",
    "    )"
   ]
  },
  {
   "attachments": {},
   "cell_type": "markdown",
   "id": "31305c37",
   "metadata": {},
   "source": [
    "# Preprocessing"
   ]
  },
  {
   "attachments": {},
   "cell_type": "markdown",
   "id": "54281416",
   "metadata": {},
   "source": [
    "# Remove dlm8 cells\n"
   ]
  },
  {
   "cell_type": "code",
   "execution_count": 7,
   "id": "9820a922",
   "metadata": {},
   "outputs": [],
   "source": [
    "def remove_cells(cells, cell_shapes, labels_a, labels_b, delete_indices):\n",
    "    \"\"\" \n",
    "    Remove cells of control group from cells, cell_shapes, labels_a, labels_b,\n",
    "    the parameters returned from load_treated_osteosarcoma_cells\n",
    "    Also update n_cells\n",
    "\n",
    "    :param list[int] delete_indices: the indices to delete\n",
    "    \"\"\"\n",
    "    \n",
    "    # Delete elements\n",
    "    cells = np.delete(np.array(cells), delete_indices, axis=0)\n",
    "    cell_shapes = np.delete(np.array(cell_shapes), delete_indices, axis=0)\n",
    "    labels_a = list(np.delete(np.array(labels_a), delete_indices, axis=0))\n",
    "    labels_b = list(np.delete(np.array(labels_b), delete_indices, axis=0))\n",
    "    global n_cells\n",
    "    n_cells = cells.shape[0]\n",
    "\n",
    "    return cells, cell_shapes, labels_a, labels_b"
   ]
  },
  {
   "cell_type": "code",
   "execution_count": 8,
   "id": "cccb5e10",
   "metadata": {},
   "outputs": [],
   "source": [
    "# Find all cells of the other type\n",
    "remove_indices = []\n",
    "remove_cell_type = copy.deepcopy(all_cell_types)\n",
    "remove_cell_type.remove(cell_type)\n",
    "remove_cell_type = remove_cell_type[0]\n",
    "for i in range(len(labels_a)):\n",
    "    if labels_a[i] == remove_cell_type:\n",
    "        remove_indices.append(i)\n",
    "\n",
    "# Delete all cells of the other type\n",
    "cells, cell_shapes, labels_a, labels_b = remove_cells(cells, cell_shapes, labels_a, labels_b, remove_indices)"
   ]
  },
  {
   "cell_type": "markdown",
   "id": "80a3954f",
   "metadata": {},
   "source": [
    "## Remove outliers by DeCOr-MDS using linear metric"
   ]
  },
  {
   "cell_type": "code",
   "execution_count": 9,
   "id": "10f1a0b2",
   "metadata": {},
   "outputs": [],
   "source": [
    "\"\"\" \n",
    "Only remove abnormal cells\n",
    "\"\"\"\n",
    "abnormal_outlier_indices = [89]\n",
    "\n",
    "cells, cell_shapes, labels_a, labels_b = remove_cells(cells, cell_shapes, labels_a, labels_b, abnormal_outlier_indices)"
   ]
  },
  {
   "cell_type": "code",
   "execution_count": 10,
   "id": "15e43809",
   "metadata": {},
   "outputs": [
    {
     "name": "stdout",
     "output_type": "stream",
     "text": [
      "cells shape is: (391, 100, 2)\n",
      "cell_shapes shape is: (391, 100, 2)\n",
      "labels_a shape is: 391\n",
      "labels_b shape is: 391\n",
      "n_cells is: 391\n"
     ]
    }
   ],
   "source": [
    "print(\"cells shape is:\", cells.shape)\n",
    "print(\"cell_shapes shape is:\", cell_shapes.shape)\n",
    "print(\"labels_a shape is:\", len(labels_a))\n",
    "print(\"labels_b shape is:\", len(labels_b))\n",
    "print(\"n_cells is:\", n_cells)"
   ]
  },
  {
   "cell_type": "code",
   "execution_count": 11,
   "id": "7368657f",
   "metadata": {},
   "outputs": [
    {
     "name": "stdout",
     "output_type": "stream",
     "text": [
      "Dictionary associated to label \"lines\":\n",
      "{'dunn': 0}\n",
      "Dictionary associated to label \"mutations\":\n",
      "{'control': 0, 'cytd': 1, 'jasp': 2}\n"
     ]
    }
   ],
   "source": [
    "labels_a_dict = {lab: i_lab for i_lab, lab in enumerate(np.unique(labels_a))}\n",
    "labels_b_dict = {lab: i_lab for i_lab, lab in enumerate(np.unique(labels_b))}\n",
    "\n",
    "print(f\"Dictionary associated to label \\\"{labels_a_name}\\\":\")\n",
    "print(labels_a_dict)\n",
    "print(f\"Dictionary associated to label \\\"{labels_b_name}\\\":\")\n",
    "print(labels_b_dict)"
   ]
  },
  {
   "cell_type": "markdown",
   "id": "e2873774",
   "metadata": {},
   "source": [
    "## Define Shape Spaces"
   ]
  },
  {
   "cell_type": "code",
   "execution_count": 12,
   "id": "adb708ca",
   "metadata": {},
   "outputs": [],
   "source": [
    "R1 = Euclidean(dim=1)\n",
    "CLOSED_CURVES_SPACE = ClosedDiscreteCurves(R2)\n",
    "CURVES_SPACE = DiscreteCurves(R2)\n",
    "SRV_METRIC = CURVES_SPACE.srv_metric\n",
    "L2_METRIC = CURVES_SPACE.l2_curves_metric\n",
    "\n",
    "ELASTIC_METRIC = {}\n",
    "METRICS = {}\n",
    "METRICS[\"Linear\"] = L2_METRIC\n",
    "METRICS[\"SRV\"] = SRV_METRIC"
   ]
  },
  {
   "cell_type": "markdown",
   "id": "052546a9",
   "metadata": {},
   "source": [
    "# Sample Means"
   ]
  },
  {
   "cell_type": "markdown",
   "id": "bf5db7d1",
   "metadata": {},
   "source": [
    "We compare results when computing the mean cell versus the mean cell shapes with different elastic metrics."
   ]
  },
  {
   "cell_type": "code",
   "execution_count": 13,
   "id": "4770fd8d",
   "metadata": {},
   "outputs": [],
   "source": [
    "means = {}\n",
    "\n",
    "means[\"Linear\"] = gs.mean(cell_shapes, axis=0)\n",
    "means[\"SRV\"] = FrechetMean(\n",
    "        metric=SRV_METRIC, \n",
    "        method=\"default\").fit(cell_shapes).estimate_\n",
    "\n",
    "ELASTIC_METRIC = {}\n",
    "AS = [1, 2, 0.75, 0.5, 0.25, 0.01] #, 1.6] #, 1.4, 1.2, 1, 0.5, 0.2, 0.1]\n",
    "BS = [0.5, 1, 0.5, 0.5, 0.5, 0.5] #, 2, 2, 2, 2, 2, 2, 2]\n",
    "for a, b in zip(AS, BS):\n",
    "    ELASTIC_METRIC[a, b] = DiscreteCurves(R2, a=a, b=b).elastic_metric"
   ]
  },
  {
   "cell_type": "code",
   "execution_count": 14,
   "id": "df998d54",
   "metadata": {},
   "outputs": [],
   "source": [
    "NEW_AS = [0.75, 0.5, 0.25, 0.01] #, 1.6] #, 1.4, 1.2, 1, 0.5, 0.2, 0.1]\n",
    "NEW_BS = [0.5, 0.5, 0.5, 0.5] #, 2, 2, 2, 2, 2, 2, 2]"
   ]
  },
  {
   "cell_type": "markdown",
   "id": "7d9c8f10",
   "metadata": {},
   "source": [
    "# Distances to the mean(s)"
   ]
  },
  {
   "cell_type": "markdown",
   "id": "0d6d08e3",
   "metadata": {},
   "source": [
    "We compute the distances between:\n",
    "- every cell in the dataset\n",
    "- and the mean cell shape, according to the different metrics: Euclidean (Linear), SRV and Elastic Metrics."
   ]
  },
  {
   "cell_type": "code",
   "execution_count": 15,
   "id": "72d895f3",
   "metadata": {},
   "outputs": [],
   "source": [
    "R1 = Euclidean(dim=1)\n",
    "CLOSED_CURVES_SPACE = ClosedDiscreteCurves(R2)\n",
    "CURVES_SPACE = DiscreteCurves(R2)\n",
    "SRV_METRIC = CURVES_SPACE.srv_metric\n",
    "L2_METRIC = CURVES_SPACE.l2_curves_metric\n",
    "\n",
    "ELASTIC_METRIC = {}\n",
    "METRICS = {}\n",
    "METRICS[\"Linear\"] = L2_METRIC\n",
    "METRICS[\"SRV\"] = SRV_METRIC"
   ]
  },
  {
   "cell_type": "code",
   "execution_count": 16,
   "id": "d59304ca",
   "metadata": {},
   "outputs": [],
   "source": [
    "means = {}\n",
    "\n",
    "means[\"Linear\"] = gs.mean(cell_shapes, axis=0)\n",
    "means[\"SRV\"] = FrechetMean(\n",
    "        metric=SRV_METRIC, \n",
    "        method=\"default\").fit(cell_shapes).estimate_"
   ]
  },
  {
   "cell_type": "code",
   "execution_count": 17,
   "id": "a7b10d0b",
   "metadata": {},
   "outputs": [],
   "source": [
    "NEW_AS = [0.75, 0.5, 0.25, 0.01] #, 1.6] #, 1.4, 1.2, 1, 0.5, 0.2, 0.1]\n",
    "NEW_BS = [0.5, 0.5, 0.5, 0.5] #, 2, 2, 2, 2, 2, 2, 2]"
   ]
  },
  {
   "cell_type": "code",
   "execution_count": 18,
   "id": "a9198ea5",
   "metadata": {},
   "outputs": [],
   "source": [
    "dists = {}\n",
    "\n",
    "dists[\"Linear\"] = [gs.linalg.norm(means[\"Linear\"] - cell) / n_sampling_points for cell in cells]\n",
    "\n",
    "dists[\"SRV\"] = [\n",
    "    SRV_METRIC.dist(means[\"SRV\"], cell) / n_sampling_points for cell in cells\n",
    "]\n",
    "\n",
    "for a, b in zip(NEW_AS, NEW_BS):\n",
    "    ELASTIC_METRIC[a, b] = DiscreteCurves(R2, a=a, b=b).elastic_metric\n",
    "\n",
    "for a, b in zip(NEW_AS, NEW_BS):\n",
    "    means[a, b] = FrechetMean(\n",
    "            metric=ELASTIC_METRIC[a, b], \n",
    "            method=\"default\").fit(cell_shapes).estimate_\n",
    "\n",
    "for a, b in zip(NEW_AS, NEW_BS):\n",
    "    dists[a, b] =  [\n",
    "    ELASTIC_METRIC[a, b].dist(means[a, b], cell) / n_sampling_points for cell in cells\n",
    "]"
   ]
  },
  {
   "cell_type": "code",
   "execution_count": 19,
   "id": "9052dfda",
   "metadata": {},
   "outputs": [],
   "source": [
    "dists_summary = pd.DataFrame(\n",
    "    data={\n",
    "        labels_a_name: labels_a,\n",
    "        labels_b_name: labels_b,\n",
    "        \"Linear\": dists[\"Linear\"],\n",
    "        \"SRV\": dists[\"SRV\"],\n",
    "    }\n",
    ")\n",
    "\n",
    "for a, b in zip(NEW_AS, NEW_BS):\n",
    "    dists_summary[f\"Elastic({a}, {b})\"] = dists[a, b]"
   ]
  },
  {
   "cell_type": "code",
   "execution_count": 20,
   "id": "9fcf4320",
   "metadata": {},
   "outputs": [
    {
     "data": {
      "text/html": [
       "<div>\n",
       "<style scoped>\n",
       "    .dataframe tbody tr th:only-of-type {\n",
       "        vertical-align: middle;\n",
       "    }\n",
       "\n",
       "    .dataframe tbody tr th {\n",
       "        vertical-align: top;\n",
       "    }\n",
       "\n",
       "    .dataframe thead th {\n",
       "        text-align: right;\n",
       "    }\n",
       "</style>\n",
       "<table border=\"1\" class=\"dataframe\">\n",
       "  <thead>\n",
       "    <tr style=\"text-align: right;\">\n",
       "      <th></th>\n",
       "      <th>lines</th>\n",
       "      <th>mutations</th>\n",
       "      <th>Linear</th>\n",
       "      <th>SRV</th>\n",
       "      <th>Elastic(0.75, 0.5)</th>\n",
       "      <th>Elastic(0.5, 0.5)</th>\n",
       "      <th>Elastic(0.25, 0.5)</th>\n",
       "      <th>Elastic(0.01, 0.5)</th>\n",
       "    </tr>\n",
       "  </thead>\n",
       "  <tbody>\n",
       "    <tr>\n",
       "      <th>0</th>\n",
       "      <td>dunn</td>\n",
       "      <td>control</td>\n",
       "      <td>2.742004</td>\n",
       "      <td>0.115000</td>\n",
       "      <td>0.078528</td>\n",
       "      <td>0.094853</td>\n",
       "      <td>0.093216</td>\n",
       "      <td>0.077850</td>\n",
       "    </tr>\n",
       "    <tr>\n",
       "      <th>1</th>\n",
       "      <td>dunn</td>\n",
       "      <td>control</td>\n",
       "      <td>3.232632</td>\n",
       "      <td>0.123211</td>\n",
       "      <td>0.073680</td>\n",
       "      <td>0.100678</td>\n",
       "      <td>0.099674</td>\n",
       "      <td>0.075890</td>\n",
       "    </tr>\n",
       "    <tr>\n",
       "      <th>2</th>\n",
       "      <td>dunn</td>\n",
       "      <td>control</td>\n",
       "      <td>2.863454</td>\n",
       "      <td>0.145627</td>\n",
       "      <td>0.108613</td>\n",
       "      <td>0.119364</td>\n",
       "      <td>0.101398</td>\n",
       "      <td>0.058900</td>\n",
       "    </tr>\n",
       "    <tr>\n",
       "      <th>3</th>\n",
       "      <td>dunn</td>\n",
       "      <td>control</td>\n",
       "      <td>3.378760</td>\n",
       "      <td>0.129625</td>\n",
       "      <td>0.080324</td>\n",
       "      <td>0.110913</td>\n",
       "      <td>0.102431</td>\n",
       "      <td>0.065473</td>\n",
       "    </tr>\n",
       "    <tr>\n",
       "      <th>4</th>\n",
       "      <td>dunn</td>\n",
       "      <td>control</td>\n",
       "      <td>3.395798</td>\n",
       "      <td>0.189527</td>\n",
       "      <td>0.153277</td>\n",
       "      <td>0.157341</td>\n",
       "      <td>0.127470</td>\n",
       "      <td>0.052008</td>\n",
       "    </tr>\n",
       "  </tbody>\n",
       "</table>\n",
       "</div>"
      ],
      "text/plain": [
       "  lines mutations    Linear       SRV  Elastic(0.75, 0.5)  Elastic(0.5, 0.5)  \\\n",
       "0  dunn   control  2.742004  0.115000            0.078528           0.094853   \n",
       "1  dunn   control  3.232632  0.123211            0.073680           0.100678   \n",
       "2  dunn   control  2.863454  0.145627            0.108613           0.119364   \n",
       "3  dunn   control  3.378760  0.129625            0.080324           0.110913   \n",
       "4  dunn   control  3.395798  0.189527            0.153277           0.157341   \n",
       "\n",
       "   Elastic(0.25, 0.5)  Elastic(0.01, 0.5)  \n",
       "0            0.093216            0.077850  \n",
       "1            0.099674            0.075890  \n",
       "2            0.101398            0.058900  \n",
       "3            0.102431            0.065473  \n",
       "4            0.127470            0.052008  "
      ]
     },
     "execution_count": 20,
     "metadata": {},
     "output_type": "execute_result"
    }
   ],
   "source": [
    "dists_summary.head()"
   ]
  },
  {
   "attachments": {},
   "cell_type": "markdown",
   "id": "25661ba7",
   "metadata": {},
   "source": [
    "# Histograms of distance to the mean"
   ]
  },
  {
   "cell_type": "code",
   "execution_count": 21,
   "id": "c135d0af",
   "metadata": {},
   "outputs": [],
   "source": [
    "xx = {}\n",
    "\n",
    "for metric_name in [\"Linear\", \"SRV\"]:\n",
    "    min_dists = gs.array(min(dists_summary[metric_name]))\n",
    "    max_dists = gs.array(max(dists_summary[metric_name]))\n",
    "    xx[metric_name] = gs.linspace(gs.floor(min_dists), gs.ceil(max_dists), 100)"
   ]
  },
  {
   "cell_type": "code",
   "execution_count": 22,
   "id": "833ed74a",
   "metadata": {},
   "outputs": [],
   "source": [
    "def hist_dists_to_means(labels, labels_name):\n",
    "    \"\"\" \n",
    "    To the global mean\n",
    "    \"\"\"\n",
    "\n",
    "    title_nums = [\"(a)\", \"(b)\"]\n",
    "    color_encoding = {\"control\": \"blue\", \"cytd\": \"red\", \"jasp\": \"orange\"}\n",
    "\n",
    "    fig, axs = plt.subplots(1, 2, figsize=(18, 7))\n",
    "\n",
    "    for i, dist_name in enumerate([\"Linear\", \"SRV\"]):\n",
    "        for i_lab, label in enumerate(np.unique(labels)):\n",
    "            ds = dists_summary[dist_name][dists_summary[labels_name] == label]\n",
    "            axs[i].hist(\n",
    "                ds, bins=20, alpha=0.4, density=True, label=label, \\\n",
    "                color = color_encoding[label]\n",
    "            ) \n",
    "            kde = stats.gaussian_kde(ds)\n",
    "\n",
    "            axs[i].plot(xx[dist_name], kde(xx[dist_name]), \\\n",
    "                        color = color_encoding[label]\n",
    "                        )\n",
    "        if dist_name == \"SRV\":\n",
    "            axs[i].set_xlim(xmax=0.5)\n",
    "        axs[i].legend()\n",
    "        axs[i].set_title(f\"{title_nums[i]} Distances to {dist_name} mean\\n\")\n",
    "\n"
   ]
  },
  {
   "cell_type": "code",
   "execution_count": 23,
   "id": "0d72cc93",
   "metadata": {},
   "outputs": [
    {
     "data": {
      "image/svg+xml": "<?xml version=\"1.0\" encoding=\"utf-8\" standalone=\"no\"?>\n<!DOCTYPE svg PUBLIC \"-//W3C//DTD SVG 1.1//EN\"\n  \"http://www.w3.org/Graphics/SVG/1.1/DTD/svg11.dtd\">\n<svg xmlns:xlink=\"http://www.w3.org/1999/xlink\" width=\"1068.738437pt\" height=\"464.81275pt\" viewBox=\"0 0 1068.738437 464.81275\" xmlns=\"http://www.w3.org/2000/svg\" version=\"1.1\">\n <metadata>\n  <rdf:RDF xmlns:dc=\"http://purl.org/dc/elements/1.1/\" xmlns:cc=\"http://creativecommons.org/ns#\" xmlns:rdf=\"http://www.w3.org/1999/02/22-rdf-syntax-ns#\">\n   <cc:Work>\n    <dc:type rdf:resource=\"http://purl.org/dc/dcmitype/StillImage\"/>\n    <dc:date>2023-02-17T09:45:11.351845</dc:date>\n    <dc:format>image/svg+xml</dc:format>\n    <dc:creator>\n     <cc:Agent>\n      <dc:title>Matplotlib v3.5.1, https://matplotlib.org/</dc:title>\n     </cc:Agent>\n    </dc:creator>\n   </cc:Work>\n  </rdf:RDF>\n </metadata>\n <defs>\n  <style type=\"text/css\">*{stroke-linejoin: round; stroke-linecap: butt}</style>\n </defs>\n <g id=\"figure_1\">\n  <g id=\"patch_1\">\n   <path d=\"M 0 464.81275 \nL 1068.738437 464.81275 \nL 1068.738437 0 \nL 0 0 \nL 0 464.81275 \nz\n\" style=\"fill: none\"/>\n  </g>\n  <g id=\"axes_1\">\n   <g id=\"patch_2\">\n    <path d=\"M 42.825625 433.192125 \nL 499.37108 433.192125 \nL 499.37108 52.672125 \nL 42.825625 52.672125 \nz\n\" style=\"fill: #ffffff\"/>\n   </g>\n   <g id=\"patch_3\">\n    <path d=\"M 105.157312 433.192125 \nL 115.858068 433.192125 \nL 115.858068 413.058792 \nL 105.157312 413.058792 \nz\n\" clip-path=\"url(#p91341cb2f3)\" style=\"fill: #0000ff; opacity: 0.4\"/>\n   </g>\n   <g id=\"patch_4\">\n    <path d=\"M 115.858068 433.192125 \nL 126.558823 433.192125 \nL 126.558823 362.725458 \nL 115.858068 362.725458 \nz\n\" clip-path=\"url(#p91341cb2f3)\" style=\"fill: #0000ff; opacity: 0.4\"/>\n   </g>\n   <g id=\"patch_5\">\n    <path d=\"M 126.558823 433.192125 \nL 137.259579 433.192125 \nL 137.259579 322.458792 \nL 126.558823 322.458792 \nz\n\" clip-path=\"url(#p91341cb2f3)\" style=\"fill: #0000ff; opacity: 0.4\"/>\n   </g>\n   <g id=\"patch_6\">\n    <path d=\"M 137.259579 433.192125 \nL 147.960335 433.192125 \nL 147.960335 282.192125 \nL 137.259579 282.192125 \nz\n\" clip-path=\"url(#p91341cb2f3)\" style=\"fill: #0000ff; opacity: 0.4\"/>\n   </g>\n   <g id=\"patch_7\">\n    <path d=\"M 147.960335 433.192125 \nL 158.66109 433.192125 \nL 158.66109 211.725458 \nL 147.960335 211.725458 \nz\n\" clip-path=\"url(#p91341cb2f3)\" style=\"fill: #0000ff; opacity: 0.4\"/>\n   </g>\n   <g id=\"patch_8\">\n    <path d=\"M 158.66109 433.192125 \nL 169.361846 433.192125 \nL 169.361846 161.392125 \nL 158.66109 161.392125 \nz\n\" clip-path=\"url(#p91341cb2f3)\" style=\"fill: #0000ff; opacity: 0.4\"/>\n   </g>\n   <g id=\"patch_9\">\n    <path d=\"M 169.361846 433.192125 \nL 180.062601 433.192125 \nL 180.062601 70.792125 \nL 169.361846 70.792125 \nz\n\" clip-path=\"url(#p91341cb2f3)\" style=\"fill: #0000ff; opacity: 0.4\"/>\n   </g>\n   <g id=\"patch_10\">\n    <path d=\"M 180.062601 433.192125 \nL 190.763357 433.192125 \nL 190.763357 161.392125 \nL 180.062601 161.392125 \nz\n\" clip-path=\"url(#p91341cb2f3)\" style=\"fill: #0000ff; opacity: 0.4\"/>\n   </g>\n   <g id=\"patch_11\">\n    <path d=\"M 190.763357 433.192125 \nL 201.464113 433.192125 \nL 201.464113 292.258792 \nL 190.763357 292.258792 \nz\n\" clip-path=\"url(#p91341cb2f3)\" style=\"fill: #0000ff; opacity: 0.4\"/>\n   </g>\n   <g id=\"patch_12\">\n    <path d=\"M 201.464113 433.192125 \nL 212.164868 433.192125 \nL 212.164868 282.192125 \nL 201.464113 282.192125 \nz\n\" clip-path=\"url(#p91341cb2f3)\" style=\"fill: #0000ff; opacity: 0.4\"/>\n   </g>\n   <g id=\"patch_13\">\n    <path d=\"M 212.164868 433.192125 \nL 222.865624 433.192125 \nL 222.865624 382.858792 \nL 212.164868 382.858792 \nz\n\" clip-path=\"url(#p91341cb2f3)\" style=\"fill: #0000ff; opacity: 0.4\"/>\n   </g>\n   <g id=\"patch_14\">\n    <path d=\"M 222.865624 433.192125 \nL 233.566379 433.192125 \nL 233.566379 402.992125 \nL 222.865624 402.992125 \nz\n\" clip-path=\"url(#p91341cb2f3)\" style=\"fill: #0000ff; opacity: 0.4\"/>\n   </g>\n   <g id=\"patch_15\">\n    <path d=\"M 233.566379 433.192125 \nL 244.267135 433.192125 \nL 244.267135 423.125458 \nL 233.566379 423.125458 \nz\n\" clip-path=\"url(#p91341cb2f3)\" style=\"fill: #0000ff; opacity: 0.4\"/>\n   </g>\n   <g id=\"patch_16\">\n    <path d=\"M 244.267135 433.192125 \nL 254.967891 433.192125 \nL 254.967891 382.858792 \nL 244.267135 382.858792 \nz\n\" clip-path=\"url(#p91341cb2f3)\" style=\"fill: #0000ff; opacity: 0.4\"/>\n   </g>\n   <g id=\"patch_17\">\n    <path d=\"M 254.967891 433.192125 \nL 265.668646 433.192125 \nL 265.668646 372.792125 \nL 254.967891 372.792125 \nz\n\" clip-path=\"url(#p91341cb2f3)\" style=\"fill: #0000ff; opacity: 0.4\"/>\n   </g>\n   <g id=\"patch_18\">\n    <path d=\"M 265.668646 433.192125 \nL 276.369402 433.192125 \nL 276.369402 413.058792 \nL 265.668646 413.058792 \nz\n\" clip-path=\"url(#p91341cb2f3)\" style=\"fill: #0000ff; opacity: 0.4\"/>\n   </g>\n   <g id=\"patch_19\">\n    <path d=\"M 276.369402 433.192125 \nL 287.070158 433.192125 \nL 287.070158 413.058792 \nL 276.369402 413.058792 \nz\n\" clip-path=\"url(#p91341cb2f3)\" style=\"fill: #0000ff; opacity: 0.4\"/>\n   </g>\n   <g id=\"patch_20\">\n    <path d=\"M 287.070158 433.192125 \nL 297.770913 433.192125 \nL 297.770913 423.125458 \nL 287.070158 423.125458 \nz\n\" clip-path=\"url(#p91341cb2f3)\" style=\"fill: #0000ff; opacity: 0.4\"/>\n   </g>\n   <g id=\"patch_21\">\n    <path d=\"M 297.770913 433.192125 \nL 308.471669 433.192125 \nL 308.471669 423.125458 \nL 297.770913 423.125458 \nz\n\" clip-path=\"url(#p91341cb2f3)\" style=\"fill: #0000ff; opacity: 0.4\"/>\n   </g>\n   <g id=\"patch_22\">\n    <path d=\"M 308.471669 433.192125 \nL 319.172424 433.192125 \nL 319.172424 423.125458 \nL 308.471669 423.125458 \nz\n\" clip-path=\"url(#p91341cb2f3)\" style=\"fill: #0000ff; opacity: 0.4\"/>\n   </g>\n   <g id=\"patch_23\">\n    <path d=\"M 125.936852 433.192125 \nL 141.537288 433.192125 \nL 141.537288 403.047736 \nL 125.936852 403.047736 \nz\n\" clip-path=\"url(#p91341cb2f3)\" style=\"fill: #ff0000; opacity: 0.4\"/>\n   </g>\n   <g id=\"patch_24\">\n    <path d=\"M 141.537288 433.192125 \nL 157.137724 433.192125 \nL 157.137724 387.975541 \nL 141.537288 387.975541 \nz\n\" clip-path=\"url(#p91341cb2f3)\" style=\"fill: #ff0000; opacity: 0.4\"/>\n   </g>\n   <g id=\"patch_25\">\n    <path d=\"M 157.137724 433.192125 \nL 172.73816 433.192125 \nL 172.73816 327.686763 \nL 157.137724 327.686763 \nz\n\" clip-path=\"url(#p91341cb2f3)\" style=\"fill: #ff0000; opacity: 0.4\"/>\n   </g>\n   <g id=\"patch_26\">\n    <path d=\"M 172.73816 433.192125 \nL 188.338596 433.192125 \nL 188.338596 372.903347 \nL 172.73816 372.903347 \nz\n\" clip-path=\"url(#p91341cb2f3)\" style=\"fill: #ff0000; opacity: 0.4\"/>\n   </g>\n   <g id=\"patch_27\">\n    <path d=\"M 188.338596 433.192125 \nL 203.939032 433.192125 \nL 203.939032 297.542374 \nL 188.338596 297.542374 \nz\n\" clip-path=\"url(#p91341cb2f3)\" style=\"fill: #ff0000; opacity: 0.4\"/>\n   </g>\n   <g id=\"patch_28\">\n    <path d=\"M 203.939032 433.192125 \nL 219.539468 433.192125 \nL 219.539468 282.47018 \nL 203.939032 282.47018 \nz\n\" clip-path=\"url(#p91341cb2f3)\" style=\"fill: #ff0000; opacity: 0.4\"/>\n   </g>\n   <g id=\"patch_29\">\n    <path d=\"M 219.539468 433.192125 \nL 235.139904 433.192125 \nL 235.139904 297.542374 \nL 219.539468 297.542374 \nz\n\" clip-path=\"url(#p91341cb2f3)\" style=\"fill: #ff0000; opacity: 0.4\"/>\n   </g>\n   <g id=\"patch_30\">\n    <path d=\"M 235.139904 433.192125 \nL 250.740339 433.192125 \nL 250.740339 282.47018 \nL 235.139904 282.47018 \nz\n\" clip-path=\"url(#p91341cb2f3)\" style=\"fill: #ff0000; opacity: 0.4\"/>\n   </g>\n   <g id=\"patch_31\">\n    <path d=\"M 250.740339 433.192125 \nL 266.340775 433.192125 \nL 266.340775 357.831152 \nL 250.740339 357.831152 \nz\n\" clip-path=\"url(#p91341cb2f3)\" style=\"fill: #ff0000; opacity: 0.4\"/>\n   </g>\n   <g id=\"patch_32\">\n    <path d=\"M 266.340775 433.192125 \nL 281.941211 433.192125 \nL 281.941211 297.542374 \nL 266.340775 297.542374 \nz\n\" clip-path=\"url(#p91341cb2f3)\" style=\"fill: #ff0000; opacity: 0.4\"/>\n   </g>\n   <g id=\"patch_33\">\n    <path d=\"M 281.941211 433.192125 \nL 297.541647 433.192125 \nL 297.541647 433.192125 \nL 281.941211 433.192125 \nz\n\" clip-path=\"url(#p91341cb2f3)\" style=\"fill: #ff0000; opacity: 0.4\"/>\n   </g>\n   <g id=\"patch_34\">\n    <path d=\"M 297.541647 433.192125 \nL 313.142083 433.192125 \nL 313.142083 372.903347 \nL 297.541647 372.903347 \nz\n\" clip-path=\"url(#p91341cb2f3)\" style=\"fill: #ff0000; opacity: 0.4\"/>\n   </g>\n   <g id=\"patch_35\">\n    <path d=\"M 313.142083 433.192125 \nL 328.742519 433.192125 \nL 328.742519 357.831152 \nL 313.142083 357.831152 \nz\n\" clip-path=\"url(#p91341cb2f3)\" style=\"fill: #ff0000; opacity: 0.4\"/>\n   </g>\n   <g id=\"patch_36\">\n    <path d=\"M 328.742519 433.192125 \nL 344.342955 433.192125 \nL 344.342955 357.831152 \nL 328.742519 357.831152 \nz\n\" clip-path=\"url(#p91341cb2f3)\" style=\"fill: #ff0000; opacity: 0.4\"/>\n   </g>\n   <g id=\"patch_37\">\n    <path d=\"M 344.342955 433.192125 \nL 359.943391 433.192125 \nL 359.943391 418.11993 \nL 344.342955 418.11993 \nz\n\" clip-path=\"url(#p91341cb2f3)\" style=\"fill: #ff0000; opacity: 0.4\"/>\n   </g>\n   <g id=\"patch_38\">\n    <path d=\"M 359.943391 433.192125 \nL 375.543826 433.192125 \nL 375.543826 403.047736 \nL 359.943391 403.047736 \nz\n\" clip-path=\"url(#p91341cb2f3)\" style=\"fill: #ff0000; opacity: 0.4\"/>\n   </g>\n   <g id=\"patch_39\">\n    <path d=\"M 375.543826 433.192125 \nL 391.144262 433.192125 \nL 391.144262 418.11993 \nL 375.543826 418.11993 \nz\n\" clip-path=\"url(#p91341cb2f3)\" style=\"fill: #ff0000; opacity: 0.4\"/>\n   </g>\n   <g id=\"patch_40\">\n    <path d=\"M 391.144262 433.192125 \nL 406.744698 433.192125 \nL 406.744698 403.047736 \nL 391.144262 403.047736 \nz\n\" clip-path=\"url(#p91341cb2f3)\" style=\"fill: #ff0000; opacity: 0.4\"/>\n   </g>\n   <g id=\"patch_41\">\n    <path d=\"M 406.744698 433.192125 \nL 422.345134 433.192125 \nL 422.345134 403.047736 \nL 406.744698 403.047736 \nz\n\" clip-path=\"url(#p91341cb2f3)\" style=\"fill: #ff0000; opacity: 0.4\"/>\n   </g>\n   <g id=\"patch_42\">\n    <path d=\"M 422.345134 433.192125 \nL 437.94557 433.192125 \nL 437.94557 387.975541 \nL 422.345134 387.975541 \nz\n\" clip-path=\"url(#p91341cb2f3)\" style=\"fill: #ff0000; opacity: 0.4\"/>\n   </g>\n   <g id=\"patch_43\">\n    <path d=\"M 103.983347 433.192125 \nL 113.793691 433.192125 \nL 113.793691 386.265607 \nL 103.983347 386.265607 \nz\n\" clip-path=\"url(#p91341cb2f3)\" style=\"fill: #ffa500; opacity: 0.4\"/>\n   </g>\n   <g id=\"patch_44\">\n    <path d=\"M 113.793691 433.192125 \nL 123.604035 433.192125 \nL 123.604035 292.412572 \nL 113.793691 292.412572 \nz\n\" clip-path=\"url(#p91341cb2f3)\" style=\"fill: #ffa500; opacity: 0.4\"/>\n   </g>\n   <g id=\"patch_45\">\n    <path d=\"M 123.604035 433.192125 \nL 133.414379 433.192125 \nL 133.414379 151.63302 \nL 123.604035 151.63302 \nz\n\" clip-path=\"url(#p91341cb2f3)\" style=\"fill: #ffa500; opacity: 0.4\"/>\n   </g>\n   <g id=\"patch_46\">\n    <path d=\"M 133.414379 433.192125 \nL 143.224723 433.192125 \nL 143.224723 339.33909 \nL 133.414379 339.33909 \nz\n\" clip-path=\"url(#p91341cb2f3)\" style=\"fill: #ffa500; opacity: 0.4\"/>\n   </g>\n   <g id=\"patch_47\">\n    <path d=\"M 143.224723 433.192125 \nL 153.035067 433.192125 \nL 153.035067 268.949313 \nL 143.224723 268.949313 \nz\n\" clip-path=\"url(#p91341cb2f3)\" style=\"fill: #ffa500; opacity: 0.4\"/>\n   </g>\n   <g id=\"patch_48\">\n    <path d=\"M 153.035067 433.192125 \nL 162.845411 433.192125 \nL 162.845411 104.706502 \nL 153.035067 104.706502 \nz\n\" clip-path=\"url(#p91341cb2f3)\" style=\"fill: #ffa500; opacity: 0.4\"/>\n   </g>\n   <g id=\"patch_49\">\n    <path d=\"M 162.845411 433.192125 \nL 172.655755 433.192125 \nL 172.655755 292.412572 \nL 162.845411 292.412572 \nz\n\" clip-path=\"url(#p91341cb2f3)\" style=\"fill: #ffa500; opacity: 0.4\"/>\n   </g>\n   <g id=\"patch_50\">\n    <path d=\"M 172.655755 433.192125 \nL 182.466099 433.192125 \nL 182.466099 175.096278 \nL 172.655755 175.096278 \nz\n\" clip-path=\"url(#p91341cb2f3)\" style=\"fill: #ffa500; opacity: 0.4\"/>\n   </g>\n   <g id=\"patch_51\">\n    <path d=\"M 182.466099 433.192125 \nL 192.276443 433.192125 \nL 192.276443 339.33909 \nL 182.466099 339.33909 \nz\n\" clip-path=\"url(#p91341cb2f3)\" style=\"fill: #ffa500; opacity: 0.4\"/>\n   </g>\n   <g id=\"patch_52\">\n    <path d=\"M 192.276443 433.192125 \nL 202.086787 433.192125 \nL 202.086787 268.949313 \nL 192.276443 268.949313 \nz\n\" clip-path=\"url(#p91341cb2f3)\" style=\"fill: #ffa500; opacity: 0.4\"/>\n   </g>\n   <g id=\"patch_53\">\n    <path d=\"M 202.086787 433.192125 \nL 211.89713 433.192125 \nL 211.89713 386.265607 \nL 202.086787 386.265607 \nz\n\" clip-path=\"url(#p91341cb2f3)\" style=\"fill: #ffa500; opacity: 0.4\"/>\n   </g>\n   <g id=\"patch_54\">\n    <path d=\"M 211.89713 433.192125 \nL 221.707474 433.192125 \nL 221.707474 433.192125 \nL 211.89713 433.192125 \nz\n\" clip-path=\"url(#p91341cb2f3)\" style=\"fill: #ffa500; opacity: 0.4\"/>\n   </g>\n   <g id=\"patch_55\">\n    <path d=\"M 221.707474 433.192125 \nL 231.517818 433.192125 \nL 231.517818 315.875831 \nL 221.707474 315.875831 \nz\n\" clip-path=\"url(#p91341cb2f3)\" style=\"fill: #ffa500; opacity: 0.4\"/>\n   </g>\n   <g id=\"patch_56\">\n    <path d=\"M 231.517818 433.192125 \nL 241.328162 433.192125 \nL 241.328162 315.875831 \nL 231.517818 315.875831 \nz\n\" clip-path=\"url(#p91341cb2f3)\" style=\"fill: #ffa500; opacity: 0.4\"/>\n   </g>\n   <g id=\"patch_57\">\n    <path d=\"M 241.328162 433.192125 \nL 251.138506 433.192125 \nL 251.138506 433.192125 \nL 241.328162 433.192125 \nz\n\" clip-path=\"url(#p91341cb2f3)\" style=\"fill: #ffa500; opacity: 0.4\"/>\n   </g>\n   <g id=\"patch_58\">\n    <path d=\"M 251.138506 433.192125 \nL 260.94885 433.192125 \nL 260.94885 409.728866 \nL 251.138506 409.728866 \nz\n\" clip-path=\"url(#p91341cb2f3)\" style=\"fill: #ffa500; opacity: 0.4\"/>\n   </g>\n   <g id=\"patch_59\">\n    <path d=\"M 260.94885 433.192125 \nL 270.759194 433.192125 \nL 270.759194 386.265607 \nL 260.94885 386.265607 \nz\n\" clip-path=\"url(#p91341cb2f3)\" style=\"fill: #ffa500; opacity: 0.4\"/>\n   </g>\n   <g id=\"patch_60\">\n    <path d=\"M 270.759194 433.192125 \nL 280.569538 433.192125 \nL 280.569538 362.802349 \nL 270.759194 362.802349 \nz\n\" clip-path=\"url(#p91341cb2f3)\" style=\"fill: #ffa500; opacity: 0.4\"/>\n   </g>\n   <g id=\"patch_61\">\n    <path d=\"M 280.569538 433.192125 \nL 290.379882 433.192125 \nL 290.379882 362.802349 \nL 280.569538 362.802349 \nz\n\" clip-path=\"url(#p91341cb2f3)\" style=\"fill: #ffa500; opacity: 0.4\"/>\n   </g>\n   <g id=\"patch_62\">\n    <path d=\"M 290.379882 433.192125 \nL 300.190226 433.192125 \nL 300.190226 409.728866 \nL 290.379882 409.728866 \nz\n\" clip-path=\"url(#p91341cb2f3)\" style=\"fill: #ffa500; opacity: 0.4\"/>\n   </g>\n   <g id=\"matplotlib.axis_1\">\n    <g id=\"xtick_1\">\n     <g id=\"line2d_1\">\n      <defs>\n       <path id=\"m75d5865c66\" d=\"M 0 0 \nL 0 3.5 \n\" style=\"stroke: #000000; stroke-width: 0.8\"/>\n      </defs>\n      <g>\n       <use xlink:href=\"#m75d5865c66\" x=\"63.577691\" y=\"433.192125\" style=\"stroke: #000000; stroke-width: 0.8\"/>\n      </g>\n     </g>\n     <g id=\"text_1\">\n      <!-- 0 -->\n      <g transform=\"translate(57.851441 453.869312)scale(0.18 -0.18)\">\n       <defs>\n        <path id=\"DejaVuSans-30\" d=\"M 2034 4250 \nQ 1547 4250 1301 3770 \nQ 1056 3291 1056 2328 \nQ 1056 1369 1301 889 \nQ 1547 409 2034 409 \nQ 2525 409 2770 889 \nQ 3016 1369 3016 2328 \nQ 3016 3291 2770 3770 \nQ 2525 4250 2034 4250 \nz\nM 2034 4750 \nQ 2819 4750 3233 4129 \nQ 3647 3509 3647 2328 \nQ 3647 1150 3233 529 \nQ 2819 -91 2034 -91 \nQ 1250 -91 836 529 \nQ 422 1150 422 2328 \nQ 422 3509 836 4129 \nQ 1250 4750 2034 4750 \nz\n\" transform=\"scale(0.015625)\"/>\n       </defs>\n       <use xlink:href=\"#DejaVuSans-30\"/>\n      </g>\n     </g>\n    </g>\n    <g id=\"xtick_2\">\n     <g id=\"line2d_2\">\n      <g>\n       <use xlink:href=\"#m75d5865c66\" x=\"146.585956\" y=\"433.192125\" style=\"stroke: #000000; stroke-width: 0.8\"/>\n      </g>\n     </g>\n     <g id=\"text_2\">\n      <!-- 2 -->\n      <g transform=\"translate(140.859706 453.869312)scale(0.18 -0.18)\">\n       <defs>\n        <path id=\"DejaVuSans-32\" d=\"M 1228 531 \nL 3431 531 \nL 3431 0 \nL 469 0 \nL 469 531 \nQ 828 903 1448 1529 \nQ 2069 2156 2228 2338 \nQ 2531 2678 2651 2914 \nQ 2772 3150 2772 3378 \nQ 2772 3750 2511 3984 \nQ 2250 4219 1831 4219 \nQ 1534 4219 1204 4116 \nQ 875 4013 500 3803 \nL 500 4441 \nQ 881 4594 1212 4672 \nQ 1544 4750 1819 4750 \nQ 2544 4750 2975 4387 \nQ 3406 4025 3406 3419 \nQ 3406 3131 3298 2873 \nQ 3191 2616 2906 2266 \nQ 2828 2175 2409 1742 \nQ 1991 1309 1228 531 \nz\n\" transform=\"scale(0.015625)\"/>\n       </defs>\n       <use xlink:href=\"#DejaVuSans-32\"/>\n      </g>\n     </g>\n    </g>\n    <g id=\"xtick_3\">\n     <g id=\"line2d_3\">\n      <g>\n       <use xlink:href=\"#m75d5865c66\" x=\"229.59422\" y=\"433.192125\" style=\"stroke: #000000; stroke-width: 0.8\"/>\n      </g>\n     </g>\n     <g id=\"text_3\">\n      <!-- 4 -->\n      <g transform=\"translate(223.86797 453.869312)scale(0.18 -0.18)\">\n       <defs>\n        <path id=\"DejaVuSans-34\" d=\"M 2419 4116 \nL 825 1625 \nL 2419 1625 \nL 2419 4116 \nz\nM 2253 4666 \nL 3047 4666 \nL 3047 1625 \nL 3713 1625 \nL 3713 1100 \nL 3047 1100 \nL 3047 0 \nL 2419 0 \nL 2419 1100 \nL 313 1100 \nL 313 1709 \nL 2253 4666 \nz\n\" transform=\"scale(0.015625)\"/>\n       </defs>\n       <use xlink:href=\"#DejaVuSans-34\"/>\n      </g>\n     </g>\n    </g>\n    <g id=\"xtick_4\">\n     <g id=\"line2d_4\">\n      <g>\n       <use xlink:href=\"#m75d5865c66\" x=\"312.602485\" y=\"433.192125\" style=\"stroke: #000000; stroke-width: 0.8\"/>\n      </g>\n     </g>\n     <g id=\"text_4\">\n      <!-- 6 -->\n      <g transform=\"translate(306.876235 453.869312)scale(0.18 -0.18)\">\n       <defs>\n        <path id=\"DejaVuSans-36\" d=\"M 2113 2584 \nQ 1688 2584 1439 2293 \nQ 1191 2003 1191 1497 \nQ 1191 994 1439 701 \nQ 1688 409 2113 409 \nQ 2538 409 2786 701 \nQ 3034 994 3034 1497 \nQ 3034 2003 2786 2293 \nQ 2538 2584 2113 2584 \nz\nM 3366 4563 \nL 3366 3988 \nQ 3128 4100 2886 4159 \nQ 2644 4219 2406 4219 \nQ 1781 4219 1451 3797 \nQ 1122 3375 1075 2522 \nQ 1259 2794 1537 2939 \nQ 1816 3084 2150 3084 \nQ 2853 3084 3261 2657 \nQ 3669 2231 3669 1497 \nQ 3669 778 3244 343 \nQ 2819 -91 2113 -91 \nQ 1303 -91 875 529 \nQ 447 1150 447 2328 \nQ 447 3434 972 4092 \nQ 1497 4750 2381 4750 \nQ 2619 4750 2861 4703 \nQ 3103 4656 3366 4563 \nz\n\" transform=\"scale(0.015625)\"/>\n       </defs>\n       <use xlink:href=\"#DejaVuSans-36\"/>\n      </g>\n     </g>\n    </g>\n    <g id=\"xtick_5\">\n     <g id=\"line2d_5\">\n      <g>\n       <use xlink:href=\"#m75d5865c66\" x=\"395.610749\" y=\"433.192125\" style=\"stroke: #000000; stroke-width: 0.8\"/>\n      </g>\n     </g>\n     <g id=\"text_5\">\n      <!-- 8 -->\n      <g transform=\"translate(389.884499 453.869312)scale(0.18 -0.18)\">\n       <defs>\n        <path id=\"DejaVuSans-38\" d=\"M 2034 2216 \nQ 1584 2216 1326 1975 \nQ 1069 1734 1069 1313 \nQ 1069 891 1326 650 \nQ 1584 409 2034 409 \nQ 2484 409 2743 651 \nQ 3003 894 3003 1313 \nQ 3003 1734 2745 1975 \nQ 2488 2216 2034 2216 \nz\nM 1403 2484 \nQ 997 2584 770 2862 \nQ 544 3141 544 3541 \nQ 544 4100 942 4425 \nQ 1341 4750 2034 4750 \nQ 2731 4750 3128 4425 \nQ 3525 4100 3525 3541 \nQ 3525 3141 3298 2862 \nQ 3072 2584 2669 2484 \nQ 3125 2378 3379 2068 \nQ 3634 1759 3634 1313 \nQ 3634 634 3220 271 \nQ 2806 -91 2034 -91 \nQ 1263 -91 848 271 \nQ 434 634 434 1313 \nQ 434 1759 690 2068 \nQ 947 2378 1403 2484 \nz\nM 1172 3481 \nQ 1172 3119 1398 2916 \nQ 1625 2713 2034 2713 \nQ 2441 2713 2670 2916 \nQ 2900 3119 2900 3481 \nQ 2900 3844 2670 4047 \nQ 2441 4250 2034 4250 \nQ 1625 4250 1398 4047 \nQ 1172 3844 1172 3481 \nz\n\" transform=\"scale(0.015625)\"/>\n       </defs>\n       <use xlink:href=\"#DejaVuSans-38\"/>\n      </g>\n     </g>\n    </g>\n    <g id=\"xtick_6\">\n     <g id=\"line2d_6\">\n      <g>\n       <use xlink:href=\"#m75d5865c66\" x=\"478.619013\" y=\"433.192125\" style=\"stroke: #000000; stroke-width: 0.8\"/>\n      </g>\n     </g>\n     <g id=\"text_6\">\n      <!-- 10 -->\n      <g transform=\"translate(467.166513 453.869312)scale(0.18 -0.18)\">\n       <defs>\n        <path id=\"DejaVuSans-31\" d=\"M 794 531 \nL 1825 531 \nL 1825 4091 \nL 703 3866 \nL 703 4441 \nL 1819 4666 \nL 2450 4666 \nL 2450 531 \nL 3481 531 \nL 3481 0 \nL 794 0 \nL 794 531 \nz\n\" transform=\"scale(0.015625)\"/>\n       </defs>\n       <use xlink:href=\"#DejaVuSans-31\"/>\n       <use xlink:href=\"#DejaVuSans-30\" x=\"63.623047\"/>\n      </g>\n     </g>\n    </g>\n   </g>\n   <g id=\"matplotlib.axis_2\">\n    <g id=\"ytick_1\">\n     <g id=\"line2d_7\">\n      <defs>\n       <path id=\"m6883b93681\" d=\"M 0 0 \nL -3.5 0 \n\" style=\"stroke: #000000; stroke-width: 0.8\"/>\n      </defs>\n      <g>\n       <use xlink:href=\"#m6883b93681\" x=\"42.825625\" y=\"433.192125\" style=\"stroke: #000000; stroke-width: 0.8\"/>\n      </g>\n     </g>\n     <g id=\"text_7\">\n      <!-- 0.0 -->\n      <g transform=\"translate(7.2 440.030719)scale(0.18 -0.18)\">\n       <defs>\n        <path id=\"DejaVuSans-2e\" d=\"M 684 794 \nL 1344 794 \nL 1344 0 \nL 684 0 \nL 684 794 \nz\n\" transform=\"scale(0.015625)\"/>\n       </defs>\n       <use xlink:href=\"#DejaVuSans-30\"/>\n       <use xlink:href=\"#DejaVuSans-2e\" x=\"63.623047\"/>\n       <use xlink:href=\"#DejaVuSans-30\" x=\"95.410156\"/>\n      </g>\n     </g>\n    </g>\n    <g id=\"ytick_2\">\n     <g id=\"line2d_8\">\n      <g>\n       <use xlink:href=\"#m6883b93681\" x=\"42.825625\" y=\"380.50496\" style=\"stroke: #000000; stroke-width: 0.8\"/>\n      </g>\n     </g>\n     <g id=\"text_8\">\n      <!-- 0.1 -->\n      <g transform=\"translate(7.2 387.343553)scale(0.18 -0.18)\">\n       <use xlink:href=\"#DejaVuSans-30\"/>\n       <use xlink:href=\"#DejaVuSans-2e\" x=\"63.623047\"/>\n       <use xlink:href=\"#DejaVuSans-31\" x=\"95.410156\"/>\n      </g>\n     </g>\n    </g>\n    <g id=\"ytick_3\">\n     <g id=\"line2d_9\">\n      <g>\n       <use xlink:href=\"#m6883b93681\" x=\"42.825625\" y=\"327.817794\" style=\"stroke: #000000; stroke-width: 0.8\"/>\n      </g>\n     </g>\n     <g id=\"text_9\">\n      <!-- 0.2 -->\n      <g transform=\"translate(7.2 334.656388)scale(0.18 -0.18)\">\n       <use xlink:href=\"#DejaVuSans-30\"/>\n       <use xlink:href=\"#DejaVuSans-2e\" x=\"63.623047\"/>\n       <use xlink:href=\"#DejaVuSans-32\" x=\"95.410156\"/>\n      </g>\n     </g>\n    </g>\n    <g id=\"ytick_4\">\n     <g id=\"line2d_10\">\n      <g>\n       <use xlink:href=\"#m6883b93681\" x=\"42.825625\" y=\"275.130629\" style=\"stroke: #000000; stroke-width: 0.8\"/>\n      </g>\n     </g>\n     <g id=\"text_10\">\n      <!-- 0.3 -->\n      <g transform=\"translate(7.2 281.969223)scale(0.18 -0.18)\">\n       <defs>\n        <path id=\"DejaVuSans-33\" d=\"M 2597 2516 \nQ 3050 2419 3304 2112 \nQ 3559 1806 3559 1356 \nQ 3559 666 3084 287 \nQ 2609 -91 1734 -91 \nQ 1441 -91 1130 -33 \nQ 819 25 488 141 \nL 488 750 \nQ 750 597 1062 519 \nQ 1375 441 1716 441 \nQ 2309 441 2620 675 \nQ 2931 909 2931 1356 \nQ 2931 1769 2642 2001 \nQ 2353 2234 1838 2234 \nL 1294 2234 \nL 1294 2753 \nL 1863 2753 \nQ 2328 2753 2575 2939 \nQ 2822 3125 2822 3475 \nQ 2822 3834 2567 4026 \nQ 2313 4219 1838 4219 \nQ 1578 4219 1281 4162 \nQ 984 4106 628 3988 \nL 628 4550 \nQ 988 4650 1302 4700 \nQ 1616 4750 1894 4750 \nQ 2613 4750 3031 4423 \nQ 3450 4097 3450 3541 \nQ 3450 3153 3228 2886 \nQ 3006 2619 2597 2516 \nz\n\" transform=\"scale(0.015625)\"/>\n       </defs>\n       <use xlink:href=\"#DejaVuSans-30\"/>\n       <use xlink:href=\"#DejaVuSans-2e\" x=\"63.623047\"/>\n       <use xlink:href=\"#DejaVuSans-33\" x=\"95.410156\"/>\n      </g>\n     </g>\n    </g>\n    <g id=\"ytick_5\">\n     <g id=\"line2d_11\">\n      <g>\n       <use xlink:href=\"#m6883b93681\" x=\"42.825625\" y=\"222.443464\" style=\"stroke: #000000; stroke-width: 0.8\"/>\n      </g>\n     </g>\n     <g id=\"text_11\">\n      <!-- 0.4 -->\n      <g transform=\"translate(7.2 229.282057)scale(0.18 -0.18)\">\n       <use xlink:href=\"#DejaVuSans-30\"/>\n       <use xlink:href=\"#DejaVuSans-2e\" x=\"63.623047\"/>\n       <use xlink:href=\"#DejaVuSans-34\" x=\"95.410156\"/>\n      </g>\n     </g>\n    </g>\n    <g id=\"ytick_6\">\n     <g id=\"line2d_12\">\n      <g>\n       <use xlink:href=\"#m6883b93681\" x=\"42.825625\" y=\"169.756298\" style=\"stroke: #000000; stroke-width: 0.8\"/>\n      </g>\n     </g>\n     <g id=\"text_12\">\n      <!-- 0.5 -->\n      <g transform=\"translate(7.2 176.594892)scale(0.18 -0.18)\">\n       <defs>\n        <path id=\"DejaVuSans-35\" d=\"M 691 4666 \nL 3169 4666 \nL 3169 4134 \nL 1269 4134 \nL 1269 2991 \nQ 1406 3038 1543 3061 \nQ 1681 3084 1819 3084 \nQ 2600 3084 3056 2656 \nQ 3513 2228 3513 1497 \nQ 3513 744 3044 326 \nQ 2575 -91 1722 -91 \nQ 1428 -91 1123 -41 \nQ 819 9 494 109 \nL 494 744 \nQ 775 591 1075 516 \nQ 1375 441 1709 441 \nQ 2250 441 2565 725 \nQ 2881 1009 2881 1497 \nQ 2881 1984 2565 2268 \nQ 2250 2553 1709 2553 \nQ 1456 2553 1204 2497 \nQ 953 2441 691 2322 \nL 691 4666 \nz\n\" transform=\"scale(0.015625)\"/>\n       </defs>\n       <use xlink:href=\"#DejaVuSans-30\"/>\n       <use xlink:href=\"#DejaVuSans-2e\" x=\"63.623047\"/>\n       <use xlink:href=\"#DejaVuSans-35\" x=\"95.410156\"/>\n      </g>\n     </g>\n    </g>\n    <g id=\"ytick_7\">\n     <g id=\"line2d_13\">\n      <g>\n       <use xlink:href=\"#m6883b93681\" x=\"42.825625\" y=\"117.069133\" style=\"stroke: #000000; stroke-width: 0.8\"/>\n      </g>\n     </g>\n     <g id=\"text_13\">\n      <!-- 0.6 -->\n      <g transform=\"translate(7.2 123.907727)scale(0.18 -0.18)\">\n       <use xlink:href=\"#DejaVuSans-30\"/>\n       <use xlink:href=\"#DejaVuSans-2e\" x=\"63.623047\"/>\n       <use xlink:href=\"#DejaVuSans-36\" x=\"95.410156\"/>\n      </g>\n     </g>\n    </g>\n    <g id=\"ytick_8\">\n     <g id=\"line2d_14\">\n      <g>\n       <use xlink:href=\"#m6883b93681\" x=\"42.825625\" y=\"64.381968\" style=\"stroke: #000000; stroke-width: 0.8\"/>\n      </g>\n     </g>\n     <g id=\"text_14\">\n      <!-- 0.7 -->\n      <g transform=\"translate(7.2 71.220561)scale(0.18 -0.18)\">\n       <defs>\n        <path id=\"DejaVuSans-37\" d=\"M 525 4666 \nL 3525 4666 \nL 3525 4397 \nL 1831 0 \nL 1172 0 \nL 2766 4134 \nL 525 4134 \nL 525 4666 \nz\n\" transform=\"scale(0.015625)\"/>\n       </defs>\n       <use xlink:href=\"#DejaVuSans-30\"/>\n       <use xlink:href=\"#DejaVuSans-2e\" x=\"63.623047\"/>\n       <use xlink:href=\"#DejaVuSans-37\" x=\"95.410156\"/>\n      </g>\n     </g>\n    </g>\n   </g>\n   <g id=\"line2d_15\">\n    <path d=\"M 63.577691 433.173086 \nL 67.770028 433.137169 \nL 71.962364 433.048299 \nL 76.154701 432.849606 \nL 80.347037 432.446217 \nL 84.539374 431.697018 \nL 88.731711 430.410908 \nL 92.924047 428.343662 \nL 97.116384 425.189438 \nL 101.30872 420.570834 \nL 105.501057 414.052151 \nL 109.693394 405.211426 \nL 113.88573 393.781205 \nL 118.078067 379.805785 \nL 122.270403 363.70767 \nL 126.46274 346.168164 \nL 130.655077 327.826875 \nL 134.847413 308.943026 \nL 139.03975 289.241483 \nL 143.232086 268.106826 \nL 147.424423 245.090398 \nL 151.616759 220.474121 \nL 155.809096 195.564154 \nL 160.001433 172.547404 \nL 164.193769 154.011962 \nL 168.386106 142.377352 \nL 172.578442 139.40576 \nL 176.770779 145.820063 \nL 180.963116 161.042643 \nL 185.155452 183.183662 \nL 189.347789 209.436283 \nL 193.540125 236.842644 \nL 197.732462 263.114309 \nL 201.924799 287.096521 \nL 206.117135 308.669236 \nL 210.309472 328.220583 \nL 214.501808 346.047808 \nL 218.694145 362.007602 \nL 222.886481 375.53053 \nL 227.078818 385.907159 \nL 231.271155 392.660584 \nL 235.463491 395.836719 \nL 239.655828 396.105973 \nL 243.848164 394.638946 \nL 248.040501 392.796053 \nL 252.232838 391.749899 \nL 256.425174 392.196799 \nL 260.617511 394.270296 \nL 264.809847 397.660938 \nL 269.002184 401.843776 \nL 273.194521 406.285435 \nL 277.386857 410.556576 \nL 281.579194 414.359379 \nL 285.77153 417.523703 \nL 289.963867 420.005584 \nL 294.156204 421.877751 \nL 298.34854 423.290065 \nL 302.540877 424.407547 \nL 306.733213 425.362133 \nL 310.92555 426.243262 \nL 315.117886 427.114325 \nL 319.310223 428.021677 \nL 323.50256 428.981564 \nL 327.694896 429.962987 \nL 331.887233 430.893081 \nL 336.079569 431.689375 \nL 340.271906 432.297484 \nL 344.464243 432.709628 \nL 348.656579 432.957221 \nL 352.848916 433.089121 \nL 357.041252 433.151503 \nL 361.233589 433.17773 \nL 365.425926 433.187544 \nL 369.618262 433.190816 \nL 373.810599 433.191789 \nL 378.002935 433.192048 \nL 382.195272 433.192109 \nL 386.387608 433.192122 \nL 390.579945 433.192125 \nL 394.772282 433.192125 \nL 398.964618 433.192125 \nL 403.156955 433.192125 \nL 407.349291 433.192125 \nL 411.541628 433.192125 \nL 415.733965 433.192125 \nL 419.926301 433.192125 \nL 424.118638 433.192125 \nL 428.310974 433.192125 \nL 432.503311 433.192125 \nL 436.695648 433.192125 \nL 440.887984 433.192125 \nL 445.080321 433.192125 \nL 449.272657 433.192125 \nL 453.464994 433.192125 \nL 457.65733 433.192125 \nL 461.849667 433.192125 \nL 466.042004 433.192125 \nL 470.23434 433.192125 \nL 474.426677 433.192125 \nL 478.619013 433.192125 \n\" clip-path=\"url(#p91341cb2f3)\" style=\"fill: none; stroke: #0000ff; stroke-width: 1.5; stroke-linecap: square\"/>\n   </g>\n   <g id=\"line2d_16\">\n    <path d=\"M 63.577691 432.514659 \nL 67.770028 432.240085 \nL 71.962364 431.874205 \nL 76.154701 431.394404 \nL 80.347037 430.775049 \nL 84.539374 429.987865 \nL 88.731711 429.002554 \nL 92.924047 427.787699 \nL 97.116384 426.311932 \nL 101.30872 424.545334 \nL 105.501057 422.461012 \nL 109.693394 420.03674 \nL 113.88573 417.256542 \nL 118.078067 414.112065 \nL 122.270403 410.603572 \nL 126.46274 406.740429 \nL 130.655077 402.54096 \nL 134.847413 398.031658 \nL 139.03975 393.245783 \nL 143.232086 388.221512 \nL 147.424423 382.999885 \nL 151.616759 377.622828 \nL 155.809096 372.131593 \nL 160.001433 366.565881 \nL 164.193769 360.963813 \nL 168.386106 355.362799 \nL 172.578442 349.801137 \nL 176.770779 344.320079 \nL 180.963116 338.965926 \nL 185.155452 333.791709 \nL 189.347789 328.858045 \nL 193.540125 324.232859 \nL 197.732462 319.989836 \nL 201.924799 316.205687 \nL 206.117135 312.95645 \nL 210.309472 310.313219 \nL 214.501808 308.337754 \nL 218.694145 307.078408 \nL 222.886481 306.566769 \nL 227.078818 306.815272 \nL 231.271155 307.815932 \nL 235.463491 309.540223 \nL 239.655828 311.939994 \nL 243.848164 314.949306 \nL 248.040501 318.486976 \nL 252.232838 322.459689 \nL 256.425174 326.765492 \nL 260.617511 331.297589 \nL 264.809847 335.948316 \nL 269.002184 340.613238 \nL 273.194521 345.195247 \nL 277.386857 349.608532 \nL 281.579194 353.782211 \nL 285.77153 357.663374 \nL 289.963867 361.219228 \nL 294.156204 364.438074 \nL 298.34854 367.328868 \nL 302.540877 369.919252 \nL 306.733213 372.252107 \nL 310.92555 374.380837 \nL 315.117886 376.363796 \nL 319.310223 378.25839 \nL 323.50256 380.115444 \nL 327.694896 381.974445 \nL 331.887233 383.860148 \nL 336.079569 385.780882 \nL 340.271906 387.728702 \nL 344.464243 389.681313 \nL 348.656579 391.605486 \nL 352.848916 393.461552 \nL 357.041252 395.208447 \nL 361.233589 396.808777 \nL 365.425926 398.233358 \nL 369.618262 399.464818 \nL 373.810599 400.49993 \nL 378.002935 401.350494 \nL 382.195272 402.042746 \nL 386.387608 402.615379 \nL 390.579945 403.116422 \nL 394.772282 403.59929 \nL 398.964618 404.118394 \nL 403.156955 404.724729 \nL 407.349291 405.461842 \nL 411.541628 406.362529 \nL 415.733965 407.446546 \nL 419.926301 408.719489 \nL 424.118638 410.17289 \nL 428.310974 411.785457 \nL 432.503311 413.525274 \nL 436.695648 415.352706 \nL 440.887984 417.223673 \nL 445.080321 419.093006 \nL 449.272657 420.917548 \nL 453.464994 422.658783 \nL 457.65733 424.284807 \nL 461.849667 425.77155 \nL 466.042004 427.103265 \nL 470.23434 428.272326 \nL 474.426677 429.278473 \nL 478.619013 430.127656 \n\" clip-path=\"url(#p91341cb2f3)\" style=\"fill: none; stroke: #ff0000; stroke-width: 1.5; stroke-linecap: square\"/>\n   </g>\n   <g id=\"line2d_17\">\n    <path d=\"M 63.577691 431.713168 \nL 67.770028 430.649369 \nL 71.962364 428.977942 \nL 76.154701 426.454574 \nL 80.347037 422.793901 \nL 84.539374 417.691721 \nL 88.731711 410.862028 \nL 92.924047 402.086821 \nL 97.116384 391.271578 \nL 101.30872 378.494181 \nL 105.501057 364.032265 \nL 109.693394 348.355697 \nL 113.88573 332.078626 \nL 118.078067 315.877676 \nL 122.270403 300.395515 \nL 126.46274 286.156394 \nL 130.655077 273.518037 \nL 134.847413 262.672064 \nL 139.03975 253.68741 \nL 143.232086 246.575848 \nL 147.424423 241.352378 \nL 151.616759 238.068522 \nL 155.809096 236.810023 \nL 160.001433 237.665226 \nL 164.193769 240.679949 \nL 168.386106 245.816013 \nL 172.578442 252.925389 \nL 176.770779 261.744294 \nL 180.963116 271.905398 \nL 185.155452 282.963479 \nL 189.347789 294.429902 \nL 193.540125 305.812574 \nL 197.732462 316.658941 \nL 201.924799 326.59915 \nL 206.117135 335.384605 \nL 210.309472 342.914724 \nL 214.501808 349.243388 \nL 218.694145 354.558294 \nL 222.886481 359.132206 \nL 227.078818 363.253939 \nL 231.271155 367.155532 \nL 235.463491 370.956397 \nL 239.655828 374.642213 \nL 243.848164 378.086228 \nL 248.040501 381.106744 \nL 252.232838 383.54249 \nL 256.425174 385.321808 \nL 260.617511 386.504293 \nL 264.809847 387.283163 \nL 269.002184 387.949355 \nL 273.194521 388.829484 \nL 277.386857 390.216104 \nL 281.579194 392.30877 \nL 285.77153 395.179324 \nL 289.963867 398.766853 \nL 294.156204 402.899622 \nL 298.34854 407.33531 \nL 302.540877 411.80814 \nL 306.733213 416.072131 \nL 310.92555 419.93281 \nL 315.117886 423.2639 \nL 319.310223 426.009459 \nL 323.50256 428.174754 \nL 327.694896 429.810462 \nL 331.887233 430.994731 \nL 336.079569 431.816672 \nL 340.271906 432.363486 \nL 344.464243 432.712082 \nL 348.656579 432.924942 \nL 352.848916 433.049374 \nL 357.041252 433.118972 \nL 361.233589 433.156196 \nL 365.425926 433.175224 \nL 369.618262 433.184516 \nL 373.810599 433.188848 \nL 378.002935 433.190776 \nL 382.195272 433.191594 \nL 386.387608 433.191925 \nL 390.579945 433.192053 \nL 394.772282 433.1921 \nL 398.964618 433.192117 \nL 403.156955 433.192122 \nL 407.349291 433.192124 \nL 411.541628 433.192125 \nL 415.733965 433.192125 \nL 419.926301 433.192125 \nL 424.118638 433.192125 \nL 428.310974 433.192125 \nL 432.503311 433.192125 \nL 436.695648 433.192125 \nL 440.887984 433.192125 \nL 445.080321 433.192125 \nL 449.272657 433.192125 \nL 453.464994 433.192125 \nL 457.65733 433.192125 \nL 461.849667 433.192125 \nL 466.042004 433.192125 \nL 470.23434 433.192125 \nL 474.426677 433.192125 \nL 478.619013 433.192125 \n\" clip-path=\"url(#p91341cb2f3)\" style=\"fill: none; stroke: #ffa500; stroke-width: 1.5; stroke-linecap: square\"/>\n   </g>\n   <g id=\"patch_63\">\n    <path d=\"M 42.825625 433.192125 \nL 42.825625 52.672125 \n\" style=\"fill: none; stroke: #000000; stroke-width: 0.8; stroke-linejoin: miter; stroke-linecap: square\"/>\n   </g>\n   <g id=\"patch_64\">\n    <path d=\"M 499.37108 433.192125 \nL 499.37108 52.672125 \n\" style=\"fill: none; stroke: #000000; stroke-width: 0.8; stroke-linejoin: miter; stroke-linecap: square\"/>\n   </g>\n   <g id=\"patch_65\">\n    <path d=\"M 42.825625 433.192125 \nL 499.37108 433.192125 \n\" style=\"fill: none; stroke: #000000; stroke-width: 0.8; stroke-linejoin: miter; stroke-linecap: square\"/>\n   </g>\n   <g id=\"patch_66\">\n    <path d=\"M 42.825625 52.672125 \nL 499.37108 52.672125 \n\" style=\"fill: none; stroke: #000000; stroke-width: 0.8; stroke-linejoin: miter; stroke-linecap: square\"/>\n   </g>\n   <g id=\"text_15\">\n    <!-- (a) Distances to Linear mean -->\n    <g transform=\"translate(118.78929 23.156719)scale(0.21 -0.21)\">\n     <defs>\n      <path id=\"DejaVuSans-28\" d=\"M 1984 4856 \nQ 1566 4138 1362 3434 \nQ 1159 2731 1159 2009 \nQ 1159 1288 1364 580 \nQ 1569 -128 1984 -844 \nL 1484 -844 \nQ 1016 -109 783 600 \nQ 550 1309 550 2009 \nQ 550 2706 781 3412 \nQ 1013 4119 1484 4856 \nL 1984 4856 \nz\n\" transform=\"scale(0.015625)\"/>\n      <path id=\"DejaVuSans-61\" d=\"M 2194 1759 \nQ 1497 1759 1228 1600 \nQ 959 1441 959 1056 \nQ 959 750 1161 570 \nQ 1363 391 1709 391 \nQ 2188 391 2477 730 \nQ 2766 1069 2766 1631 \nL 2766 1759 \nL 2194 1759 \nz\nM 3341 1997 \nL 3341 0 \nL 2766 0 \nL 2766 531 \nQ 2569 213 2275 61 \nQ 1981 -91 1556 -91 \nQ 1019 -91 701 211 \nQ 384 513 384 1019 \nQ 384 1609 779 1909 \nQ 1175 2209 1959 2209 \nL 2766 2209 \nL 2766 2266 \nQ 2766 2663 2505 2880 \nQ 2244 3097 1772 3097 \nQ 1472 3097 1187 3025 \nQ 903 2953 641 2809 \nL 641 3341 \nQ 956 3463 1253 3523 \nQ 1550 3584 1831 3584 \nQ 2591 3584 2966 3190 \nQ 3341 2797 3341 1997 \nz\n\" transform=\"scale(0.015625)\"/>\n      <path id=\"DejaVuSans-29\" d=\"M 513 4856 \nL 1013 4856 \nQ 1481 4119 1714 3412 \nQ 1947 2706 1947 2009 \nQ 1947 1309 1714 600 \nQ 1481 -109 1013 -844 \nL 513 -844 \nQ 928 -128 1133 580 \nQ 1338 1288 1338 2009 \nQ 1338 2731 1133 3434 \nQ 928 4138 513 4856 \nz\n\" transform=\"scale(0.015625)\"/>\n      <path id=\"DejaVuSans-20\" transform=\"scale(0.015625)\"/>\n      <path id=\"DejaVuSans-44\" d=\"M 1259 4147 \nL 1259 519 \nL 2022 519 \nQ 2988 519 3436 956 \nQ 3884 1394 3884 2338 \nQ 3884 3275 3436 3711 \nQ 2988 4147 2022 4147 \nL 1259 4147 \nz\nM 628 4666 \nL 1925 4666 \nQ 3281 4666 3915 4102 \nQ 4550 3538 4550 2338 \nQ 4550 1131 3912 565 \nQ 3275 0 1925 0 \nL 628 0 \nL 628 4666 \nz\n\" transform=\"scale(0.015625)\"/>\n      <path id=\"DejaVuSans-69\" d=\"M 603 3500 \nL 1178 3500 \nL 1178 0 \nL 603 0 \nL 603 3500 \nz\nM 603 4863 \nL 1178 4863 \nL 1178 4134 \nL 603 4134 \nL 603 4863 \nz\n\" transform=\"scale(0.015625)\"/>\n      <path id=\"DejaVuSans-73\" d=\"M 2834 3397 \nL 2834 2853 \nQ 2591 2978 2328 3040 \nQ 2066 3103 1784 3103 \nQ 1356 3103 1142 2972 \nQ 928 2841 928 2578 \nQ 928 2378 1081 2264 \nQ 1234 2150 1697 2047 \nL 1894 2003 \nQ 2506 1872 2764 1633 \nQ 3022 1394 3022 966 \nQ 3022 478 2636 193 \nQ 2250 -91 1575 -91 \nQ 1294 -91 989 -36 \nQ 684 19 347 128 \nL 347 722 \nQ 666 556 975 473 \nQ 1284 391 1588 391 \nQ 1994 391 2212 530 \nQ 2431 669 2431 922 \nQ 2431 1156 2273 1281 \nQ 2116 1406 1581 1522 \nL 1381 1569 \nQ 847 1681 609 1914 \nQ 372 2147 372 2553 \nQ 372 3047 722 3315 \nQ 1072 3584 1716 3584 \nQ 2034 3584 2315 3537 \nQ 2597 3491 2834 3397 \nz\n\" transform=\"scale(0.015625)\"/>\n      <path id=\"DejaVuSans-74\" d=\"M 1172 4494 \nL 1172 3500 \nL 2356 3500 \nL 2356 3053 \nL 1172 3053 \nL 1172 1153 \nQ 1172 725 1289 603 \nQ 1406 481 1766 481 \nL 2356 481 \nL 2356 0 \nL 1766 0 \nQ 1100 0 847 248 \nQ 594 497 594 1153 \nL 594 3053 \nL 172 3053 \nL 172 3500 \nL 594 3500 \nL 594 4494 \nL 1172 4494 \nz\n\" transform=\"scale(0.015625)\"/>\n      <path id=\"DejaVuSans-6e\" d=\"M 3513 2113 \nL 3513 0 \nL 2938 0 \nL 2938 2094 \nQ 2938 2591 2744 2837 \nQ 2550 3084 2163 3084 \nQ 1697 3084 1428 2787 \nQ 1159 2491 1159 1978 \nL 1159 0 \nL 581 0 \nL 581 3500 \nL 1159 3500 \nL 1159 2956 \nQ 1366 3272 1645 3428 \nQ 1925 3584 2291 3584 \nQ 2894 3584 3203 3211 \nQ 3513 2838 3513 2113 \nz\n\" transform=\"scale(0.015625)\"/>\n      <path id=\"DejaVuSans-63\" d=\"M 3122 3366 \nL 3122 2828 \nQ 2878 2963 2633 3030 \nQ 2388 3097 2138 3097 \nQ 1578 3097 1268 2742 \nQ 959 2388 959 1747 \nQ 959 1106 1268 751 \nQ 1578 397 2138 397 \nQ 2388 397 2633 464 \nQ 2878 531 3122 666 \nL 3122 134 \nQ 2881 22 2623 -34 \nQ 2366 -91 2075 -91 \nQ 1284 -91 818 406 \nQ 353 903 353 1747 \nQ 353 2603 823 3093 \nQ 1294 3584 2113 3584 \nQ 2378 3584 2631 3529 \nQ 2884 3475 3122 3366 \nz\n\" transform=\"scale(0.015625)\"/>\n      <path id=\"DejaVuSans-65\" d=\"M 3597 1894 \nL 3597 1613 \nL 953 1613 \nQ 991 1019 1311 708 \nQ 1631 397 2203 397 \nQ 2534 397 2845 478 \nQ 3156 559 3463 722 \nL 3463 178 \nQ 3153 47 2828 -22 \nQ 2503 -91 2169 -91 \nQ 1331 -91 842 396 \nQ 353 884 353 1716 \nQ 353 2575 817 3079 \nQ 1281 3584 2069 3584 \nQ 2775 3584 3186 3129 \nQ 3597 2675 3597 1894 \nz\nM 3022 2063 \nQ 3016 2534 2758 2815 \nQ 2500 3097 2075 3097 \nQ 1594 3097 1305 2825 \nQ 1016 2553 972 2059 \nL 3022 2063 \nz\n\" transform=\"scale(0.015625)\"/>\n      <path id=\"DejaVuSans-6f\" d=\"M 1959 3097 \nQ 1497 3097 1228 2736 \nQ 959 2375 959 1747 \nQ 959 1119 1226 758 \nQ 1494 397 1959 397 \nQ 2419 397 2687 759 \nQ 2956 1122 2956 1747 \nQ 2956 2369 2687 2733 \nQ 2419 3097 1959 3097 \nz\nM 1959 3584 \nQ 2709 3584 3137 3096 \nQ 3566 2609 3566 1747 \nQ 3566 888 3137 398 \nQ 2709 -91 1959 -91 \nQ 1206 -91 779 398 \nQ 353 888 353 1747 \nQ 353 2609 779 3096 \nQ 1206 3584 1959 3584 \nz\n\" transform=\"scale(0.015625)\"/>\n      <path id=\"DejaVuSans-4c\" d=\"M 628 4666 \nL 1259 4666 \nL 1259 531 \nL 3531 531 \nL 3531 0 \nL 628 0 \nL 628 4666 \nz\n\" transform=\"scale(0.015625)\"/>\n      <path id=\"DejaVuSans-72\" d=\"M 2631 2963 \nQ 2534 3019 2420 3045 \nQ 2306 3072 2169 3072 \nQ 1681 3072 1420 2755 \nQ 1159 2438 1159 1844 \nL 1159 0 \nL 581 0 \nL 581 3500 \nL 1159 3500 \nL 1159 2956 \nQ 1341 3275 1631 3429 \nQ 1922 3584 2338 3584 \nQ 2397 3584 2469 3576 \nQ 2541 3569 2628 3553 \nL 2631 2963 \nz\n\" transform=\"scale(0.015625)\"/>\n      <path id=\"DejaVuSans-6d\" d=\"M 3328 2828 \nQ 3544 3216 3844 3400 \nQ 4144 3584 4550 3584 \nQ 5097 3584 5394 3201 \nQ 5691 2819 5691 2113 \nL 5691 0 \nL 5113 0 \nL 5113 2094 \nQ 5113 2597 4934 2840 \nQ 4756 3084 4391 3084 \nQ 3944 3084 3684 2787 \nQ 3425 2491 3425 1978 \nL 3425 0 \nL 2847 0 \nL 2847 2094 \nQ 2847 2600 2669 2842 \nQ 2491 3084 2119 3084 \nQ 1678 3084 1418 2786 \nQ 1159 2488 1159 1978 \nL 1159 0 \nL 581 0 \nL 581 3500 \nL 1159 3500 \nL 1159 2956 \nQ 1356 3278 1631 3431 \nQ 1906 3584 2284 3584 \nQ 2666 3584 2933 3390 \nQ 3200 3197 3328 2828 \nz\n\" transform=\"scale(0.015625)\"/>\n     </defs>\n     <use xlink:href=\"#DejaVuSans-28\"/>\n     <use xlink:href=\"#DejaVuSans-61\" x=\"39.013672\"/>\n     <use xlink:href=\"#DejaVuSans-29\" x=\"100.292969\"/>\n     <use xlink:href=\"#DejaVuSans-20\" x=\"139.306641\"/>\n     <use xlink:href=\"#DejaVuSans-44\" x=\"171.09375\"/>\n     <use xlink:href=\"#DejaVuSans-69\" x=\"248.095703\"/>\n     <use xlink:href=\"#DejaVuSans-73\" x=\"275.878906\"/>\n     <use xlink:href=\"#DejaVuSans-74\" x=\"327.978516\"/>\n     <use xlink:href=\"#DejaVuSans-61\" x=\"367.1875\"/>\n     <use xlink:href=\"#DejaVuSans-6e\" x=\"428.466797\"/>\n     <use xlink:href=\"#DejaVuSans-63\" x=\"491.845703\"/>\n     <use xlink:href=\"#DejaVuSans-65\" x=\"546.826172\"/>\n     <use xlink:href=\"#DejaVuSans-73\" x=\"608.349609\"/>\n     <use xlink:href=\"#DejaVuSans-20\" x=\"660.449219\"/>\n     <use xlink:href=\"#DejaVuSans-74\" x=\"692.236328\"/>\n     <use xlink:href=\"#DejaVuSans-6f\" x=\"731.445312\"/>\n     <use xlink:href=\"#DejaVuSans-20\" x=\"792.626953\"/>\n     <use xlink:href=\"#DejaVuSans-4c\" x=\"824.414062\"/>\n     <use xlink:href=\"#DejaVuSans-69\" x=\"880.126953\"/>\n     <use xlink:href=\"#DejaVuSans-6e\" x=\"907.910156\"/>\n     <use xlink:href=\"#DejaVuSans-65\" x=\"971.289062\"/>\n     <use xlink:href=\"#DejaVuSans-61\" x=\"1032.8125\"/>\n     <use xlink:href=\"#DejaVuSans-72\" x=\"1094.091797\"/>\n     <use xlink:href=\"#DejaVuSans-20\" x=\"1135.205078\"/>\n     <use xlink:href=\"#DejaVuSans-6d\" x=\"1166.992188\"/>\n     <use xlink:href=\"#DejaVuSans-65\" x=\"1264.404297\"/>\n     <use xlink:href=\"#DejaVuSans-61\" x=\"1325.927734\"/>\n     <use xlink:href=\"#DejaVuSans-6e\" x=\"1387.207031\"/>\n    </g>\n    <!--  -->\n    <g transform=\"translate(271.098352 46.672125)scale(0.21 -0.21)\"/>\n   </g>\n   <g id=\"legend_1\">\n    <g id=\"patch_67\">\n     <path d=\"M 366.787017 146.334 \nL 486.77108 146.334 \nQ 490.37108 146.334 490.37108 142.734 \nL 490.37108 65.272125 \nQ 490.37108 61.672125 486.77108 61.672125 \nL 366.787017 61.672125 \nQ 363.187017 61.672125 363.187017 65.272125 \nL 363.187017 142.734 \nQ 363.187017 146.334 366.787017 146.334 \nz\n\" style=\"fill: #ffffff; opacity: 0.8; stroke: #cccccc; stroke-linejoin: miter\"/>\n    </g>\n    <g id=\"patch_68\">\n     <path d=\"M 370.387017 82.549312 \nL 406.387017 82.549312 \nL 406.387017 69.949312 \nL 370.387017 69.949312 \nz\n\" style=\"fill: #0000ff; opacity: 0.4\"/>\n    </g>\n    <g id=\"text_16\">\n     <!-- control -->\n     <g transform=\"translate(420.787017 82.549312)scale(0.18 -0.18)\">\n      <defs>\n       <path id=\"DejaVuSans-6c\" d=\"M 603 4863 \nL 1178 4863 \nL 1178 0 \nL 603 0 \nL 603 4863 \nz\n\" transform=\"scale(0.015625)\"/>\n      </defs>\n      <use xlink:href=\"#DejaVuSans-63\"/>\n      <use xlink:href=\"#DejaVuSans-6f\" x=\"54.980469\"/>\n      <use xlink:href=\"#DejaVuSans-6e\" x=\"116.162109\"/>\n      <use xlink:href=\"#DejaVuSans-74\" x=\"179.541016\"/>\n      <use xlink:href=\"#DejaVuSans-72\" x=\"218.75\"/>\n      <use xlink:href=\"#DejaVuSans-6f\" x=\"257.613281\"/>\n      <use xlink:href=\"#DejaVuSans-6c\" x=\"318.794922\"/>\n     </g>\n    </g>\n    <g id=\"patch_69\">\n     <path d=\"M 370.387017 108.969937 \nL 406.387017 108.969937 \nL 406.387017 96.369937 \nL 370.387017 96.369937 \nz\n\" style=\"fill: #ff0000; opacity: 0.4\"/>\n    </g>\n    <g id=\"text_17\">\n     <!-- cytd -->\n     <g transform=\"translate(420.787017 108.969937)scale(0.18 -0.18)\">\n      <defs>\n       <path id=\"DejaVuSans-79\" d=\"M 2059 -325 \nQ 1816 -950 1584 -1140 \nQ 1353 -1331 966 -1331 \nL 506 -1331 \nL 506 -850 \nL 844 -850 \nQ 1081 -850 1212 -737 \nQ 1344 -625 1503 -206 \nL 1606 56 \nL 191 3500 \nL 800 3500 \nL 1894 763 \nL 2988 3500 \nL 3597 3500 \nL 2059 -325 \nz\n\" transform=\"scale(0.015625)\"/>\n       <path id=\"DejaVuSans-64\" d=\"M 2906 2969 \nL 2906 4863 \nL 3481 4863 \nL 3481 0 \nL 2906 0 \nL 2906 525 \nQ 2725 213 2448 61 \nQ 2172 -91 1784 -91 \nQ 1150 -91 751 415 \nQ 353 922 353 1747 \nQ 353 2572 751 3078 \nQ 1150 3584 1784 3584 \nQ 2172 3584 2448 3432 \nQ 2725 3281 2906 2969 \nz\nM 947 1747 \nQ 947 1113 1208 752 \nQ 1469 391 1925 391 \nQ 2381 391 2643 752 \nQ 2906 1113 2906 1747 \nQ 2906 2381 2643 2742 \nQ 2381 3103 1925 3103 \nQ 1469 3103 1208 2742 \nQ 947 2381 947 1747 \nz\n\" transform=\"scale(0.015625)\"/>\n      </defs>\n      <use xlink:href=\"#DejaVuSans-63\"/>\n      <use xlink:href=\"#DejaVuSans-79\" x=\"54.980469\"/>\n      <use xlink:href=\"#DejaVuSans-74\" x=\"114.160156\"/>\n      <use xlink:href=\"#DejaVuSans-64\" x=\"153.369141\"/>\n     </g>\n    </g>\n    <g id=\"patch_70\">\n     <path d=\"M 370.387017 135.390562 \nL 406.387017 135.390562 \nL 406.387017 122.790562 \nL 370.387017 122.790562 \nz\n\" style=\"fill: #ffa500; opacity: 0.4\"/>\n    </g>\n    <g id=\"text_18\">\n     <!-- jasp -->\n     <g transform=\"translate(420.787017 135.390562)scale(0.18 -0.18)\">\n      <defs>\n       <path id=\"DejaVuSans-6a\" d=\"M 603 3500 \nL 1178 3500 \nL 1178 -63 \nQ 1178 -731 923 -1031 \nQ 669 -1331 103 -1331 \nL -116 -1331 \nL -116 -844 \nL 38 -844 \nQ 366 -844 484 -692 \nQ 603 -541 603 -63 \nL 603 3500 \nz\nM 603 4863 \nL 1178 4863 \nL 1178 4134 \nL 603 4134 \nL 603 4863 \nz\n\" transform=\"scale(0.015625)\"/>\n       <path id=\"DejaVuSans-70\" d=\"M 1159 525 \nL 1159 -1331 \nL 581 -1331 \nL 581 3500 \nL 1159 3500 \nL 1159 2969 \nQ 1341 3281 1617 3432 \nQ 1894 3584 2278 3584 \nQ 2916 3584 3314 3078 \nQ 3713 2572 3713 1747 \nQ 3713 922 3314 415 \nQ 2916 -91 2278 -91 \nQ 1894 -91 1617 61 \nQ 1341 213 1159 525 \nz\nM 3116 1747 \nQ 3116 2381 2855 2742 \nQ 2594 3103 2138 3103 \nQ 1681 3103 1420 2742 \nQ 1159 2381 1159 1747 \nQ 1159 1113 1420 752 \nQ 1681 391 2138 391 \nQ 2594 391 2855 752 \nQ 3116 1113 3116 1747 \nz\n\" transform=\"scale(0.015625)\"/>\n      </defs>\n      <use xlink:href=\"#DejaVuSans-6a\"/>\n      <use xlink:href=\"#DejaVuSans-61\" x=\"27.783203\"/>\n      <use xlink:href=\"#DejaVuSans-73\" x=\"89.0625\"/>\n      <use xlink:href=\"#DejaVuSans-70\" x=\"141.162109\"/>\n     </g>\n    </g>\n   </g>\n  </g>\n  <g id=\"axes_2\">\n   <g id=\"patch_71\">\n    <path d=\"M 590.68017 433.192125 \nL 1047.225625 433.192125 \nL 1047.225625 52.672125 \nL 590.68017 52.672125 \nz\n\" style=\"fill: #ffffff\"/>\n   </g>\n   <g id=\"patch_72\">\n    <path d=\"M 683.650638 433.192125 \nL 692.650817 433.192125 \nL 692.650817 119.951262 \nL 683.650638 119.951262 \nz\n\" clip-path=\"url(#p77095c8282)\" style=\"fill: #0000ff; opacity: 0.4\"/>\n   </g>\n   <g id=\"patch_73\">\n    <path d=\"M 692.650817 433.192125 \nL 701.650997 433.192125 \nL 701.650997 161.71671 \nL 692.650817 161.71671 \nz\n\" clip-path=\"url(#p77095c8282)\" style=\"fill: #0000ff; opacity: 0.4\"/>\n   </g>\n   <g id=\"patch_74\">\n    <path d=\"M 701.650997 433.192125 \nL 710.651177 433.192125 \nL 710.651177 213.923521 \nL 701.650997 213.923521 \nz\n\" clip-path=\"url(#p77095c8282)\" style=\"fill: #0000ff; opacity: 0.4\"/>\n   </g>\n   <g id=\"patch_75\">\n    <path d=\"M 710.651177 433.192125 \nL 719.651357 433.192125 \nL 719.651357 328.778504 \nL 710.651177 328.778504 \nz\n\" clip-path=\"url(#p77095c8282)\" style=\"fill: #0000ff; opacity: 0.4\"/>\n   </g>\n   <g id=\"patch_76\">\n    <path d=\"M 719.651357 433.192125 \nL 728.651537 433.192125 \nL 728.651537 370.543952 \nL 719.651357 370.543952 \nz\n\" clip-path=\"url(#p77095c8282)\" style=\"fill: #0000ff; opacity: 0.4\"/>\n   </g>\n   <g id=\"patch_77\">\n    <path d=\"M 728.651537 433.192125 \nL 737.651716 433.192125 \nL 737.651716 370.543952 \nL 728.651537 370.543952 \nz\n\" clip-path=\"url(#p77095c8282)\" style=\"fill: #0000ff; opacity: 0.4\"/>\n   </g>\n   <g id=\"patch_78\">\n    <path d=\"M 737.651716 433.192125 \nL 746.651896 433.192125 \nL 746.651896 360.10259 \nL 737.651716 360.10259 \nz\n\" clip-path=\"url(#p77095c8282)\" style=\"fill: #0000ff; opacity: 0.4\"/>\n   </g>\n   <g id=\"patch_79\">\n    <path d=\"M 746.651896 433.192125 \nL 755.652076 433.192125 \nL 755.652076 339.219866 \nL 746.651896 339.219866 \nz\n\" clip-path=\"url(#p77095c8282)\" style=\"fill: #0000ff; opacity: 0.4\"/>\n   </g>\n   <g id=\"patch_80\">\n    <path d=\"M 755.652076 433.192125 \nL 764.652256 433.192125 \nL 764.652256 318.337142 \nL 755.652076 318.337142 \nz\n\" clip-path=\"url(#p77095c8282)\" style=\"fill: #0000ff; opacity: 0.4\"/>\n   </g>\n   <g id=\"patch_81\">\n    <path d=\"M 764.652256 433.192125 \nL 773.652436 433.192125 \nL 773.652436 318.337142 \nL 764.652256 318.337142 \nz\n\" clip-path=\"url(#p77095c8282)\" style=\"fill: #0000ff; opacity: 0.4\"/>\n   </g>\n   <g id=\"patch_82\">\n    <path d=\"M 773.652436 433.192125 \nL 782.652615 433.192125 \nL 782.652615 328.778504 \nL 773.652436 328.778504 \nz\n\" clip-path=\"url(#p77095c8282)\" style=\"fill: #0000ff; opacity: 0.4\"/>\n   </g>\n   <g id=\"patch_83\">\n    <path d=\"M 782.652615 433.192125 \nL 791.652795 433.192125 \nL 791.652795 245.247607 \nL 782.652615 245.247607 \nz\n\" clip-path=\"url(#p77095c8282)\" style=\"fill: #0000ff; opacity: 0.4\"/>\n   </g>\n   <g id=\"patch_84\">\n    <path d=\"M 791.652795 433.192125 \nL 800.652975 433.192125 \nL 800.652975 297.454417 \nL 791.652795 297.454417 \nz\n\" clip-path=\"url(#p77095c8282)\" style=\"fill: #0000ff; opacity: 0.4\"/>\n   </g>\n   <g id=\"patch_85\">\n    <path d=\"M 800.652975 433.192125 \nL 809.653155 433.192125 \nL 809.653155 328.778504 \nL 800.652975 328.778504 \nz\n\" clip-path=\"url(#p77095c8282)\" style=\"fill: #0000ff; opacity: 0.4\"/>\n   </g>\n   <g id=\"patch_86\">\n    <path d=\"M 809.653155 433.192125 \nL 818.653335 433.192125 \nL 818.653335 360.10259 \nL 809.653155 360.10259 \nz\n\" clip-path=\"url(#p77095c8282)\" style=\"fill: #0000ff; opacity: 0.4\"/>\n   </g>\n   <g id=\"patch_87\">\n    <path d=\"M 818.653335 433.192125 \nL 827.653514 433.192125 \nL 827.653514 412.309401 \nL 818.653335 412.309401 \nz\n\" clip-path=\"url(#p77095c8282)\" style=\"fill: #0000ff; opacity: 0.4\"/>\n   </g>\n   <g id=\"patch_88\">\n    <path d=\"M 827.653514 433.192125 \nL 836.653694 433.192125 \nL 836.653694 401.868039 \nL 827.653514 401.868039 \nz\n\" clip-path=\"url(#p77095c8282)\" style=\"fill: #0000ff; opacity: 0.4\"/>\n   </g>\n   <g id=\"patch_89\">\n    <path d=\"M 836.653694 433.192125 \nL 845.653874 433.192125 \nL 845.653874 422.750763 \nL 836.653694 422.750763 \nz\n\" clip-path=\"url(#p77095c8282)\" style=\"fill: #0000ff; opacity: 0.4\"/>\n   </g>\n   <g id=\"patch_90\">\n    <path d=\"M 845.653874 433.192125 \nL 854.654054 433.192125 \nL 854.654054 422.750763 \nL 845.653874 422.750763 \nz\n\" clip-path=\"url(#p77095c8282)\" style=\"fill: #0000ff; opacity: 0.4\"/>\n   </g>\n   <g id=\"patch_91\">\n    <path d=\"M 854.654054 433.192125 \nL 863.654234 433.192125 \nL 863.654234 422.750763 \nL 854.654054 422.750763 \nz\n\" clip-path=\"url(#p77095c8282)\" style=\"fill: #0000ff; opacity: 0.4\"/>\n   </g>\n   <g id=\"patch_92\">\n    <path d=\"M 712.249942 433.192125 \nL 726.415794 433.192125 \nL 726.415794 418.711785 \nL 712.249942 418.711785 \nz\n\" clip-path=\"url(#p77095c8282)\" style=\"fill: #ff0000; opacity: 0.4\"/>\n   </g>\n   <g id=\"patch_93\">\n    <path d=\"M 726.415794 433.192125 \nL 740.581645 433.192125 \nL 740.581645 433.192125 \nL 726.415794 433.192125 \nz\n\" clip-path=\"url(#p77095c8282)\" style=\"fill: #ff0000; opacity: 0.4\"/>\n   </g>\n   <g id=\"patch_94\">\n    <path d=\"M 740.581645 433.192125 \nL 754.747496 433.192125 \nL 754.747496 433.192125 \nL 740.581645 433.192125 \nz\n\" clip-path=\"url(#p77095c8282)\" style=\"fill: #ff0000; opacity: 0.4\"/>\n   </g>\n   <g id=\"patch_95\">\n    <path d=\"M 754.747496 433.192125 \nL 768.913347 433.192125 \nL 768.913347 404.231445 \nL 754.747496 404.231445 \nz\n\" clip-path=\"url(#p77095c8282)\" style=\"fill: #ff0000; opacity: 0.4\"/>\n   </g>\n   <g id=\"patch_96\">\n    <path d=\"M 768.913347 433.192125 \nL 783.079198 433.192125 \nL 783.079198 433.192125 \nL 768.913347 433.192125 \nz\n\" clip-path=\"url(#p77095c8282)\" style=\"fill: #ff0000; opacity: 0.4\"/>\n   </g>\n   <g id=\"patch_97\">\n    <path d=\"M 783.079198 433.192125 \nL 797.24505 433.192125 \nL 797.24505 375.270765 \nL 783.079198 375.270765 \nz\n\" clip-path=\"url(#p77095c8282)\" style=\"fill: #ff0000; opacity: 0.4\"/>\n   </g>\n   <g id=\"patch_98\">\n    <path d=\"M 797.24505 433.192125 \nL 811.410901 433.192125 \nL 811.410901 346.310085 \nL 797.24505 346.310085 \nz\n\" clip-path=\"url(#p77095c8282)\" style=\"fill: #ff0000; opacity: 0.4\"/>\n   </g>\n   <g id=\"patch_99\">\n    <path d=\"M 811.410901 433.192125 \nL 825.576752 433.192125 \nL 825.576752 302.869066 \nL 811.410901 302.869066 \nz\n\" clip-path=\"url(#p77095c8282)\" style=\"fill: #ff0000; opacity: 0.4\"/>\n   </g>\n   <g id=\"patch_100\">\n    <path d=\"M 825.576752 433.192125 \nL 839.742603 433.192125 \nL 839.742603 317.349406 \nL 825.576752 317.349406 \nz\n\" clip-path=\"url(#p77095c8282)\" style=\"fill: #ff0000; opacity: 0.4\"/>\n   </g>\n   <g id=\"patch_101\">\n    <path d=\"M 839.742603 433.192125 \nL 853.908454 433.192125 \nL 853.908454 389.751105 \nL 839.742603 389.751105 \nz\n\" clip-path=\"url(#p77095c8282)\" style=\"fill: #ff0000; opacity: 0.4\"/>\n   </g>\n   <g id=\"patch_102\">\n    <path d=\"M 853.908454 433.192125 \nL 868.074306 433.192125 \nL 868.074306 273.908386 \nL 853.908454 273.908386 \nz\n\" clip-path=\"url(#p77095c8282)\" style=\"fill: #ff0000; opacity: 0.4\"/>\n   </g>\n   <g id=\"patch_103\">\n    <path d=\"M 868.074306 433.192125 \nL 882.240157 433.192125 \nL 882.240157 244.947706 \nL 868.074306 244.947706 \nz\n\" clip-path=\"url(#p77095c8282)\" style=\"fill: #ff0000; opacity: 0.4\"/>\n   </g>\n   <g id=\"patch_104\">\n    <path d=\"M 882.240157 433.192125 \nL 896.406008 433.192125 \nL 896.406008 259.428046 \nL 882.240157 259.428046 \nz\n\" clip-path=\"url(#p77095c8282)\" style=\"fill: #ff0000; opacity: 0.4\"/>\n   </g>\n   <g id=\"patch_105\">\n    <path d=\"M 896.406008 433.192125 \nL 910.571859 433.192125 \nL 910.571859 375.270765 \nL 896.406008 375.270765 \nz\n\" clip-path=\"url(#p77095c8282)\" style=\"fill: #ff0000; opacity: 0.4\"/>\n   </g>\n   <g id=\"patch_106\">\n    <path d=\"M 910.571859 433.192125 \nL 924.73771 433.192125 \nL 924.73771 331.829746 \nL 910.571859 331.829746 \nz\n\" clip-path=\"url(#p77095c8282)\" style=\"fill: #ff0000; opacity: 0.4\"/>\n   </g>\n   <g id=\"patch_107\">\n    <path d=\"M 924.73771 433.192125 \nL 938.903562 433.192125 \nL 938.903562 404.231445 \nL 924.73771 404.231445 \nz\n\" clip-path=\"url(#p77095c8282)\" style=\"fill: #ff0000; opacity: 0.4\"/>\n   </g>\n   <g id=\"patch_108\">\n    <path d=\"M 938.903562 433.192125 \nL 953.069413 433.192125 \nL 953.069413 346.310085 \nL 938.903562 346.310085 \nz\n\" clip-path=\"url(#p77095c8282)\" style=\"fill: #ff0000; opacity: 0.4\"/>\n   </g>\n   <g id=\"patch_109\">\n    <path d=\"M 953.069413 433.192125 \nL 967.235264 433.192125 \nL 967.235264 389.751105 \nL 953.069413 389.751105 \nz\n\" clip-path=\"url(#p77095c8282)\" style=\"fill: #ff0000; opacity: 0.4\"/>\n   </g>\n   <g id=\"patch_110\">\n    <path d=\"M 967.235264 433.192125 \nL 981.401115 433.192125 \nL 981.401115 433.192125 \nL 967.235264 433.192125 \nz\n\" clip-path=\"url(#p77095c8282)\" style=\"fill: #ff0000; opacity: 0.4\"/>\n   </g>\n   <g id=\"patch_111\">\n    <path d=\"M 981.401115 433.192125 \nL 995.566966 433.192125 \nL 995.566966 404.231445 \nL 981.401115 404.231445 \nz\n\" clip-path=\"url(#p77095c8282)\" style=\"fill: #ff0000; opacity: 0.4\"/>\n   </g>\n   <g id=\"patch_112\">\n    <path d=\"M 712.433688 433.192125 \nL 720.191168 433.192125 \nL 720.191168 407.306411 \nL 712.433688 407.306411 \nz\n\" clip-path=\"url(#p77095c8282)\" style=\"fill: #ffa500; opacity: 0.4\"/>\n   </g>\n   <g id=\"patch_113\">\n    <path d=\"M 720.191168 433.192125 \nL 727.948647 433.192125 \nL 727.948647 381.420696 \nL 720.191168 381.420696 \nz\n\" clip-path=\"url(#p77095c8282)\" style=\"fill: #ffa500; opacity: 0.4\"/>\n   </g>\n   <g id=\"patch_114\">\n    <path d=\"M 727.948647 433.192125 \nL 735.706126 433.192125 \nL 735.706126 381.420696 \nL 727.948647 381.420696 \nz\n\" clip-path=\"url(#p77095c8282)\" style=\"fill: #ffa500; opacity: 0.4\"/>\n   </g>\n   <g id=\"patch_115\">\n    <path d=\"M 735.706126 433.192125 \nL 743.463605 433.192125 \nL 743.463605 433.192125 \nL 735.706126 433.192125 \nz\n\" clip-path=\"url(#p77095c8282)\" style=\"fill: #ffa500; opacity: 0.4\"/>\n   </g>\n   <g id=\"patch_116\">\n    <path d=\"M 743.463605 433.192125 \nL 751.221085 433.192125 \nL 751.221085 355.534982 \nL 743.463605 355.534982 \nz\n\" clip-path=\"url(#p77095c8282)\" style=\"fill: #ffa500; opacity: 0.4\"/>\n   </g>\n   <g id=\"patch_117\">\n    <path d=\"M 751.221085 433.192125 \nL 758.978564 433.192125 \nL 758.978564 251.992125 \nL 751.221085 251.992125 \nz\n\" clip-path=\"url(#p77095c8282)\" style=\"fill: #ffa500; opacity: 0.4\"/>\n   </g>\n   <g id=\"patch_118\">\n    <path d=\"M 758.978564 433.192125 \nL 766.736043 433.192125 \nL 766.736043 329.649268 \nL 758.978564 329.649268 \nz\n\" clip-path=\"url(#p77095c8282)\" style=\"fill: #ffa500; opacity: 0.4\"/>\n   </g>\n   <g id=\"patch_119\">\n    <path d=\"M 766.736043 433.192125 \nL 774.493522 433.192125 \nL 774.493522 303.763554 \nL 766.736043 303.763554 \nz\n\" clip-path=\"url(#p77095c8282)\" style=\"fill: #ffa500; opacity: 0.4\"/>\n   </g>\n   <g id=\"patch_120\">\n    <path d=\"M 774.493522 433.192125 \nL 782.251002 433.192125 \nL 782.251002 174.334982 \nL 774.493522 174.334982 \nz\n\" clip-path=\"url(#p77095c8282)\" style=\"fill: #ffa500; opacity: 0.4\"/>\n   </g>\n   <g id=\"patch_121\">\n    <path d=\"M 782.251002 433.192125 \nL 790.008481 433.192125 \nL 790.008481 70.792125 \nL 782.251002 70.792125 \nz\n\" clip-path=\"url(#p77095c8282)\" style=\"fill: #ffa500; opacity: 0.4\"/>\n   </g>\n   <g id=\"patch_122\">\n    <path d=\"M 790.008481 433.192125 \nL 797.76596 433.192125 \nL 797.76596 200.220696 \nL 790.008481 200.220696 \nz\n\" clip-path=\"url(#p77095c8282)\" style=\"fill: #ffa500; opacity: 0.4\"/>\n   </g>\n   <g id=\"patch_123\">\n    <path d=\"M 797.76596 433.192125 \nL 805.523439 433.192125 \nL 805.523439 122.563554 \nL 797.76596 122.563554 \nz\n\" clip-path=\"url(#p77095c8282)\" style=\"fill: #ffa500; opacity: 0.4\"/>\n   </g>\n   <g id=\"patch_124\">\n    <path d=\"M 805.523439 433.192125 \nL 813.280919 433.192125 \nL 813.280919 174.334982 \nL 805.523439 174.334982 \nz\n\" clip-path=\"url(#p77095c8282)\" style=\"fill: #ffa500; opacity: 0.4\"/>\n   </g>\n   <g id=\"patch_125\">\n    <path d=\"M 813.280919 433.192125 \nL 821.038398 433.192125 \nL 821.038398 277.877839 \nL 813.280919 277.877839 \nz\n\" clip-path=\"url(#p77095c8282)\" style=\"fill: #ffa500; opacity: 0.4\"/>\n   </g>\n   <g id=\"patch_126\">\n    <path d=\"M 821.038398 433.192125 \nL 828.795877 433.192125 \nL 828.795877 277.877839 \nL 821.038398 277.877839 \nz\n\" clip-path=\"url(#p77095c8282)\" style=\"fill: #ffa500; opacity: 0.4\"/>\n   </g>\n   <g id=\"patch_127\">\n    <path d=\"M 828.795877 433.192125 \nL 836.553356 433.192125 \nL 836.553356 381.420696 \nL 828.795877 381.420696 \nz\n\" clip-path=\"url(#p77095c8282)\" style=\"fill: #ffa500; opacity: 0.4\"/>\n   </g>\n   <g id=\"patch_128\">\n    <path d=\"M 836.553356 433.192125 \nL 844.310836 433.192125 \nL 844.310836 407.306411 \nL 836.553356 407.306411 \nz\n\" clip-path=\"url(#p77095c8282)\" style=\"fill: #ffa500; opacity: 0.4\"/>\n   </g>\n   <g id=\"patch_129\">\n    <path d=\"M 844.310836 433.192125 \nL 852.068315 433.192125 \nL 852.068315 433.192125 \nL 844.310836 433.192125 \nz\n\" clip-path=\"url(#p77095c8282)\" style=\"fill: #ffa500; opacity: 0.4\"/>\n   </g>\n   <g id=\"patch_130\">\n    <path d=\"M 852.068315 433.192125 \nL 859.825794 433.192125 \nL 859.825794 433.192125 \nL 852.068315 433.192125 \nz\n\" clip-path=\"url(#p77095c8282)\" style=\"fill: #ffa500; opacity: 0.4\"/>\n   </g>\n   <g id=\"patch_131\">\n    <path d=\"M 859.825794 433.192125 \nL 867.583273 433.192125 \nL 867.583273 407.306411 \nL 859.825794 407.306411 \nz\n\" clip-path=\"url(#p77095c8282)\" style=\"fill: #ffa500; opacity: 0.4\"/>\n   </g>\n   <g id=\"matplotlib.axis_3\">\n    <g id=\"xtick_7\">\n     <g id=\"line2d_18\">\n      <g>\n       <use xlink:href=\"#m75d5865c66\" x=\"632.184303\" y=\"433.192125\" style=\"stroke: #000000; stroke-width: 0.8\"/>\n      </g>\n     </g>\n     <g id=\"text_19\">\n      <!-- 0.0 -->\n      <g transform=\"translate(617.87149 453.869312)scale(0.18 -0.18)\">\n       <use xlink:href=\"#DejaVuSans-30\"/>\n       <use xlink:href=\"#DejaVuSans-2e\" x=\"63.623047\"/>\n       <use xlink:href=\"#DejaVuSans-30\" x=\"95.410156\"/>\n      </g>\n     </g>\n    </g>\n    <g id=\"xtick_8\">\n     <g id=\"line2d_19\">\n      <g>\n       <use xlink:href=\"#m75d5865c66\" x=\"715.192567\" y=\"433.192125\" style=\"stroke: #000000; stroke-width: 0.8\"/>\n      </g>\n     </g>\n     <g id=\"text_20\">\n      <!-- 0.1 -->\n      <g transform=\"translate(700.879755 453.869312)scale(0.18 -0.18)\">\n       <use xlink:href=\"#DejaVuSans-30\"/>\n       <use xlink:href=\"#DejaVuSans-2e\" x=\"63.623047\"/>\n       <use xlink:href=\"#DejaVuSans-31\" x=\"95.410156\"/>\n      </g>\n     </g>\n    </g>\n    <g id=\"xtick_9\">\n     <g id=\"line2d_20\">\n      <g>\n       <use xlink:href=\"#m75d5865c66\" x=\"798.200832\" y=\"433.192125\" style=\"stroke: #000000; stroke-width: 0.8\"/>\n      </g>\n     </g>\n     <g id=\"text_21\">\n      <!-- 0.2 -->\n      <g transform=\"translate(783.888019 453.869312)scale(0.18 -0.18)\">\n       <use xlink:href=\"#DejaVuSans-30\"/>\n       <use xlink:href=\"#DejaVuSans-2e\" x=\"63.623047\"/>\n       <use xlink:href=\"#DejaVuSans-32\" x=\"95.410156\"/>\n      </g>\n     </g>\n    </g>\n    <g id=\"xtick_10\">\n     <g id=\"line2d_21\">\n      <g>\n       <use xlink:href=\"#m75d5865c66\" x=\"881.209096\" y=\"433.192125\" style=\"stroke: #000000; stroke-width: 0.8\"/>\n      </g>\n     </g>\n     <g id=\"text_22\">\n      <!-- 0.3 -->\n      <g transform=\"translate(866.896284 453.869312)scale(0.18 -0.18)\">\n       <use xlink:href=\"#DejaVuSans-30\"/>\n       <use xlink:href=\"#DejaVuSans-2e\" x=\"63.623047\"/>\n       <use xlink:href=\"#DejaVuSans-33\" x=\"95.410156\"/>\n      </g>\n     </g>\n    </g>\n    <g id=\"xtick_11\">\n     <g id=\"line2d_22\">\n      <g>\n       <use xlink:href=\"#m75d5865c66\" x=\"964.217361\" y=\"433.192125\" style=\"stroke: #000000; stroke-width: 0.8\"/>\n      </g>\n     </g>\n     <g id=\"text_23\">\n      <!-- 0.4 -->\n      <g transform=\"translate(949.904548 453.869312)scale(0.18 -0.18)\">\n       <use xlink:href=\"#DejaVuSans-30\"/>\n       <use xlink:href=\"#DejaVuSans-2e\" x=\"63.623047\"/>\n       <use xlink:href=\"#DejaVuSans-34\" x=\"95.410156\"/>\n      </g>\n     </g>\n    </g>\n    <g id=\"xtick_12\">\n     <g id=\"line2d_23\">\n      <g>\n       <use xlink:href=\"#m75d5865c66\" x=\"1047.225625\" y=\"433.192125\" style=\"stroke: #000000; stroke-width: 0.8\"/>\n      </g>\n     </g>\n     <g id=\"text_24\">\n      <!-- 0.5 -->\n      <g transform=\"translate(1032.912812 453.869312)scale(0.18 -0.18)\">\n       <use xlink:href=\"#DejaVuSans-30\"/>\n       <use xlink:href=\"#DejaVuSans-2e\" x=\"63.623047\"/>\n       <use xlink:href=\"#DejaVuSans-35\" x=\"95.410156\"/>\n      </g>\n     </g>\n    </g>\n   </g>\n   <g id=\"matplotlib.axis_4\">\n    <g id=\"ytick_9\">\n     <g id=\"line2d_24\">\n      <g>\n       <use xlink:href=\"#m6883b93681\" x=\"590.68017\" y=\"433.192125\" style=\"stroke: #000000; stroke-width: 0.8\"/>\n      </g>\n     </g>\n     <g id=\"text_25\">\n      <!-- 0 -->\n      <g transform=\"translate(572.22767 440.030719)scale(0.18 -0.18)\">\n       <use xlink:href=\"#DejaVuSans-30\"/>\n      </g>\n     </g>\n    </g>\n    <g id=\"ytick_10\">\n     <g id=\"line2d_25\">\n      <g>\n       <use xlink:href=\"#m6883b93681\" x=\"590.68017\" y=\"387.22863\" style=\"stroke: #000000; stroke-width: 0.8\"/>\n      </g>\n     </g>\n     <g id=\"text_26\">\n      <!-- 2 -->\n      <g transform=\"translate(572.22767 394.067224)scale(0.18 -0.18)\">\n       <use xlink:href=\"#DejaVuSans-32\"/>\n      </g>\n     </g>\n    </g>\n    <g id=\"ytick_11\">\n     <g id=\"line2d_26\">\n      <g>\n       <use xlink:href=\"#m6883b93681\" x=\"590.68017\" y=\"341.265135\" style=\"stroke: #000000; stroke-width: 0.8\"/>\n      </g>\n     </g>\n     <g id=\"text_27\">\n      <!-- 4 -->\n      <g transform=\"translate(572.22767 348.103729)scale(0.18 -0.18)\">\n       <use xlink:href=\"#DejaVuSans-34\"/>\n      </g>\n     </g>\n    </g>\n    <g id=\"ytick_12\">\n     <g id=\"line2d_27\">\n      <g>\n       <use xlink:href=\"#m6883b93681\" x=\"590.68017\" y=\"295.30164\" style=\"stroke: #000000; stroke-width: 0.8\"/>\n      </g>\n     </g>\n     <g id=\"text_28\">\n      <!-- 6 -->\n      <g transform=\"translate(572.22767 302.140234)scale(0.18 -0.18)\">\n       <use xlink:href=\"#DejaVuSans-36\"/>\n      </g>\n     </g>\n    </g>\n    <g id=\"ytick_13\">\n     <g id=\"line2d_28\">\n      <g>\n       <use xlink:href=\"#m6883b93681\" x=\"590.68017\" y=\"249.338146\" style=\"stroke: #000000; stroke-width: 0.8\"/>\n      </g>\n     </g>\n     <g id=\"text_29\">\n      <!-- 8 -->\n      <g transform=\"translate(572.22767 256.176739)scale(0.18 -0.18)\">\n       <use xlink:href=\"#DejaVuSans-38\"/>\n      </g>\n     </g>\n    </g>\n    <g id=\"ytick_14\">\n     <g id=\"line2d_29\">\n      <g>\n       <use xlink:href=\"#m6883b93681\" x=\"590.68017\" y=\"203.374651\" style=\"stroke: #000000; stroke-width: 0.8\"/>\n      </g>\n     </g>\n     <g id=\"text_30\">\n      <!-- 10 -->\n      <g transform=\"translate(560.77517 210.213244)scale(0.18 -0.18)\">\n       <use xlink:href=\"#DejaVuSans-31\"/>\n       <use xlink:href=\"#DejaVuSans-30\" x=\"63.623047\"/>\n      </g>\n     </g>\n    </g>\n    <g id=\"ytick_15\">\n     <g id=\"line2d_30\">\n      <g>\n       <use xlink:href=\"#m6883b93681\" x=\"590.68017\" y=\"157.411156\" style=\"stroke: #000000; stroke-width: 0.8\"/>\n      </g>\n     </g>\n     <g id=\"text_31\">\n      <!-- 12 -->\n      <g transform=\"translate(560.77517 164.24975)scale(0.18 -0.18)\">\n       <use xlink:href=\"#DejaVuSans-31\"/>\n       <use xlink:href=\"#DejaVuSans-32\" x=\"63.623047\"/>\n      </g>\n     </g>\n    </g>\n    <g id=\"ytick_16\">\n     <g id=\"line2d_31\">\n      <g>\n       <use xlink:href=\"#m6883b93681\" x=\"590.68017\" y=\"111.447661\" style=\"stroke: #000000; stroke-width: 0.8\"/>\n      </g>\n     </g>\n     <g id=\"text_32\">\n      <!-- 14 -->\n      <g transform=\"translate(560.77517 118.286255)scale(0.18 -0.18)\">\n       <use xlink:href=\"#DejaVuSans-31\"/>\n       <use xlink:href=\"#DejaVuSans-34\" x=\"63.623047\"/>\n      </g>\n     </g>\n    </g>\n    <g id=\"ytick_17\">\n     <g id=\"line2d_32\">\n      <g>\n       <use xlink:href=\"#m6883b93681\" x=\"590.68017\" y=\"65.484166\" style=\"stroke: #000000; stroke-width: 0.8\"/>\n      </g>\n     </g>\n     <g id=\"text_33\">\n      <!-- 16 -->\n      <g transform=\"translate(560.77517 72.32276)scale(0.18 -0.18)\">\n       <use xlink:href=\"#DejaVuSans-31\"/>\n       <use xlink:href=\"#DejaVuSans-36\" x=\"63.623047\"/>\n      </g>\n     </g>\n    </g>\n   </g>\n   <g id=\"line2d_33\">\n    <path d=\"M 632.184303 433.037998 \nL 640.568976 432.299948 \nL 648.953649 429.214959 \nL 657.338322 419.486155 \nL 665.722995 396.490196 \nL 674.107669 356.287445 \nL 682.492342 305.864652 \nL 690.877015 264.306473 \nL 699.261688 250.03387 \nL 707.646361 265.495753 \nL 716.031034 296.53065 \nL 724.415708 325.391218 \nL 732.800381 342.092583 \nL 741.185054 345.927051 \nL 749.569727 341.000854 \nL 757.9544 331.735449 \nL 766.339074 321.056924 \nL 774.723747 311.355955 \nL 783.10842 305.997044 \nL 791.493093 308.735486 \nL 799.877766 321.340041 \nL 808.262439 342.008405 \nL 816.647113 365.945091 \nL 825.031786 387.711248 \nL 833.416459 403.984148 \nL 841.801132 414.575036 \nL 850.185805 421.104952 \nL 858.570478 425.276937 \nL 866.955152 428.184807 \nL 875.339825 430.317905 \nL 883.724498 431.785187 \nL 892.109171 432.631761 \nL 900.493844 433.015928 \nL 908.878518 433.149164 \nL 917.263191 433.184086 \nL 925.647864 433.190978 \nL 934.032537 433.192001 \nL 942.41721 433.192115 \nL 950.801883 433.192124 \nL 959.186557 433.192125 \nL 967.57123 433.192125 \nL 975.955903 433.192125 \nL 984.340576 433.192125 \nL 992.725249 433.192125 \nL 1001.109923 433.192125 \nL 1009.494596 433.192125 \nL 1017.879269 433.192125 \nL 1026.263942 433.192125 \nL 1034.648615 433.192125 \nL 1043.033288 433.192125 \nL 1051.417962 433.192125 \nL 1059.802635 433.192125 \nL 1068.187308 433.192125 \nL 1069.738437 433.192125 \n\" clip-path=\"url(#p77095c8282)\" style=\"fill: none; stroke: #0000ff; stroke-width: 1.5; stroke-linecap: square\"/>\n   </g>\n   <g id=\"line2d_34\">\n    <path d=\"M 632.184303 433.188976 \nL 640.568976 433.179211 \nL 648.953649 433.146813 \nL 657.338322 433.056075 \nL 665.722995 432.842517 \nL 674.107669 432.422917 \nL 682.492342 431.741559 \nL 690.877015 430.841441 \nL 699.261688 429.897133 \nL 707.646361 429.132171 \nL 716.031034 428.627273 \nL 724.415708 428.154743 \nL 732.800381 427.196933 \nL 741.185054 425.156773 \nL 749.569727 421.589132 \nL 757.9544 416.274306 \nL 766.339074 409.130512 \nL 774.723747 400.13025 \nL 783.10842 389.378674 \nL 791.493093 377.345391 \nL 799.877766 365.04476 \nL 808.262439 353.873392 \nL 816.647113 344.967051 \nL 825.031786 338.354562 \nL 833.416459 332.588533 \nL 841.801132 325.44375 \nL 850.185805 315.519196 \nL 858.570478 303.680955 \nL 866.955152 293.127903 \nL 875.339825 287.796497 \nL 883.724498 290.138712 \nL 892.109171 299.831984 \nL 900.493844 314.218112 \nL 908.878518 329.925569 \nL 917.263191 344.424265 \nL 925.647864 356.678521 \nL 934.032537 366.928734 \nL 942.41721 376.053837 \nL 950.801883 384.878636 \nL 959.186557 393.676904 \nL 967.57123 402.098084 \nL 975.955903 409.539282 \nL 984.340576 415.632079 \nL 992.725249 420.431835 \nL 1001.109923 424.227956 \nL 1009.494596 427.254354 \nL 1017.879269 429.584438 \nL 1026.263942 431.22649 \nL 1034.648615 432.246767 \nL 1043.033288 432.794843 \nL 1051.417962 433.04717 \nL 1059.802635 433.146392 \nL 1068.187308 433.179682 \nL 1069.738437 433.181445 \n\" clip-path=\"url(#p77095c8282)\" style=\"fill: none; stroke: #ff0000; stroke-width: 1.5; stroke-linecap: square\"/>\n   </g>\n   <g id=\"line2d_35\">\n    <path d=\"M 632.184303 433.192125 \nL 640.568976 433.192125 \nL 648.953649 433.192124 \nL 657.338322 433.192091 \nL 665.722995 433.191045 \nL 674.107669 433.172192 \nL 682.492342 432.978228 \nL 690.877015 431.824306 \nL 699.261688 427.770025 \nL 707.646361 419.155875 \nL 716.031034 408.115938 \nL 724.415708 399.691536 \nL 732.800381 391.75003 \nL 741.185054 371.751378 \nL 749.569727 338.054157 \nL 757.9544 306.333706 \nL 766.339074 274.938513 \nL 774.723747 226.660399 \nL 783.10842 175.3426 \nL 791.493093 153.040974 \nL 799.877766 165.802517 \nL 808.262439 201.767755 \nL 816.647113 249.597747 \nL 825.031786 302.135927 \nL 833.416459 354.67227 \nL 841.801132 396.450423 \nL 850.185805 418.780995 \nL 858.570478 425.053793 \nL 866.955152 425.518848 \nL 875.339825 427.493053 \nL 883.724498 430.6788 \nL 892.109171 432.56088 \nL 900.493844 433.102325 \nL 908.878518 433.184895 \nL 917.263191 433.191796 \nL 925.647864 433.192117 \nL 934.032537 433.192125 \nL 942.41721 433.192125 \nL 950.801883 433.192125 \nL 959.186557 433.192125 \nL 967.57123 433.192125 \nL 975.955903 433.192125 \nL 984.340576 433.192125 \nL 992.725249 433.192125 \nL 1001.109923 433.192125 \nL 1009.494596 433.192125 \nL 1017.879269 433.192125 \nL 1026.263942 433.192125 \nL 1034.648615 433.192125 \nL 1043.033288 433.192125 \nL 1051.417962 433.192125 \nL 1059.802635 433.192125 \nL 1068.187308 433.192125 \nL 1069.738437 433.192125 \n\" clip-path=\"url(#p77095c8282)\" style=\"fill: none; stroke: #ffa500; stroke-width: 1.5; stroke-linecap: square\"/>\n   </g>\n   <g id=\"patch_132\">\n    <path d=\"M 590.68017 433.192125 \nL 590.68017 52.672125 \n\" style=\"fill: none; stroke: #000000; stroke-width: 0.8; stroke-linejoin: miter; stroke-linecap: square\"/>\n   </g>\n   <g id=\"patch_133\">\n    <path d=\"M 1047.225625 433.192125 \nL 1047.225625 52.672125 \n\" style=\"fill: none; stroke: #000000; stroke-width: 0.8; stroke-linejoin: miter; stroke-linecap: square\"/>\n   </g>\n   <g id=\"patch_134\">\n    <path d=\"M 590.68017 433.192125 \nL 1047.225625 433.192125 \n\" style=\"fill: none; stroke: #000000; stroke-width: 0.8; stroke-linejoin: miter; stroke-linecap: square\"/>\n   </g>\n   <g id=\"patch_135\">\n    <path d=\"M 590.68017 52.672125 \nL 1047.225625 52.672125 \n\" style=\"fill: none; stroke: #000000; stroke-width: 0.8; stroke-linejoin: miter; stroke-linecap: square\"/>\n   </g>\n   <g id=\"text_34\">\n    <!-- (b) Distances to SRV mean -->\n    <g transform=\"translate(678.479304 23.156719)scale(0.21 -0.21)\">\n     <defs>\n      <path id=\"DejaVuSans-62\" d=\"M 3116 1747 \nQ 3116 2381 2855 2742 \nQ 2594 3103 2138 3103 \nQ 1681 3103 1420 2742 \nQ 1159 2381 1159 1747 \nQ 1159 1113 1420 752 \nQ 1681 391 2138 391 \nQ 2594 391 2855 752 \nQ 3116 1113 3116 1747 \nz\nM 1159 2969 \nQ 1341 3281 1617 3432 \nQ 1894 3584 2278 3584 \nQ 2916 3584 3314 3078 \nQ 3713 2572 3713 1747 \nQ 3713 922 3314 415 \nQ 2916 -91 2278 -91 \nQ 1894 -91 1617 61 \nQ 1341 213 1159 525 \nL 1159 0 \nL 581 0 \nL 581 4863 \nL 1159 4863 \nL 1159 2969 \nz\n\" transform=\"scale(0.015625)\"/>\n      <path id=\"DejaVuSans-53\" d=\"M 3425 4513 \nL 3425 3897 \nQ 3066 4069 2747 4153 \nQ 2428 4238 2131 4238 \nQ 1616 4238 1336 4038 \nQ 1056 3838 1056 3469 \nQ 1056 3159 1242 3001 \nQ 1428 2844 1947 2747 \nL 2328 2669 \nQ 3034 2534 3370 2195 \nQ 3706 1856 3706 1288 \nQ 3706 609 3251 259 \nQ 2797 -91 1919 -91 \nQ 1588 -91 1214 -16 \nQ 841 59 441 206 \nL 441 856 \nQ 825 641 1194 531 \nQ 1563 422 1919 422 \nQ 2459 422 2753 634 \nQ 3047 847 3047 1241 \nQ 3047 1584 2836 1778 \nQ 2625 1972 2144 2069 \nL 1759 2144 \nQ 1053 2284 737 2584 \nQ 422 2884 422 3419 \nQ 422 4038 858 4394 \nQ 1294 4750 2059 4750 \nQ 2388 4750 2728 4690 \nQ 3069 4631 3425 4513 \nz\n\" transform=\"scale(0.015625)\"/>\n      <path id=\"DejaVuSans-52\" d=\"M 2841 2188 \nQ 3044 2119 3236 1894 \nQ 3428 1669 3622 1275 \nL 4263 0 \nL 3584 0 \nL 2988 1197 \nQ 2756 1666 2539 1819 \nQ 2322 1972 1947 1972 \nL 1259 1972 \nL 1259 0 \nL 628 0 \nL 628 4666 \nL 2053 4666 \nQ 2853 4666 3247 4331 \nQ 3641 3997 3641 3322 \nQ 3641 2881 3436 2590 \nQ 3231 2300 2841 2188 \nz\nM 1259 4147 \nL 1259 2491 \nL 2053 2491 \nQ 2509 2491 2742 2702 \nQ 2975 2913 2975 3322 \nQ 2975 3731 2742 3939 \nQ 2509 4147 2053 4147 \nL 1259 4147 \nz\n\" transform=\"scale(0.015625)\"/>\n      <path id=\"DejaVuSans-56\" d=\"M 1831 0 \nL 50 4666 \nL 709 4666 \nL 2188 738 \nL 3669 4666 \nL 4325 4666 \nL 2547 0 \nL 1831 0 \nz\n\" transform=\"scale(0.015625)\"/>\n     </defs>\n     <use xlink:href=\"#DejaVuSans-28\"/>\n     <use xlink:href=\"#DejaVuSans-62\" x=\"39.013672\"/>\n     <use xlink:href=\"#DejaVuSans-29\" x=\"102.490234\"/>\n     <use xlink:href=\"#DejaVuSans-20\" x=\"141.503906\"/>\n     <use xlink:href=\"#DejaVuSans-44\" x=\"173.291016\"/>\n     <use xlink:href=\"#DejaVuSans-69\" x=\"250.292969\"/>\n     <use xlink:href=\"#DejaVuSans-73\" x=\"278.076172\"/>\n     <use xlink:href=\"#DejaVuSans-74\" x=\"330.175781\"/>\n     <use xlink:href=\"#DejaVuSans-61\" x=\"369.384766\"/>\n     <use xlink:href=\"#DejaVuSans-6e\" x=\"430.664062\"/>\n     <use xlink:href=\"#DejaVuSans-63\" x=\"494.042969\"/>\n     <use xlink:href=\"#DejaVuSans-65\" x=\"549.023438\"/>\n     <use xlink:href=\"#DejaVuSans-73\" x=\"610.546875\"/>\n     <use xlink:href=\"#DejaVuSans-20\" x=\"662.646484\"/>\n     <use xlink:href=\"#DejaVuSans-74\" x=\"694.433594\"/>\n     <use xlink:href=\"#DejaVuSans-6f\" x=\"733.642578\"/>\n     <use xlink:href=\"#DejaVuSans-20\" x=\"794.824219\"/>\n     <use xlink:href=\"#DejaVuSans-53\" x=\"826.611328\"/>\n     <use xlink:href=\"#DejaVuSans-52\" x=\"890.087891\"/>\n     <use xlink:href=\"#DejaVuSans-56\" x=\"954.070312\"/>\n     <use xlink:href=\"#DejaVuSans-20\" x=\"1022.478516\"/>\n     <use xlink:href=\"#DejaVuSans-6d\" x=\"1054.265625\"/>\n     <use xlink:href=\"#DejaVuSans-65\" x=\"1151.677734\"/>\n     <use xlink:href=\"#DejaVuSans-61\" x=\"1213.201172\"/>\n     <use xlink:href=\"#DejaVuSans-6e\" x=\"1274.480469\"/>\n    </g>\n    <!--  -->\n    <g transform=\"translate(818.952898 46.672125)scale(0.21 -0.21)\"/>\n   </g>\n   <g id=\"legend_2\">\n    <g id=\"patch_136\">\n     <path d=\"M 914.641562 146.334 \nL 1034.625625 146.334 \nQ 1038.225625 146.334 1038.225625 142.734 \nL 1038.225625 65.272125 \nQ 1038.225625 61.672125 1034.625625 61.672125 \nL 914.641562 61.672125 \nQ 911.041562 61.672125 911.041562 65.272125 \nL 911.041562 142.734 \nQ 911.041562 146.334 914.641562 146.334 \nz\n\" style=\"fill: #ffffff; opacity: 0.8; stroke: #cccccc; stroke-linejoin: miter\"/>\n    </g>\n    <g id=\"patch_137\">\n     <path d=\"M 918.241562 82.549312 \nL 954.241562 82.549312 \nL 954.241562 69.949312 \nL 918.241562 69.949312 \nz\n\" style=\"fill: #0000ff; opacity: 0.4\"/>\n    </g>\n    <g id=\"text_35\">\n     <!-- control -->\n     <g transform=\"translate(968.641562 82.549312)scale(0.18 -0.18)\">\n      <use xlink:href=\"#DejaVuSans-63\"/>\n      <use xlink:href=\"#DejaVuSans-6f\" x=\"54.980469\"/>\n      <use xlink:href=\"#DejaVuSans-6e\" x=\"116.162109\"/>\n      <use xlink:href=\"#DejaVuSans-74\" x=\"179.541016\"/>\n      <use xlink:href=\"#DejaVuSans-72\" x=\"218.75\"/>\n      <use xlink:href=\"#DejaVuSans-6f\" x=\"257.613281\"/>\n      <use xlink:href=\"#DejaVuSans-6c\" x=\"318.794922\"/>\n     </g>\n    </g>\n    <g id=\"patch_138\">\n     <path d=\"M 918.241562 108.969937 \nL 954.241562 108.969937 \nL 954.241562 96.369937 \nL 918.241562 96.369937 \nz\n\" style=\"fill: #ff0000; opacity: 0.4\"/>\n    </g>\n    <g id=\"text_36\">\n     <!-- cytd -->\n     <g transform=\"translate(968.641562 108.969937)scale(0.18 -0.18)\">\n      <use xlink:href=\"#DejaVuSans-63\"/>\n      <use xlink:href=\"#DejaVuSans-79\" x=\"54.980469\"/>\n      <use xlink:href=\"#DejaVuSans-74\" x=\"114.160156\"/>\n      <use xlink:href=\"#DejaVuSans-64\" x=\"153.369141\"/>\n     </g>\n    </g>\n    <g id=\"patch_139\">\n     <path d=\"M 918.241562 135.390562 \nL 954.241562 135.390562 \nL 954.241562 122.790562 \nL 918.241562 122.790562 \nz\n\" style=\"fill: #ffa500; opacity: 0.4\"/>\n    </g>\n    <g id=\"text_37\">\n     <!-- jasp -->\n     <g transform=\"translate(968.641562 135.390562)scale(0.18 -0.18)\">\n      <use xlink:href=\"#DejaVuSans-6a\"/>\n      <use xlink:href=\"#DejaVuSans-61\" x=\"27.783203\"/>\n      <use xlink:href=\"#DejaVuSans-73\" x=\"89.0625\"/>\n      <use xlink:href=\"#DejaVuSans-70\" x=\"141.162109\"/>\n     </g>\n    </g>\n   </g>\n  </g>\n </g>\n <defs>\n  <clipPath id=\"p91341cb2f3\">\n   <rect x=\"42.825625\" y=\"52.672125\" width=\"456.545455\" height=\"380.52\"/>\n  </clipPath>\n  <clipPath id=\"p77095c8282\">\n   <rect x=\"590.68017\" y=\"52.672125\" width=\"456.545455\" height=\"380.52\"/>\n  </clipPath>\n </defs>\n</svg>\n",
      "text/plain": [
       "<Figure size 1296x504 with 2 Axes>"
      ]
     },
     "metadata": {
      "needs_background": "light"
     },
     "output_type": "display_data"
    }
   ],
   "source": [
    "hist_dists_to_means(labels_b, labels_b_name)\n",
    "if SAVEFIG:\n",
    "    plt.savefig(os.path.join(figs_dir, f\"{now}_{cell_type}_dist_to_means_by_{labels_b_name}.pdf\"))"
   ]
  },
  {
   "cell_type": "code",
   "execution_count": null,
   "id": "c76808bd",
   "metadata": {},
   "outputs": [],
   "source": []
  },
  {
   "cell_type": "code",
   "execution_count": null,
   "id": "67328cc4",
   "metadata": {},
   "outputs": [],
   "source": []
  }
 ],
 "metadata": {
  "kernelspec": {
   "display_name": "dyn",
   "language": "python",
   "name": "python3"
  },
  "language_info": {
   "codemirror_mode": {
    "name": "ipython",
    "version": 3
   },
   "file_extension": ".py",
   "mimetype": "text/x-python",
   "name": "python",
   "nbconvert_exporter": "python",
   "pygments_lexer": "ipython3",
   "version": "3.8.16"
  },
  "vscode": {
   "interpreter": {
    "hash": "0b1d30a6b3488ac23ee1dfb7258a5542a73c870866e508c7e2014c7260e6b4c6"
   }
  }
 },
 "nbformat": 4,
 "nbformat_minor": 5
}
